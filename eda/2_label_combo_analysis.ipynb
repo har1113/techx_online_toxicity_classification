{
 "cells": [
  {
   "cell_type": "code",
   "execution_count": 61,
   "metadata": {},
   "outputs": [],
   "source": [
    "import pandas as pd\n",
    "import numpy as np\n",
    "import matplotlib.pyplot as plt\n",
    "import seaborn as sns"
   ]
  },
  {
   "cell_type": "code",
   "execution_count": 62,
   "metadata": {},
   "outputs": [],
   "source": [
    "df = pd.read_csv('../data/tox_with_sent_nulls_dropped.csv')"
   ]
  },
  {
   "cell_type": "code",
   "execution_count": 63,
   "metadata": {
    "scrolled": false
   },
   "outputs": [
    {
     "data": {
      "text/html": [
       "<div>\n",
       "<style scoped>\n",
       "    .dataframe tbody tr th:only-of-type {\n",
       "        vertical-align: middle;\n",
       "    }\n",
       "\n",
       "    .dataframe tbody tr th {\n",
       "        vertical-align: top;\n",
       "    }\n",
       "\n",
       "    .dataframe thead th {\n",
       "        text-align: right;\n",
       "    }\n",
       "</style>\n",
       "<table border=\"1\" class=\"dataframe\">\n",
       "  <thead>\n",
       "    <tr style=\"text-align: right;\">\n",
       "      <th></th>\n",
       "      <th>toxic</th>\n",
       "      <th>severe_toxic</th>\n",
       "      <th>obscene</th>\n",
       "      <th>threat</th>\n",
       "      <th>insult</th>\n",
       "      <th>identity_hate</th>\n",
       "      <th>neutral</th>\n",
       "      <th>comment_text</th>\n",
       "      <th>cleaner_text</th>\n",
       "      <th>compound</th>\n",
       "      <th>neg</th>\n",
       "      <th>neu</th>\n",
       "      <th>pos</th>\n",
       "    </tr>\n",
       "  </thead>\n",
       "  <tbody>\n",
       "    <tr>\n",
       "      <th>0</th>\n",
       "      <td>0</td>\n",
       "      <td>0</td>\n",
       "      <td>0</td>\n",
       "      <td>0</td>\n",
       "      <td>0</td>\n",
       "      <td>0</td>\n",
       "      <td>1</td>\n",
       "      <td>Explanation\\nWhy the edits made under my usern...</td>\n",
       "      <td>Explanation Why the edits made under my userna...</td>\n",
       "      <td>0.5574</td>\n",
       "      <td>0.000</td>\n",
       "      <td>0.897</td>\n",
       "      <td>0.103</td>\n",
       "    </tr>\n",
       "    <tr>\n",
       "      <th>1</th>\n",
       "      <td>0</td>\n",
       "      <td>0</td>\n",
       "      <td>0</td>\n",
       "      <td>0</td>\n",
       "      <td>0</td>\n",
       "      <td>0</td>\n",
       "      <td>1</td>\n",
       "      <td>D'aww! He matches this background colour I'm s...</td>\n",
       "      <td>D'aww! He matches this background colour I'm s...</td>\n",
       "      <td>0.2942</td>\n",
       "      <td>0.099</td>\n",
       "      <td>0.743</td>\n",
       "      <td>0.158</td>\n",
       "    </tr>\n",
       "  </tbody>\n",
       "</table>\n",
       "</div>"
      ],
      "text/plain": [
       "   toxic  severe_toxic  obscene  threat  insult  identity_hate  neutral  \\\n",
       "0      0             0        0       0       0              0        1   \n",
       "1      0             0        0       0       0              0        1   \n",
       "\n",
       "                                        comment_text  \\\n",
       "0  Explanation\\nWhy the edits made under my usern...   \n",
       "1  D'aww! He matches this background colour I'm s...   \n",
       "\n",
       "                                        cleaner_text  compound    neg    neu  \\\n",
       "0  Explanation Why the edits made under my userna...    0.5574  0.000  0.897   \n",
       "1  D'aww! He matches this background colour I'm s...    0.2942  0.099  0.743   \n",
       "\n",
       "     pos  \n",
       "0  0.103  \n",
       "1  0.158  "
      ]
     },
     "execution_count": 63,
     "metadata": {},
     "output_type": "execute_result"
    }
   ],
   "source": [
    "df.head(2)"
   ]
  },
  {
   "cell_type": "code",
   "execution_count": 64,
   "metadata": {},
   "outputs": [
    {
     "data": {
      "text/plain": [
       "(159565, 13)"
      ]
     },
     "execution_count": 64,
     "metadata": {},
     "output_type": "execute_result"
    }
   ],
   "source": [
    "df.shape"
   ]
  },
  {
   "cell_type": "code",
   "execution_count": 65,
   "metadata": {
    "scrolled": true
   },
   "outputs": [
    {
     "data": {
      "text/plain": [
       "toxic            0\n",
       "severe_toxic     0\n",
       "obscene          0\n",
       "threat           0\n",
       "insult           0\n",
       "identity_hate    0\n",
       "neutral          0\n",
       "comment_text     0\n",
       "cleaner_text     0\n",
       "compound         0\n",
       "neg              0\n",
       "neu              0\n",
       "pos              0\n",
       "dtype: int64"
      ]
     },
     "execution_count": 65,
     "metadata": {},
     "output_type": "execute_result"
    }
   ],
   "source": [
    "df.isnull().sum()"
   ]
  },
  {
   "cell_type": "code",
   "execution_count": 66,
   "metadata": {
    "scrolled": true
   },
   "outputs": [
    {
     "data": {
      "text/html": [
       "<div>\n",
       "<style scoped>\n",
       "    .dataframe tbody tr th:only-of-type {\n",
       "        vertical-align: middle;\n",
       "    }\n",
       "\n",
       "    .dataframe tbody tr th {\n",
       "        vertical-align: top;\n",
       "    }\n",
       "\n",
       "    .dataframe thead th {\n",
       "        text-align: right;\n",
       "    }\n",
       "</style>\n",
       "<table border=\"1\" class=\"dataframe\">\n",
       "  <thead>\n",
       "    <tr style=\"text-align: right;\">\n",
       "      <th></th>\n",
       "      <th>toxic</th>\n",
       "      <th>severe_toxic</th>\n",
       "      <th>obscene</th>\n",
       "      <th>threat</th>\n",
       "      <th>insult</th>\n",
       "      <th>identity_hate</th>\n",
       "      <th>neutral</th>\n",
       "      <th>comment_text</th>\n",
       "      <th>cleaner_text</th>\n",
       "      <th>compound</th>\n",
       "      <th>neg</th>\n",
       "      <th>neu</th>\n",
       "      <th>pos</th>\n",
       "    </tr>\n",
       "  </thead>\n",
       "  <tbody>\n",
       "  </tbody>\n",
       "</table>\n",
       "</div>"
      ],
      "text/plain": [
       "Empty DataFrame\n",
       "Columns: [toxic, severe_toxic, obscene, threat, insult, identity_hate, neutral, comment_text, cleaner_text, compound, neg, neu, pos]\n",
       "Index: []"
      ]
     },
     "execution_count": 66,
     "metadata": {},
     "output_type": "execute_result"
    }
   ],
   "source": [
    "df[df['cleaner_text'].isnull()]"
   ]
  },
  {
   "cell_type": "markdown",
   "metadata": {},
   "source": [
    "nulls showed up after cleaning comment text - the text that was there were just links and html, so I'll just drop those rows. I don't understand why they didn't show as nulls when i checked for them before exporting as csv, but they're there.."
   ]
  },
  {
   "cell_type": "code",
   "execution_count": 67,
   "metadata": {},
   "outputs": [],
   "source": [
    "df.dropna(inplace = True)"
   ]
  },
  {
   "cell_type": "code",
   "execution_count": 68,
   "metadata": {},
   "outputs": [
    {
     "data": {
      "text/plain": [
       "(159565, 13)"
      ]
     },
     "execution_count": 68,
     "metadata": {},
     "output_type": "execute_result"
    }
   ],
   "source": [
    "df.shape"
   ]
  },
  {
   "cell_type": "code",
   "execution_count": 69,
   "metadata": {
    "scrolled": true
   },
   "outputs": [
    {
     "data": {
      "text/plain": [
       "toxic            15294\n",
       "severe_toxic      1595\n",
       "obscene           8449\n",
       "threat             478\n",
       "insult            7877\n",
       "identity_hate     1405\n",
       "Name: 1, dtype: int64"
      ]
     },
     "execution_count": 69,
     "metadata": {},
     "output_type": "execute_result"
    }
   ],
   "source": [
    "toxicity_classes = [\"toxic\", \"severe_toxic\", \"obscene\", \"threat\", \"insult\", \"identity_hate\", \"neutral\"]\n",
    "toxicity_count = df[toxicity_classes].apply(pd.value_counts).T\n",
    "toxicity_count[1][:-1]"
   ]
  },
  {
   "cell_type": "code",
   "execution_count": 71,
   "metadata": {},
   "outputs": [
    {
     "data": {
      "image/png": "[encoded data removed]",
      "text/plain": [
       "<Figure size 720x432 with 1 Axes>"
      ]
     },
     "metadata": {
      "needs_background": "light"
     },
     "output_type": "display_data"
    }
   ],
   "source": [
    "data = {\n",
    "    'Labels': ['toxic', 'severe_toxic', 'obscene', 'threat', 'insult', 'identity_hate', 'neutral'],\n",
    "    'Counts': [15294, 1595, 8449, 478, 7877, 1405, 143340]\n",
    "}\n",
    "\n",
    "plt.figure(figsize=(10, 6))\n",
    "sns.barplot(x='Labels', y='Counts', data=data, palette='viridis')  # Use Seaborn's barplot\n",
    "plt.xlabel('Labels')\n",
    "plt.ylabel('Counts')\n",
    "plt.title('Label Distribution')\n",
    "\n",
    "\n",
    "plt.savefig(\"label_distributions.png\", dpi=300, bbox_inches=\"tight\") "
   ]
  },
  {
   "cell_type": "code",
   "execution_count": 73,
   "metadata": {
    "scrolled": false
   },
   "outputs": [
    {
     "data": {
      "text/html": [
       "<div>\n",
       "<style scoped>\n",
       "    .dataframe tbody tr th:only-of-type {\n",
       "        vertical-align: middle;\n",
       "    }\n",
       "\n",
       "    .dataframe tbody tr th {\n",
       "        vertical-align: top;\n",
       "    }\n",
       "\n",
       "    .dataframe thead th {\n",
       "        text-align: right;\n",
       "    }\n",
       "</style>\n",
       "<table border=\"1\" class=\"dataframe\">\n",
       "  <thead>\n",
       "    <tr style=\"text-align: right;\">\n",
       "      <th></th>\n",
       "      <th>0</th>\n",
       "      <th>1</th>\n",
       "    </tr>\n",
       "  </thead>\n",
       "  <tbody>\n",
       "    <tr>\n",
       "      <th>toxic</th>\n",
       "      <td>0.904152</td>\n",
       "      <td>0.095848</td>\n",
       "    </tr>\n",
       "    <tr>\n",
       "      <th>severe_toxic</th>\n",
       "      <td>0.990004</td>\n",
       "      <td>0.009996</td>\n",
       "    </tr>\n",
       "    <tr>\n",
       "      <th>obscene</th>\n",
       "      <td>0.947050</td>\n",
       "      <td>0.052950</td>\n",
       "    </tr>\n",
       "    <tr>\n",
       "      <th>threat</th>\n",
       "      <td>0.997004</td>\n",
       "      <td>0.002996</td>\n",
       "    </tr>\n",
       "    <tr>\n",
       "      <th>insult</th>\n",
       "      <td>0.950635</td>\n",
       "      <td>0.049365</td>\n",
       "    </tr>\n",
       "    <tr>\n",
       "      <th>identity_hate</th>\n",
       "      <td>0.991195</td>\n",
       "      <td>0.008805</td>\n",
       "    </tr>\n",
       "    <tr>\n",
       "      <th>neutral</th>\n",
       "      <td>0.101683</td>\n",
       "      <td>0.898317</td>\n",
       "    </tr>\n",
       "  </tbody>\n",
       "</table>\n",
       "</div>"
      ],
      "text/plain": [
       "                      0         1\n",
       "toxic          0.904152  0.095848\n",
       "severe_toxic   0.990004  0.009996\n",
       "obscene        0.947050  0.052950\n",
       "threat         0.997004  0.002996\n",
       "insult         0.950635  0.049365\n",
       "identity_hate  0.991195  0.008805\n",
       "neutral        0.101683  0.898317"
      ]
     },
     "execution_count": 73,
     "metadata": {},
     "output_type": "execute_result"
    }
   ],
   "source": [
    "toxicity_proportion = df[toxicity_classes].apply(lambda x: x.value_counts(normalize=True)).T\n",
    "toxicity_proportion"
   ]
  },
  {
   "cell_type": "markdown",
   "metadata": {},
   "source": [
    "Alright, so once I fixed the issue with the neutral column in the earlier notebook (reworked capstone bite 1), it appears that my classes are even more imbalanced that I originally thought.  "
   ]
  },
  {
   "cell_type": "markdown",
   "metadata": {},
   "source": [
    "Since this dataset is multilabel I want to see what different types of label combinations exist. "
   ]
  },
  {
   "cell_type": "code",
   "execution_count": 74,
   "metadata": {},
   "outputs": [],
   "source": [
    "labels_only = df[['toxic', 'severe_toxic', 'obscene', 'threat', 'insult', 'identity_hate', 'neutral']]"
   ]
  },
  {
   "cell_type": "code",
   "execution_count": 75,
   "metadata": {},
   "outputs": [
    {
     "data": {
      "text/html": [
       "<div>\n",
       "<style scoped>\n",
       "    .dataframe tbody tr th:only-of-type {\n",
       "        vertical-align: middle;\n",
       "    }\n",
       "\n",
       "    .dataframe tbody tr th {\n",
       "        vertical-align: top;\n",
       "    }\n",
       "\n",
       "    .dataframe thead th {\n",
       "        text-align: right;\n",
       "    }\n",
       "</style>\n",
       "<table border=\"1\" class=\"dataframe\">\n",
       "  <thead>\n",
       "    <tr style=\"text-align: right;\">\n",
       "      <th></th>\n",
       "      <th>toxic</th>\n",
       "      <th>severe_toxic</th>\n",
       "      <th>obscene</th>\n",
       "      <th>threat</th>\n",
       "      <th>insult</th>\n",
       "      <th>identity_hate</th>\n",
       "      <th>neutral</th>\n",
       "    </tr>\n",
       "  </thead>\n",
       "  <tbody>\n",
       "    <tr>\n",
       "      <th>0</th>\n",
       "      <td>0</td>\n",
       "      <td>0</td>\n",
       "      <td>0</td>\n",
       "      <td>0</td>\n",
       "      <td>0</td>\n",
       "      <td>0</td>\n",
       "      <td>1</td>\n",
       "    </tr>\n",
       "    <tr>\n",
       "      <th>1</th>\n",
       "      <td>0</td>\n",
       "      <td>0</td>\n",
       "      <td>0</td>\n",
       "      <td>0</td>\n",
       "      <td>0</td>\n",
       "      <td>0</td>\n",
       "      <td>1</td>\n",
       "    </tr>\n",
       "    <tr>\n",
       "      <th>2</th>\n",
       "      <td>0</td>\n",
       "      <td>0</td>\n",
       "      <td>0</td>\n",
       "      <td>0</td>\n",
       "      <td>0</td>\n",
       "      <td>0</td>\n",
       "      <td>1</td>\n",
       "    </tr>\n",
       "    <tr>\n",
       "      <th>3</th>\n",
       "      <td>0</td>\n",
       "      <td>0</td>\n",
       "      <td>0</td>\n",
       "      <td>0</td>\n",
       "      <td>0</td>\n",
       "      <td>0</td>\n",
       "      <td>1</td>\n",
       "    </tr>\n",
       "    <tr>\n",
       "      <th>4</th>\n",
       "      <td>0</td>\n",
       "      <td>0</td>\n",
       "      <td>0</td>\n",
       "      <td>0</td>\n",
       "      <td>0</td>\n",
       "      <td>0</td>\n",
       "      <td>1</td>\n",
       "    </tr>\n",
       "  </tbody>\n",
       "</table>\n",
       "</div>"
      ],
      "text/plain": [
       "   toxic  severe_toxic  obscene  threat  insult  identity_hate  neutral\n",
       "0      0             0        0       0       0              0        1\n",
       "1      0             0        0       0       0              0        1\n",
       "2      0             0        0       0       0              0        1\n",
       "3      0             0        0       0       0              0        1\n",
       "4      0             0        0       0       0              0        1"
      ]
     },
     "execution_count": 75,
     "metadata": {},
     "output_type": "execute_result"
    }
   ],
   "source": [
    "labels_only.head()"
   ]
  },
  {
   "cell_type": "code",
   "execution_count": 76,
   "metadata": {},
   "outputs": [
    {
     "data": {
      "image/png": "[encoded data removed]",
      "text/plain": [
       "<Figure size 864x432 with 1 Axes>"
      ]
     },
     "metadata": {
      "needs_background": "light"
     },
     "output_type": "display_data"
    }
   ],
   "source": [
    "# Get combinations of labels for each observation\n",
    "label_combinations = labels_only.apply(lambda x: ''.join(x.astype(str)), axis=1)\n",
    "\n",
    "# Count the occurrences of each label combination\n",
    "label_combination_counts = label_combinations.value_counts()\n",
    "\n",
    "# Viz\n",
    "plt.figure(figsize=(12, 6))\n",
    "sns.barplot(x=label_combination_counts.index, y=label_combination_counts.values)\n",
    "plt.xticks(rotation=90)\n",
    "plt.xlabel('Label Combinations')\n",
    "plt.ylabel('Count')\n",
    "plt.title('Label Combinations in the Dataset')\n",
    "plt.show()"
   ]
  },
  {
   "cell_type": "markdown",
   "metadata": {},
   "source": [
    "Let's add the actual column names associated with the above combos"
   ]
  },
  {
   "cell_type": "code",
   "execution_count": 77,
   "metadata": {},
   "outputs": [
    {
     "name": "stdout",
     "output_type": "stream",
     "text": [
      "  label_combination   count  positive_labels\n",
      "0           0000001  143340              [6]\n",
      "1           1000000    5666              [0]\n",
      "2           1010100    3800        [0, 2, 4]\n",
      "3           1010000    1758           [0, 2]\n",
      "4           1000100    1215           [0, 4]\n",
      "5           1110100     989     [0, 1, 2, 4]\n",
      "6           1010110     618     [0, 2, 4, 5]\n",
      "7           0010000     317              [2]\n",
      "8           0000100     301              [4]\n",
      "9           1110110     265  [0, 1, 2, 4, 5]\n"
     ]
    }
   ],
   "source": [
    "#empty list\n",
    "positive_labels = []\n",
    "\n",
    "#loop through label combo count index, which has 0/1 combos\n",
    "for combination in label_combination_counts.index:\n",
    "    \n",
    "    #empty label list\n",
    "    labels = []\n",
    "    \n",
    "    #use enumerate to get 0/1 and associated index\n",
    "    for i, label in enumerate(combination):\n",
    "        if label == '1':\n",
    "            #append to labels list if positive\n",
    "            labels.append(labels_only.index[i])\n",
    "    positive_labels.append(labels)\n",
    "\n",
    "# Add the positive_label indexes to the label_combination_counts df\n",
    "label_combination_counts_df = label_combination_counts.reset_index()\n",
    "label_combination_counts_df['positive_labels'] = positive_labels\n",
    "label_combination_counts_df.rename(columns={'index': 'label_combination', 0: 'count'}, inplace=True)\n",
    "\n",
    "print(label_combination_counts_df[:10])"
   ]
  },
  {
   "cell_type": "code",
   "execution_count": 78,
   "metadata": {},
   "outputs": [],
   "source": [
    "# map column names back to indices to have a list of toxicity types rather than index numbers\n",
    "label_combination_counts_df['label_combos'] = label_combination_counts_df['positive_labels'].apply(lambda indices: list(labels_only.columns[indices]))"
   ]
  },
  {
   "cell_type": "code",
   "execution_count": 79,
   "metadata": {
    "scrolled": true
   },
   "outputs": [
    {
     "data": {
      "text/html": [
       "<div>\n",
       "<style scoped>\n",
       "    .dataframe tbody tr th:only-of-type {\n",
       "        vertical-align: middle;\n",
       "    }\n",
       "\n",
       "    .dataframe tbody tr th {\n",
       "        vertical-align: top;\n",
       "    }\n",
       "\n",
       "    .dataframe thead th {\n",
       "        text-align: right;\n",
       "    }\n",
       "</style>\n",
       "<table border=\"1\" class=\"dataframe\">\n",
       "  <thead>\n",
       "    <tr style=\"text-align: right;\">\n",
       "      <th></th>\n",
       "      <th>label_combination</th>\n",
       "      <th>count</th>\n",
       "      <th>positive_labels</th>\n",
       "      <th>label_combos</th>\n",
       "    </tr>\n",
       "  </thead>\n",
       "  <tbody>\n",
       "    <tr>\n",
       "      <th>0</th>\n",
       "      <td>0000001</td>\n",
       "      <td>143340</td>\n",
       "      <td>[6]</td>\n",
       "      <td>[neutral]</td>\n",
       "    </tr>\n",
       "    <tr>\n",
       "      <th>1</th>\n",
       "      <td>1000000</td>\n",
       "      <td>5666</td>\n",
       "      <td>[0]</td>\n",
       "      <td>[toxic]</td>\n",
       "    </tr>\n",
       "    <tr>\n",
       "      <th>2</th>\n",
       "      <td>1010100</td>\n",
       "      <td>3800</td>\n",
       "      <td>[0, 2, 4]</td>\n",
       "      <td>[toxic, obscene, insult]</td>\n",
       "    </tr>\n",
       "    <tr>\n",
       "      <th>3</th>\n",
       "      <td>1010000</td>\n",
       "      <td>1758</td>\n",
       "      <td>[0, 2]</td>\n",
       "      <td>[toxic, obscene]</td>\n",
       "    </tr>\n",
       "    <tr>\n",
       "      <th>4</th>\n",
       "      <td>1000100</td>\n",
       "      <td>1215</td>\n",
       "      <td>[0, 4]</td>\n",
       "      <td>[toxic, insult]</td>\n",
       "    </tr>\n",
       "  </tbody>\n",
       "</table>\n",
       "</div>"
      ],
      "text/plain": [
       "  label_combination   count positive_labels              label_combos\n",
       "0           0000001  143340             [6]                 [neutral]\n",
       "1           1000000    5666             [0]                   [toxic]\n",
       "2           1010100    3800       [0, 2, 4]  [toxic, obscene, insult]\n",
       "3           1010000    1758          [0, 2]          [toxic, obscene]\n",
       "4           1000100    1215          [0, 4]           [toxic, insult]"
      ]
     },
     "execution_count": 79,
     "metadata": {},
     "output_type": "execute_result"
    }
   ],
   "source": [
    "label_combination_counts_df.head()"
   ]
  },
  {
   "cell_type": "markdown",
   "metadata": {},
   "source": [
    " take them out of the list format... they should probably just be strings..."
   ]
  },
  {
   "cell_type": "code",
   "execution_count": 80,
   "metadata": {},
   "outputs": [],
   "source": [
    "label_combination_counts_df['label_combos'] = label_combination_counts_df['label_combos'].apply(', '.join)"
   ]
  },
  {
   "cell_type": "code",
   "execution_count": 81,
   "metadata": {
    "scrolled": true
   },
   "outputs": [
    {
     "data": {
      "text/html": [
       "<div>\n",
       "<style scoped>\n",
       "    .dataframe tbody tr th:only-of-type {\n",
       "        vertical-align: middle;\n",
       "    }\n",
       "\n",
       "    .dataframe tbody tr th {\n",
       "        vertical-align: top;\n",
       "    }\n",
       "\n",
       "    .dataframe thead th {\n",
       "        text-align: right;\n",
       "    }\n",
       "</style>\n",
       "<table border=\"1\" class=\"dataframe\">\n",
       "  <thead>\n",
       "    <tr style=\"text-align: right;\">\n",
       "      <th></th>\n",
       "      <th>label_combination</th>\n",
       "      <th>count</th>\n",
       "      <th>positive_labels</th>\n",
       "      <th>label_combos</th>\n",
       "    </tr>\n",
       "  </thead>\n",
       "  <tbody>\n",
       "    <tr>\n",
       "      <th>0</th>\n",
       "      <td>0000001</td>\n",
       "      <td>143340</td>\n",
       "      <td>[6]</td>\n",
       "      <td>neutral</td>\n",
       "    </tr>\n",
       "    <tr>\n",
       "      <th>1</th>\n",
       "      <td>1000000</td>\n",
       "      <td>5666</td>\n",
       "      <td>[0]</td>\n",
       "      <td>toxic</td>\n",
       "    </tr>\n",
       "    <tr>\n",
       "      <th>2</th>\n",
       "      <td>1010100</td>\n",
       "      <td>3800</td>\n",
       "      <td>[0, 2, 4]</td>\n",
       "      <td>toxic, obscene, insult</td>\n",
       "    </tr>\n",
       "    <tr>\n",
       "      <th>3</th>\n",
       "      <td>1010000</td>\n",
       "      <td>1758</td>\n",
       "      <td>[0, 2]</td>\n",
       "      <td>toxic, obscene</td>\n",
       "    </tr>\n",
       "    <tr>\n",
       "      <th>4</th>\n",
       "      <td>1000100</td>\n",
       "      <td>1215</td>\n",
       "      <td>[0, 4]</td>\n",
       "      <td>toxic, insult</td>\n",
       "    </tr>\n",
       "  </tbody>\n",
       "</table>\n",
       "</div>"
      ],
      "text/plain": [
       "  label_combination   count positive_labels            label_combos\n",
       "0           0000001  143340             [6]                 neutral\n",
       "1           1000000    5666             [0]                   toxic\n",
       "2           1010100    3800       [0, 2, 4]  toxic, obscene, insult\n",
       "3           1010000    1758          [0, 2]          toxic, obscene\n",
       "4           1000100    1215          [0, 4]           toxic, insult"
      ]
     },
     "execution_count": 81,
     "metadata": {},
     "output_type": "execute_result"
    }
   ],
   "source": [
    "label_combination_counts_df.head()"
   ]
  },
  {
   "cell_type": "markdown",
   "metadata": {},
   "source": [
    "I'll set the label_combos column as the index so I can visualize the counts of each combo"
   ]
  },
  {
   "cell_type": "code",
   "execution_count": 82,
   "metadata": {},
   "outputs": [],
   "source": [
    "label_combination_counts_df.set_index('label_combos', inplace=True)"
   ]
  },
  {
   "cell_type": "code",
   "execution_count": 83,
   "metadata": {},
   "outputs": [
    {
     "data": {
      "text/html": [
       "<div>\n",
       "<style scoped>\n",
       "    .dataframe tbody tr th:only-of-type {\n",
       "        vertical-align: middle;\n",
       "    }\n",
       "\n",
       "    .dataframe tbody tr th {\n",
       "        vertical-align: top;\n",
       "    }\n",
       "\n",
       "    .dataframe thead th {\n",
       "        text-align: right;\n",
       "    }\n",
       "</style>\n",
       "<table border=\"1\" class=\"dataframe\">\n",
       "  <thead>\n",
       "    <tr style=\"text-align: right;\">\n",
       "      <th></th>\n",
       "      <th>label_combination</th>\n",
       "      <th>count</th>\n",
       "      <th>positive_labels</th>\n",
       "    </tr>\n",
       "    <tr>\n",
       "      <th>label_combos</th>\n",
       "      <th></th>\n",
       "      <th></th>\n",
       "      <th></th>\n",
       "    </tr>\n",
       "  </thead>\n",
       "  <tbody>\n",
       "    <tr>\n",
       "      <th>neutral</th>\n",
       "      <td>0000001</td>\n",
       "      <td>143340</td>\n",
       "      <td>[6]</td>\n",
       "    </tr>\n",
       "    <tr>\n",
       "      <th>toxic</th>\n",
       "      <td>1000000</td>\n",
       "      <td>5666</td>\n",
       "      <td>[0]</td>\n",
       "    </tr>\n",
       "    <tr>\n",
       "      <th>toxic, obscene, insult</th>\n",
       "      <td>1010100</td>\n",
       "      <td>3800</td>\n",
       "      <td>[0, 2, 4]</td>\n",
       "    </tr>\n",
       "    <tr>\n",
       "      <th>toxic, obscene</th>\n",
       "      <td>1010000</td>\n",
       "      <td>1758</td>\n",
       "      <td>[0, 2]</td>\n",
       "    </tr>\n",
       "    <tr>\n",
       "      <th>toxic, insult</th>\n",
       "      <td>1000100</td>\n",
       "      <td>1215</td>\n",
       "      <td>[0, 4]</td>\n",
       "    </tr>\n",
       "  </tbody>\n",
       "</table>\n",
       "</div>"
      ],
      "text/plain": [
       "                       label_combination   count positive_labels\n",
       "label_combos                                                    \n",
       "neutral                          0000001  143340             [6]\n",
       "toxic                            1000000    5666             [0]\n",
       "toxic, obscene, insult           1010100    3800       [0, 2, 4]\n",
       "toxic, obscene                   1010000    1758          [0, 2]\n",
       "toxic, insult                    1000100    1215          [0, 4]"
      ]
     },
     "execution_count": 83,
     "metadata": {},
     "output_type": "execute_result"
    }
   ],
   "source": [
    "label_combination_counts_df.head()"
   ]
  },
  {
   "cell_type": "markdown",
   "metadata": {},
   "source": [
    "I want to see what the full visualization looks like, but will likely need to scale it back"
   ]
  },
  {
   "cell_type": "code",
   "execution_count": 86,
   "metadata": {
    "scrolled": false
   },
   "outputs": [],
   "source": [
    "label_combos_10 = label_combination_counts_df.head(10)[1:11]"
   ]
  },
  {
   "cell_type": "code",
   "execution_count": 89,
   "metadata": {},
   "outputs": [
    {
     "data": {
      "text/html": [
       "<div>\n",
       "<style scoped>\n",
       "    .dataframe tbody tr th:only-of-type {\n",
       "        vertical-align: middle;\n",
       "    }\n",
       "\n",
       "    .dataframe tbody tr th {\n",
       "        vertical-align: top;\n",
       "    }\n",
       "\n",
       "    .dataframe thead th {\n",
       "        text-align: right;\n",
       "    }\n",
       "</style>\n",
       "<table border=\"1\" class=\"dataframe\">\n",
       "  <thead>\n",
       "    <tr style=\"text-align: right;\">\n",
       "      <th></th>\n",
       "      <th>label_combination</th>\n",
       "      <th>count</th>\n",
       "      <th>positive_labels</th>\n",
       "    </tr>\n",
       "    <tr>\n",
       "      <th>label_combos</th>\n",
       "      <th></th>\n",
       "      <th></th>\n",
       "      <th></th>\n",
       "    </tr>\n",
       "  </thead>\n",
       "  <tbody>\n",
       "    <tr>\n",
       "      <th>toxic</th>\n",
       "      <td>1000000</td>\n",
       "      <td>5666</td>\n",
       "      <td>[0]</td>\n",
       "    </tr>\n",
       "    <tr>\n",
       "      <th>toxic, obscene, insult</th>\n",
       "      <td>1010100</td>\n",
       "      <td>3800</td>\n",
       "      <td>[0, 2, 4]</td>\n",
       "    </tr>\n",
       "    <tr>\n",
       "      <th>toxic, obscene</th>\n",
       "      <td>1010000</td>\n",
       "      <td>1758</td>\n",
       "      <td>[0, 2]</td>\n",
       "    </tr>\n",
       "    <tr>\n",
       "      <th>toxic, insult</th>\n",
       "      <td>1000100</td>\n",
       "      <td>1215</td>\n",
       "      <td>[0, 4]</td>\n",
       "    </tr>\n",
       "    <tr>\n",
       "      <th>toxic, severe_toxic, obscene, insult</th>\n",
       "      <td>1110100</td>\n",
       "      <td>989</td>\n",
       "      <td>[0, 1, 2, 4]</td>\n",
       "    </tr>\n",
       "    <tr>\n",
       "      <th>toxic, obscene, insult, identity_hate</th>\n",
       "      <td>1010110</td>\n",
       "      <td>618</td>\n",
       "      <td>[0, 2, 4, 5]</td>\n",
       "    </tr>\n",
       "    <tr>\n",
       "      <th>obscene</th>\n",
       "      <td>0010000</td>\n",
       "      <td>317</td>\n",
       "      <td>[2]</td>\n",
       "    </tr>\n",
       "    <tr>\n",
       "      <th>insult</th>\n",
       "      <td>0000100</td>\n",
       "      <td>301</td>\n",
       "      <td>[4]</td>\n",
       "    </tr>\n",
       "    <tr>\n",
       "      <th>toxic, severe_toxic, obscene, insult, identity_hate</th>\n",
       "      <td>1110110</td>\n",
       "      <td>265</td>\n",
       "      <td>[0, 1, 2, 4, 5]</td>\n",
       "    </tr>\n",
       "  </tbody>\n",
       "</table>\n",
       "</div>"
      ],
      "text/plain": [
       "                                                   label_combination  count  \\\n",
       "label_combos                                                                  \n",
       "toxic                                                        1000000   5666   \n",
       "toxic, obscene, insult                                       1010100   3800   \n",
       "toxic, obscene                                               1010000   1758   \n",
       "toxic, insult                                                1000100   1215   \n",
       "toxic, severe_toxic, obscene, insult                         1110100    989   \n",
       "toxic, obscene, insult, identity_hate                        1010110    618   \n",
       "obscene                                                      0010000    317   \n",
       "insult                                                       0000100    301   \n",
       "toxic, severe_toxic, obscene, insult, identity_...           1110110    265   \n",
       "\n",
       "                                                    positive_labels  \n",
       "label_combos                                                         \n",
       "toxic                                                           [0]  \n",
       "toxic, obscene, insult                                    [0, 2, 4]  \n",
       "toxic, obscene                                               [0, 2]  \n",
       "toxic, insult                                                [0, 4]  \n",
       "toxic, severe_toxic, obscene, insult                   [0, 1, 2, 4]  \n",
       "toxic, obscene, insult, identity_hate                  [0, 2, 4, 5]  \n",
       "obscene                                                         [2]  \n",
       "insult                                                          [4]  \n",
       "toxic, severe_toxic, obscene, insult, identity_...  [0, 1, 2, 4, 5]  "
      ]
     },
     "execution_count": 89,
     "metadata": {},
     "output_type": "execute_result"
    }
   ],
   "source": [
    "label_combos_10"
   ]
  },
  {
   "cell_type": "code",
   "execution_count": 88,
   "metadata": {},
   "outputs": [
    {
     "data": {
      "image/png": "[encoded data removed]",
      "text/plain": [
       "<Figure size 1296x1296 with 1 Axes>"
      ]
     },
     "metadata": {
      "needs_background": "light"
     },
     "output_type": "display_data"
    }
   ],
   "source": [
    "plt.figure(figsize=(18, 18))\n",
    "ax = sns.barplot(y=label_combination_counts_df.index, x='count', data = label_combination_counts_df, orient = 'h')\n",
    "plt.title('Count of Each MultiLabel Combination')\n",
    "plt.ylabel('Positive Multilabel Combination')\n",
    "plt.xlabel('Count')\n",
    "\n",
    "# Add count values at the end of each bar\n",
    "for index, value in enumerate(label_combination_counts_df['count']):\n",
    "    ax.text(value, index, str(value), ha='left', va='center', color='black', fontweight='bold')"
   ]
  },
  {
   "cell_type": "code",
   "execution_count": 90,
   "metadata": {
    "scrolled": true
   },
   "outputs": [
    {
     "data": {
      "image/png": "[encoded data removed]",
      "text/plain": [
       "<Figure size 936x936 with 1 Axes>"
      ]
     },
     "metadata": {
      "needs_background": "light"
     },
     "output_type": "display_data"
    }
   ],
   "source": [
    "plt.figure(figsize=(13, 13))\n",
    "ax = sns.barplot(y=label_combos_10.index, x='count', data = label_combos_10, orient = 'h')\n",
    "plt.title('Top 10 MultiLabel Combinations')\n",
    "plt.ylabel('Multilabel Combination')\n",
    "plt.xlabel('Count')\n",
    "\n",
    "# Add count values at the end of each bar\n",
    "for index, value in enumerate(label_combos_10['count']):\n",
    "    ax.text(value, index, str(value), ha='left', va='center', color='black', fontweight='bold')\n",
    "    \n",
    "    \n",
    "plt.savefig(\"top_10_multilabel_combos.png\", dpi=300, bbox_inches=\"tight\") "
   ]
  },
  {
   "cell_type": "markdown",
   "metadata": {},
   "source": [
    "Another way to look at this:"
   ]
  },
  {
   "cell_type": "code",
   "execution_count": 28,
   "metadata": {},
   "outputs": [
    {
     "data": {
      "image/png": "[encoded data removed]",
      "text/plain": [
       "<Figure size 720x720 with 2 Axes>"
      ]
     },
     "metadata": {
      "needs_background": "light"
     },
     "output_type": "display_data"
    }
   ],
   "source": [
    "plt.figure(figsize=(10,10))\n",
    "sns.heatmap(df[toxicity_classes].corr(),\n",
    "            linewidths=0.1,\n",
    "            linecolor= 'black',\n",
    "            vmax =1.0,\n",
    "            vmin = -1.0,\n",
    "            square=True,\n",
    "            annot=True,\n",
    "\n",
    "           );\n",
    "plt.title('Correlation between Toxicity Category', fontsize=22);\n",
    "\n",
    "\n"
   ]
  },
  {
   "cell_type": "code",
   "execution_count": 29,
   "metadata": {},
   "outputs": [
    {
     "data": {
      "text/plain": [
       "toxic            0\n",
       "severe_toxic     0\n",
       "obscene          0\n",
       "threat           0\n",
       "insult           0\n",
       "identity_hate    0\n",
       "neutral          0\n",
       "comment_text     0\n",
       "cleaner_text     0\n",
       "compound         0\n",
       "neg              0\n",
       "neu              0\n",
       "pos              0\n",
       "dtype: int64"
      ]
     },
     "execution_count": 29,
     "metadata": {},
     "output_type": "execute_result"
    }
   ],
   "source": [
    "df.isnull().sum()"
   ]
  },
  {
   "cell_type": "code",
   "execution_count": 30,
   "metadata": {},
   "outputs": [],
   "source": [
    "df.to_csv('tox_with_sent_nulls_dropped.csv', index = False)"
   ]
  },
  {
   "cell_type": "code",
   "execution_count": 31,
   "metadata": {},
   "outputs": [],
   "source": [
    "### subsample dataset for modeling - trying to keep classes similar to original dataset"
   ]
  },
  {
   "cell_type": "markdown",
   "metadata": {},
   "source": [
    "https://medium.com/gumgum-tech/creating-balanced-multi-label-datasets-for-model-training-and-evaluation-16b6a3a2d912"
   ]
  },
  {
   "cell_type": "code",
   "execution_count": 50,
   "metadata": {
    "scrolled": true
   },
   "outputs": [
    {
     "data": {
      "text/html": [
       "<div>\n",
       "<style scoped>\n",
       "    .dataframe tbody tr th:only-of-type {\n",
       "        vertical-align: middle;\n",
       "    }\n",
       "\n",
       "    .dataframe tbody tr th {\n",
       "        vertical-align: top;\n",
       "    }\n",
       "\n",
       "    .dataframe thead th {\n",
       "        text-align: right;\n",
       "    }\n",
       "</style>\n",
       "<table border=\"1\" class=\"dataframe\">\n",
       "  <thead>\n",
       "    <tr style=\"text-align: right;\">\n",
       "      <th></th>\n",
       "      <th>toxic</th>\n",
       "      <th>severe_toxic</th>\n",
       "      <th>obscene</th>\n",
       "      <th>threat</th>\n",
       "      <th>insult</th>\n",
       "      <th>identity_hate</th>\n",
       "      <th>neutral</th>\n",
       "      <th>comment_text</th>\n",
       "      <th>cleaner_text</th>\n",
       "      <th>compound</th>\n",
       "      <th>neg</th>\n",
       "      <th>neu</th>\n",
       "      <th>pos</th>\n",
       "    </tr>\n",
       "  </thead>\n",
       "  <tbody>\n",
       "    <tr>\n",
       "      <th>0</th>\n",
       "      <td>0</td>\n",
       "      <td>0</td>\n",
       "      <td>0</td>\n",
       "      <td>0</td>\n",
       "      <td>0</td>\n",
       "      <td>0</td>\n",
       "      <td>1</td>\n",
       "      <td>Explanation\\nWhy the edits made under my usern...</td>\n",
       "      <td>Explanation Why the edits made under my userna...</td>\n",
       "      <td>0.5574</td>\n",
       "      <td>0.000</td>\n",
       "      <td>0.897</td>\n",
       "      <td>0.103</td>\n",
       "    </tr>\n",
       "    <tr>\n",
       "      <th>1</th>\n",
       "      <td>0</td>\n",
       "      <td>0</td>\n",
       "      <td>0</td>\n",
       "      <td>0</td>\n",
       "      <td>0</td>\n",
       "      <td>0</td>\n",
       "      <td>1</td>\n",
       "      <td>D'aww! He matches this background colour I'm s...</td>\n",
       "      <td>D'aww! He matches this background colour I'm s...</td>\n",
       "      <td>0.2942</td>\n",
       "      <td>0.099</td>\n",
       "      <td>0.743</td>\n",
       "      <td>0.158</td>\n",
       "    </tr>\n",
       "    <tr>\n",
       "      <th>2</th>\n",
       "      <td>0</td>\n",
       "      <td>0</td>\n",
       "      <td>0</td>\n",
       "      <td>0</td>\n",
       "      <td>0</td>\n",
       "      <td>0</td>\n",
       "      <td>1</td>\n",
       "      <td>Hey man, I'm really not trying to edit war. It...</td>\n",
       "      <td>Hey man, I'm really not trying to edit war. It...</td>\n",
       "      <td>-0.1779</td>\n",
       "      <td>0.083</td>\n",
       "      <td>0.849</td>\n",
       "      <td>0.068</td>\n",
       "    </tr>\n",
       "    <tr>\n",
       "      <th>3</th>\n",
       "      <td>0</td>\n",
       "      <td>0</td>\n",
       "      <td>0</td>\n",
       "      <td>0</td>\n",
       "      <td>0</td>\n",
       "      <td>0</td>\n",
       "      <td>1</td>\n",
       "      <td>\"\\nMore\\nI can't make any real suggestions on ...</td>\n",
       "      <td>\" More I can't make any real suggestions on im...</td>\n",
       "      <td>0.5106</td>\n",
       "      <td>0.022</td>\n",
       "      <td>0.916</td>\n",
       "      <td>0.062</td>\n",
       "    </tr>\n",
       "    <tr>\n",
       "      <th>4</th>\n",
       "      <td>0</td>\n",
       "      <td>0</td>\n",
       "      <td>0</td>\n",
       "      <td>0</td>\n",
       "      <td>0</td>\n",
       "      <td>0</td>\n",
       "      <td>1</td>\n",
       "      <td>You, sir, are my hero. Any chance you remember...</td>\n",
       "      <td>You, sir, are my hero. Any chance you remember...</td>\n",
       "      <td>0.6808</td>\n",
       "      <td>0.000</td>\n",
       "      <td>0.663</td>\n",
       "      <td>0.337</td>\n",
       "    </tr>\n",
       "  </tbody>\n",
       "</table>\n",
       "</div>"
      ],
      "text/plain": [
       "   toxic  severe_toxic  obscene  threat  insult  identity_hate  neutral  \\\n",
       "0      0             0        0       0       0              0        1   \n",
       "1      0             0        0       0       0              0        1   \n",
       "2      0             0        0       0       0              0        1   \n",
       "3      0             0        0       0       0              0        1   \n",
       "4      0             0        0       0       0              0        1   \n",
       "\n",
       "                                        comment_text  \\\n",
       "0  Explanation\\nWhy the edits made under my usern...   \n",
       "1  D'aww! He matches this background colour I'm s...   \n",
       "2  Hey man, I'm really not trying to edit war. It...   \n",
       "3  \"\\nMore\\nI can't make any real suggestions on ...   \n",
       "4  You, sir, are my hero. Any chance you remember...   \n",
       "\n",
       "                                        cleaner_text  compound    neg    neu  \\\n",
       "0  Explanation Why the edits made under my userna...    0.5574  0.000  0.897   \n",
       "1  D'aww! He matches this background colour I'm s...    0.2942  0.099  0.743   \n",
       "2  Hey man, I'm really not trying to edit war. It...   -0.1779  0.083  0.849   \n",
       "3  \" More I can't make any real suggestions on im...    0.5106  0.022  0.916   \n",
       "4  You, sir, are my hero. Any chance you remember...    0.6808  0.000  0.663   \n",
       "\n",
       "     pos  \n",
       "0  0.103  \n",
       "1  0.158  \n",
       "2  0.068  \n",
       "3  0.062  \n",
       "4  0.337  "
      ]
     },
     "execution_count": 50,
     "metadata": {},
     "output_type": "execute_result"
    }
   ],
   "source": [
    "df.head()"
   ]
  },
  {
   "cell_type": "code",
   "execution_count": 64,
   "metadata": {},
   "outputs": [
    {
     "data": {
      "text/plain": [
       "(159565, 13)"
      ]
     },
     "execution_count": 64,
     "metadata": {},
     "output_type": "execute_result"
    }
   ],
   "source": [
    "df.shape"
   ]
  }
 ],
 "metadata": {
  "kernelspec": {
   "display_name": "Python 3",
   "language": "python",
   "name": "python3"
  },
  "language_info": {
   "codemirror_mode": {
    "name": "ipython",
    "version": 3
   },
   "file_extension": ".py",
   "mimetype": "text/x-python",
   "name": "python",
   "nbconvert_exporter": "python",
   "pygments_lexer": "ipython3",
   "version": "3.6.8"
  }
 },
 "nbformat": 4,
 "nbformat_minor": 2
}
