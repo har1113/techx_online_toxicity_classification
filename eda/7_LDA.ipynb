{
 "cells": [
  {
   "cell_type": "code",
   "execution_count": 1,
   "metadata": {},
   "outputs": [
    {
     "name": "stderr",
     "output_type": "stream",
     "text": [
      "/Users/heatherrobbins/env3/lib/python3.6/site-packages/gensim/similarities/__init__.py:15: UserWarning: The gensim.similarities.levenshtein submodule is disabled, because the optional Levenshtein package <https://pypi.org/project/python-Levenshtein/> is unavailable. Install Levenhstein (e.g. `pip install python-Levenshtein`) to suppress this warning.\n",
      "  warnings.warn(msg)\n"
     ]
    }
   ],
   "source": [
    "# Standard Imports\n",
    "import pandas as pd\n",
    "import numpy as np\n",
    "import matplotlib.pyplot as plt\n",
    "import seaborn as sns\n",
    "\n",
    "# Better Profanity\n",
    "# from better_profanity import profanity # Censors text\n",
    "\n",
    "# Gensim\n",
    "from gensim import matutils\n",
    "from gensim import corpora\n",
    "from gensim.corpora.dictionary import Dictionary\n",
    "from gensim.models import LdaModel\n",
    "from gensim.models import CoherenceModel\n",
    "\n",
    "# NLTK\n",
    "from nltk.corpus import stopwords\n",
    "\n",
    "# pyLDAvis\n",
    "import pyLDAvis\n",
    "import pyLDAvis.gensim\n",
    "pyLDAvis.enable_notebook()\n",
    "\n",
    "# re\n",
    "import re\n",
    "\n",
    "# Scikit Learn\n",
    "from sklearn.feature_extraction.text import CountVectorizer, TfidfVectorizer\n",
    "from sklearn.cluster import KMeans\n",
    "from sklearn.metrics import silhouette_score\n",
    "\n",
    "# Scipy\n",
    "import scipy.sparse\n",
    "\n",
    "# spaCy\n",
    "import spacy\n",
    "# nlp = spacy.load('en_core_web_sm')\n",
    "\n",
    "# Silence Future Warnings\n",
    "import warnings\n",
    "warnings.simplefilter(action='ignore', category=FutureWarning)\n",
    "warnings.simplefilter(action='ignore', category=DeprecationWarning)"
   ]
  },
  {
   "cell_type": "code",
   "execution_count": 4,
   "metadata": {},
   "outputs": [],
   "source": [
    "neutral = pd.read_csv('../data/neutral_sample.csv')\n",
    "toxic = pd.read_csv('../data/toxic.csv')"
   ]
  },
  {
   "cell_type": "code",
   "execution_count": 5,
   "metadata": {},
   "outputs": [
    {
     "name": "stdout",
     "output_type": "stream",
     "text": [
      "<class 'pandas.core.frame.DataFrame'>\n",
      "RangeIndex: 16225 entries, 0 to 16224\n",
      "Data columns (total 22 columns):\n",
      "toxic                  16225 non-null int64\n",
      "severe_toxic           16225 non-null int64\n",
      "obscene                16225 non-null int64\n",
      "threat                 16225 non-null int64\n",
      "insult                 16225 non-null int64\n",
      "identity_hate          16225 non-null int64\n",
      "neutral                16225 non-null int64\n",
      "comment_text           16225 non-null object\n",
      "cleaner_text           16225 non-null object\n",
      "compound               16225 non-null float64\n",
      "neg                    16225 non-null float64\n",
      "neu                    16225 non-null float64\n",
      "pos                    16225 non-null float64\n",
      "word count             16225 non-null int64\n",
      "character count        16225 non-null int64\n",
      "special characters     16225 non-null int64\n",
      "capitalized letters    16225 non-null int64\n",
      "swear words            16225 non-null int64\n",
      "misogynist words       16225 non-null int64\n",
      "racial_ethnic slurs    16225 non-null int64\n",
      "lgbtq hate             16225 non-null int64\n",
      "lemmatized_text        16225 non-null object\n",
      "dtypes: float64(4), int64(15), object(3)\n",
      "memory usage: 2.7+ MB\n"
     ]
    }
   ],
   "source": [
    "neutral.info()"
   ]
  },
  {
   "cell_type": "code",
   "execution_count": null,
   "metadata": {},
   "outputs": [],
   "source": [
    "toxic.info()"
   ]
  },
  {
   "cell_type": "markdown",
   "metadata": {},
   "source": [
    "To prepare for topic modeling with Latent Dirichlet Allocation, the lemmatized text will be vectorized using a TF-IDF vectorizer and converted to a term document matrix than is compatible with the Gensim NLP library. \n",
    "\n",
    "For the TF-IDF Vectorizer I'm going to leave the default settings. At this point I don't have a great way to test different parameters since I'll be using LDA, which is unsupervised. We'll see how the default settings go and try to tinker from there as needed."
   ]
  },
  {
   "cell_type": "code",
   "execution_count": 8,
   "metadata": {},
   "outputs": [],
   "source": [
    "def tvec(df, column):\n",
    "    tvec = TfidfVectorizer(max_features = 10000, ngram_range = (1,2), stop_words = 'english')\n",
    "    dtm = tvec.fit_transform(df[column])\n",
    "    return tvec, dtm"
   ]
  },
  {
   "cell_type": "code",
   "execution_count": 9,
   "metadata": {},
   "outputs": [],
   "source": [
    "toxic_vectorizer, toxic_dtm = tvec(toxic, 'lemmatized_text')\n",
    "neutral_vectorizer, neutral_dtm = tvec(neutral, 'lemmatized_text') "
   ]
  },
  {
   "cell_type": "markdown",
   "metadata": {},
   "source": [
    "#### Transform Document Term Matrix into a Term Document Matrix that can be recognized by Gensim\n",
    "\n",
    "Gensim requires the format of the input to be a Gensim corpus data type. In order to convert the document-term matrix to a corpus, we must first convert it to a term-document matrix, which is the tranpose of the document-term matrix. Once the term-document matrix is created, it is converted to a compressed sparse row matrix, and finally a Gensim corpus.\n",
    "\n",
    "**Note**: Code for these steps was modified from [A Dash of Data](https://github.com/adashofdata/nlp-in-python-tutorial) by Alice Zhao"
   ]
  },
  {
   "cell_type": "code",
   "execution_count": 10,
   "metadata": {},
   "outputs": [],
   "source": [
    "def create_tdm(dtm):\n",
    "    tdm = dtm.transpose() # transpose document-term matrix\n",
    "    return tdm\n",
    "\n",
    "def tdm_to_gensim_corpus(tdm):\n",
    "    sparse = scipy.sparse.csr_matrix(tdm) # Create a compressed sparse row matrix\n",
    "    corpus = matutils.Sparse2Corpus(tdm) # Create a corpus from sparse matrix\n",
    "    return corpus\n",
    "\n",
    "def prepare_dtm_for_gensim(dtm):\n",
    "    tdm = create_tdm(dtm)\n",
    "    corpus = tdm_to_gensim_corpus(tdm)\n",
    "    return corpus"
   ]
  },
  {
   "cell_type": "markdown",
   "metadata": {},
   "source": [
    "#### convert to corpus"
   ]
  },
  {
   "cell_type": "code",
   "execution_count": 11,
   "metadata": {},
   "outputs": [],
   "source": [
    "toxic_corpus = prepare_dtm_for_gensim(toxic_dtm)\n",
    "neutral_corpus = prepare_dtm_for_gensim(neutral_dtm)"
   ]
  },
  {
   "cell_type": "markdown",
   "metadata": {},
   "source": [
    "## Defining dictionary\n",
    "\n",
    "Gensim also requires that a dictionary, containing the vocabulary and index of the term, is input into the model. This can be done using a dictionary comprehension or using the `.from_corpus` method. \n",
    "\n",
    "#### Dictionary to be used with modeling\n",
    "For modeling, a dictionary was created using a dictionary comprehension with the vectorizer vocabulary."
   ]
  },
  {
   "cell_type": "code",
   "execution_count": 12,
   "metadata": {},
   "outputs": [],
   "source": [
    "# Code modified from A Dash of Data by Alice Zhao\n",
    "\n",
    "def create_vocab_dictionary(vectorizer):\n",
    "    vocab_dictionary = dict((v,k) for k,v in vectorizer.vocabulary_.items())\n",
    "    return vocab_dictionary"
   ]
  },
  {
   "cell_type": "code",
   "execution_count": 13,
   "metadata": {},
   "outputs": [],
   "source": [
    "toxic_vocabulary = create_vocab_dictionary(toxic_vectorizer)\n",
    "neutral_vocabulary = create_vocab_dictionary(neutral_vectorizer)"
   ]
  },
  {
   "cell_type": "markdown",
   "metadata": {},
   "source": [
    "#### Dictionary to be used with pyLDAvis\n",
    "The ***pyLDAvis*** library requires the Dictionary to be a Gensim object. Therefore, the Gensim corpus was converted to a gensim dictionary."
   ]
  },
  {
   "cell_type": "code",
   "execution_count": 14,
   "metadata": {},
   "outputs": [],
   "source": [
    "# https://stackoverflow.com/questions/21552518/using-scikit-learn-vectorizers-and-vocabularies-with-gensim\n",
    "\n",
    "toxic_gensim_dict = Dictionary.from_corpus(corpus = toxic_corpus, id2word = toxic_vocabulary)\n",
    "neutral_gensim_dict = Dictionary.from_corpus(corpus = neutral_corpus, id2word = neutral_vocabulary)"
   ]
  },
  {
   "cell_type": "markdown",
   "metadata": {},
   "source": [
    "## Topic Modeling with Latent Dirichlet Allocation"
   ]
  },
  {
   "cell_type": "markdown",
   "metadata": {},
   "source": [
    "In order to identify possible topics that are more prone to toxic speech **Latent Dirichlet Allocation (LDA)** was conducted.\n",
    "\n",
    "The general process of LDA is:\n",
    "1. Choose a number of topics (K)\n",
    "2. For each document in the corpus, randomly assign the words in a document to a topic. (This step generates a list of topics in the documents and a list of words for each topic.)\n",
    "3. Iterate over the document, reassigning the words and topics based on p(word|topic) and p(topic|document) until a steady state is reached.\n",
    "\n",
    "After this process, you can view the topic probability distribution for each document and the word probability distribution for each topic. \n",
    "\n",
    "The Gensim topic modeling library provides an LDA model that will be used to identify topics in each corpus. Because LDA is an iterative process, the LDA model will run for 50 iterations."
   ]
  },
  {
   "cell_type": "code",
   "execution_count": 15,
   "metadata": {},
   "outputs": [],
   "source": [
    "def build_gensim_lda(corpus, n_topics, vocabulary, n_passes):\n",
    "    lda = LdaModel(corpus = corpus, num_topics = n_topics, id2word = vocabulary, passes = n_passes, decay = 0.7, offset = 10, random_state = 2020)\n",
    "    return lda"
   ]
  },
  {
   "cell_type": "code",
   "execution_count": 16,
   "metadata": {},
   "outputs": [],
   "source": [
    "def build_gensim_coherence_model(model, corpus, dictionary):\n",
    "    coherence = CoherenceModel(model = model, corpus = corpus, dictionary = dictionary, coherence = 'u_mass')\n",
    "    return round(coherence.get_coherence(), 3)"
   ]
  },
  {
   "cell_type": "code",
   "execution_count": 17,
   "metadata": {},
   "outputs": [],
   "source": [
    "def get_topic_terms(model, n_topics, n_words):\n",
    "    return model.print_topics(num_topics = n_topics, num_words = n_words)"
   ]
  },
  {
   "cell_type": "code",
   "execution_count": 18,
   "metadata": {},
   "outputs": [],
   "source": [
    "# Function Written By Selva Prabhakaran\n",
    "# https://www.machinelearningplus.com/nlp/topic-modeling-gensim-python/\n",
    "\n",
    "def assign_topics_sentences(ldamodel, corpus, texts):\n",
    "    # Init output\n",
    "    sent_topics_df = pd.DataFrame()\n",
    "\n",
    "    # Get main topic in each document\n",
    "    for i, row in enumerate(ldamodel[corpus]): # iterate over transformed corpus to get topic probabilities for document\n",
    "        row = sorted(row, key=lambda x: (x[1]), reverse=True)\n",
    "        # Get the Dominant topic, Probability and Keywords for each document\n",
    "        for j, (topic_num, prop_topic) in enumerate(row):\n",
    "            if j == 0:  # => dominant topic\n",
    "                wp = ldamodel.show_topic(topic_num)\n",
    "                topic_keywords = \", \".join([word for word, prop in wp])\n",
    "                sent_topics_df = sent_topics_df.append(pd.Series([int(topic_num), round(prop_topic,4), topic_keywords]), ignore_index=True)\n",
    "            else:\n",
    "                break\n",
    "\n",
    "    sent_topics_df.columns = ['Dominant_Topic', 'Probability', 'Topic_Keywords']\n",
    "\n",
    "    # Add original text to the end of the output\n",
    "    contents = pd.Series(texts)\n",
    "    sent_topics_df = pd.concat([sent_topics_df, contents], axis=1)\n",
    "    \n",
    "    sent_topics_df.columns = ['Dominant_Topic', 'Probability', 'Keywords', 'Original_Text']\n",
    "    \n",
    "    return sent_topics_df"
   ]
  },
  {
   "cell_type": "code",
   "execution_count": 19,
   "metadata": {},
   "outputs": [],
   "source": [
    "def display_pyLDAvis(model, corpus, gensim_dict):\n",
    "    prepared = pyLDAvis.gensim.prepare(model, corpus, gensim_dict)\n",
    "    display = pyLDAvis.display(prepared)\n",
    "    return display"
   ]
  },
  {
   "cell_type": "markdown",
   "metadata": {},
   "source": [
    "##### Toxic Corpus\n",
    "\n",
    "\n",
    "- It's challenging to know how many topics to try to create since this is an unsupervised learning model, but I'll start with 5. I believe there are ways to tune this to find a more optimal number depending on the corpus, but I'll start here as a proof concept"
   ]
  },
  {
   "cell_type": "code",
   "execution_count": 20,
   "metadata": {},
   "outputs": [],
   "source": [
    "#### Build a LDA model with 5 topics\n",
    "\n",
    "toxic_lda_model = build_gensim_lda(toxic_corpus, \n",
    "                               n_topics = 5, \n",
    "                               vocabulary = toxic_vocabulary, \n",
    "                               n_passes = 50)"
   ]
  },
  {
   "cell_type": "code",
   "execution_count": 21,
   "metadata": {},
   "outputs": [
    {
     "data": {
      "text/plain": [
       "-7.133"
      ]
     },
     "execution_count": 21,
     "metadata": {},
     "output_type": "execute_result"
    }
   ],
   "source": [
    "#### Evaluate Model on UMass Coherence\n",
    "\n",
    "build_gensim_coherence_model(toxic_lda_model, corpus = toxic_corpus, dictionary = toxic_vocabulary)"
   ]
  },
  {
   "cell_type": "markdown",
   "metadata": {},
   "source": [
    "The Toxic LDA model with 5 topics has a coherence score of -7.133. Given that UMass coherence scores can range from 0 (best) to -14 (worst), this is an ok score and indicates that words within a topic are similar, but this could certainly use some tuning."
   ]
  },
  {
   "cell_type": "code",
   "execution_count": 22,
   "metadata": {},
   "outputs": [
    {
     "data": {
      "text/html": [
       "\n",
       "<link rel=\"stylesheet\" type=\"text/css\" href=\"https://cdn.jsdelivr.net/gh/bmabey/pyLDAvis@3.2.2/pyLDAvis/js/ldavis.v1.0.0.css\">\n",
       "\n",
       "\n",
       "<div id=\"ldavis_el205041405063897250008868632884\"></div>\n",
       "<script type=\"text/javascript\">\n",
       "\n",
       "var ldavis_el205041405063897250008868632884_data = {\"mdsDat\": {\"x\": [-0.062667084130316, 0.17515366347718647, 0.016591141171703128, -0.028545712125936096, -0.10053200839263739], \"y\": [-0.17109167557329105, -0.019231307238924005, 0.05783277237823981, 0.06954952546896076, 0.06294068496501463], \"topics\": [1, 2, 3, 4, 5], \"cluster\": [1, 1, 1, 1, 1], \"Freq\": [68.4359843428058, 10.3299869886317, 8.248303032238704, 6.916997538440875, 6.068728097882914]}, \"tinfo\": {\"Term\": [\"fuck\", \"fucking\", \"suck\", \"shit\", \"gay\", \"faggot\", \"bitch\", \"asshole\", \"dick\", \"na\", \"piece\", \"cunt\", \"penis\", \"piece shit\", \"fuck fuck\", \"cock\", \"gon\", \"hate\", \"fucker\", \"gon na\", \"hey\", \"mother\", \"ass\", \"fag\", \"thanks\", \"ha\", \"big\", \"son\", \"douche\", \"fuckin\", \"talk\", \"make\", \"edit\", \"way\", \"comment\", \"talk page\", \"edits\", \"look\", \"page\", \"real\", \"attack\", \"fact\", \"let\", \"editing\", \"read\", \"wrong\", \"personal\", \"site\", \"person\", \"damn\", \"editor\", \"work\", \"source\", \"admin\", \"trying\", \"deleted\", \"away\", \"word\", \"reason\", \"ip\", \"article\", \"wikipedia\", \"know\", \"really\", \"people\", \"idiot\", \"right\", \"time\", \"say\", \"crap\", \"think\", \"like\", \"good\", \"ll\", \"stop\", \"thing\", \"need\", \"going\", \"stupid\", \"block\", \"user\", \"life\", \"want\", \"fucking\", \"shit\", \"fuck\", \"little\", \"hell\", \"dont\", \"penis\", \"suck dick\", \"suck cock\", \"pee\", \"asshole fuck\", \"bitch fuck\", \"plz\", \"metal\", \"stupid bitch\", \"poop\", \"wong\", \"small penis\", \"die die\", \"212\", \"assclown\", \"think gay\", \"246\", \"limp\", \"fuck shit\", \"big fat\", \"fuck stupid\", \"gay fag\", \"gay gay\", \"think fuck\", \"fuk\", \"balls\", \"oh dear\", \"poo\", \"suck suck\", \"hate hate\", \"fuck bitch\", \"cock\", \"79\", \"gay\", \"suck\", \"ass\", \"butt\", \"dick\", \"fag\", \"hair\", \"bitch\", \"sucks\", \"186\", \"asshole\", \"hole\", \"fuck asshole\", \"fat\", \"big\", \"254\", \"hate\", \"fuck\", \"die\", \"ur\", \"cunt\", \"screw\", \"fucking\", \"dirty\", \"mom\", \"im\", \"boy\", \"hey\", \"shut\", \"retard\", \"like\", \"faggot\", \"stupid\", \"bastard\", \"lick\", \"fucking faggot\", \"eat shit\", \"mother fucker\", \"cum\", \"turd\", \"rot\", \"fucking cunt\", \"rot hell\", \"blah\", \"stfu\", \"boot\", \"fuck cunt\", \"32\", \"mother fucking\", \"stupid fucking\", \"mind business\", \"57\", \"fucken\", \"fuck faggot\", \"wolf\", \"fucking business\", \"loving\", \"oh shut\", \"hey fuck\", \"cocksucking\", \"jd\", \"cock sucker\", \"blah blah\", \"article piece\", \"piece shit\", \"fucker\", \"douchebag\", \"faggot\", \"piece\", \"mother\", \"nigger\", \"cunt\", \"shit\", \"fuck fucking\", \"fucking\", \"2005\", \"eat\", \"fuck\", \"hey\", \"wanker\", \"business\", \"sucking\", \"bitch\", \"die\", \"ban\", \"douche\", \"nigga\", \"ka\", \"nig\", \"bro\", \"yeah suck\", \"donkey\", \"douche bag\", \"mo\", \"suck bitch\", \"ha\", \"111\", \"ha ha\", \"house kill\", \"whack\", \"transgender\", \"suck ball\", \"testicle\", \"son bitch\", \"fuck nigga\", \"mutha\", \"fuck fuck\", \"gwernol\", \"kitten\", \"kids\", \"fuck self\", \"nigga fuck\", \"gtfo\", \"fuck page\", \"rap\", \"son\", \"ball\", \"bag\", \"fart\", \"fuck\", \"goddamn\", \"shut fuck\", \"fuckin\", \"fucked\", \"bitch\", \"kill\", \"nerd\", \"house\", \"crazy\", \"yo\", \"ur\", \"suck\", \"yeah\", \"black\", \"shut\", \"na\", \"gon\", \"gon na\", \"vagina\", \"wan\", \"wan na\", \"jeff\", \"fu\", \"tard\", \"sexy\", \"forsyth\", \"aids\", \"disturbed\", \"vagina vagina\", \"sexually\", \"im gon\", \"stop harassing\", \"psychopath\", \"shes\", \"boo\", \"emo\", \"neiln\", \"na fuck\", \"stop vandalising\", \"heil\", \"drop dead\", \"drmies\", \"williams\", \"guts\", \"lisa\", \"kiss\", \"mentally\", \"want fuck\", \"dickhead\", \"mate\", \"thanks\", \"freak\", \"vandalising\", \"body\", \"want\", \"point\"], \"Freq\": [418.0, 251.0, 175.0, 190.0, 136.0, 128.0, 162.0, 129.0, 112.0, 59.0, 74.0, 104.0, 62.0, 57.0, 55.0, 67.0, 41.0, 86.0, 49.0, 40.0, 101.0, 56.0, 51.0, 63.0, 57.0, 35.0, 57.0, 37.0, 33.0, 49.0, 129.93532989483987, 98.38422697222238, 96.13803832715834, 74.73624057831904, 74.04942169836748, 73.17939035010767, 72.29313249627675, 71.9774379622128, 214.70855417594106, 61.3286066507147, 60.10284764879039, 58.572581544571065, 57.35689639070003, 56.212566585651956, 55.47926525956126, 53.994501303847194, 53.42940701298497, 53.000397811637995, 52.76521237053077, 51.95219306887208, 51.57529442595691, 50.215170154927634, 49.62064113774328, 48.002014960394256, 47.50583387337237, 47.39306954862064, 46.45913827301648, 46.08699923308679, 44.94655622216597, 45.19061163703927, 150.84264487931245, 197.61902552476215, 148.7811477481095, 85.23491866934572, 142.48241728374717, 119.87498243178396, 78.79302175492873, 103.87687761028157, 91.45565527810139, 61.323344000259205, 117.72855196961882, 194.8583870003679, 73.67606588549751, 73.65934063200743, 131.75448713202877, 71.22155969368602, 72.02956141929768, 74.48313460853659, 122.21186580618466, 85.02124818157122, 88.93586040396424, 96.6885614395944, 95.91322340312517, 132.2317544940885, 110.05449832135125, 151.05954862945828, 80.97230938603246, 79.59997868964115, 74.82297972071206, 61.34444935302239, 33.217651225017555, 22.594854719332123, 12.106353825238145, 11.614960257141414, 11.005238840598235, 10.59082009299166, 10.279496087973152, 9.761750908157197, 9.540568443620955, 9.23177809765456, 8.51697602748349, 8.321293699083391, 7.822322517489623, 7.826817425941188, 7.679241521013841, 7.558444912568871, 7.512829963763395, 7.558063955124304, 7.514771743446774, 7.427683703435864, 7.3187571318922995, 7.310028209184596, 7.328000055104426, 7.3774057576300285, 7.262663581894364, 7.101978068142064, 7.036441056856412, 7.05408646053669, 6.910889294754985, 16.523585897544077, 52.34196415463107, 9.90377534804055, 91.41120999090583, 111.9881454571884, 36.92888283680014, 18.955529960944933, 64.80615967952862, 40.28445725106713, 12.211200842273113, 72.81478596318422, 11.15651983249497, 10.33413849513284, 60.087302765763035, 18.268463150315608, 10.976801373296661, 28.933290879067336, 28.384447370752664, 11.141773469538506, 31.57590765426625, 72.37749614010238, 26.786609307735304, 20.443657471851374, 28.395973442670048, 14.358713121491084, 40.24171992629778, 15.551200781659842, 16.124595601947185, 18.66935498818265, 16.513112488275905, 21.27352815999766, 20.009916329019784, 15.994925994895546, 23.308858531144047, 19.6377475142901, 16.98995309259587, 16.270290083310993, 22.598451835097094, 17.796083331486766, 15.651046680904459, 15.013031373618176, 14.503426701432767, 14.206429886157608, 13.346930874060737, 12.378556590837004, 11.99411028720515, 11.374997095052722, 11.161261619913189, 11.018159819003431, 10.274302823822923, 10.229140055478096, 9.313702680615588, 8.748678888985197, 8.340689409161834, 8.356880783966016, 8.306110498682285, 7.784795905023037, 7.697393573494861, 7.575017457824127, 7.70541852565417, 7.407205996975567, 7.246490343302353, 7.250424051932168, 7.092626421351365, 7.10538623001846, 7.030192335008502, 6.937024433434837, 50.11195522928283, 40.08815466063966, 17.884713295177242, 87.19670288188641, 53.069959020969314, 35.91336788645332, 28.994716997107364, 44.72810882833616, 64.72625229843379, 9.281408026181387, 72.95608688608463, 10.95793692153205, 18.65559996261847, 54.875391884396166, 24.663008880219685, 12.900531898302473, 12.794161639363272, 11.94492001478037, 16.70393429215074, 12.97268806442454, 11.347840980306735, 32.59848544186104, 26.075757513128536, 13.178968581939326, 11.792248737222643, 10.756707268457667, 10.296145905621344, 10.133018345623778, 9.134310730514814, 8.904410294754381, 8.84766895129207, 33.206482169608584, 8.759053895816383, 16.552134330139808, 7.558730037951411, 7.07688143677932, 6.923562911051734, 6.836561400864212, 6.614774321023524, 20.8539408038743, 6.392896416791449, 6.135520950786233, 49.327674318099966, 6.043217729713819, 5.929677680015691, 5.71665059099612, 5.613969922716231, 5.410206487051844, 5.298017504496429, 5.181890480626353, 4.954553117882238, 26.76531193694434, 22.305241571099472, 15.748520115132571, 8.688990482773153, 139.77952056685137, 15.319448307553703, 12.311253205802034, 22.595073068182472, 17.317899544226517, 37.241184972430545, 19.094155208580627, 13.937844179274473, 11.148081304246166, 11.095792528794231, 13.869017542393408, 13.405199538461071, 18.402375804459034, 10.863727082900313, 9.85282205622437, 9.562248319617488, 58.88472224625904, 40.49935381152297, 39.633814865366034, 24.07260710938929, 22.76807783677227, 22.629417927823273, 13.888426534541079, 11.928629717964558, 11.831336425128063, 11.833833764528013, 11.007716178663953, 9.96122650123094, 9.766453091694443, 8.75009695962564, 7.089656788830819, 6.8881157801570545, 5.96010827186783, 5.933356238433107, 5.854850944621238, 5.352614639992762, 5.386786249721075, 5.264941251034148, 4.931896068656918, 4.939194018802633, 4.817193841927037, 4.77894604051554, 4.703101271029295, 4.55014819270239, 4.510649052678582, 4.407964938196915, 21.63240988509643, 11.371248727926487, 5.947608992852786, 15.082741928430691, 12.74933627470433, 12.752506180012908, 7.407422066812267, 6.24331456655908, 6.105947555000194, 6.743424891875477, 5.939060847914335], \"Total\": [418.0, 251.0, 175.0, 190.0, 136.0, 128.0, 162.0, 129.0, 112.0, 59.0, 74.0, 104.0, 62.0, 57.0, 55.0, 67.0, 41.0, 86.0, 49.0, 40.0, 101.0, 56.0, 51.0, 63.0, 57.0, 35.0, 57.0, 37.0, 33.0, 49.0, 130.6875879860148, 99.13833650030094, 96.88858515972143, 75.48631396930163, 74.79661230527236, 73.92607482426453, 73.04153454125431, 72.7270009430634, 217.07706117755197, 62.08043199764545, 60.848184985868166, 59.317836204499024, 58.10651642255468, 56.964011876935764, 56.225770530251616, 54.7467049043152, 54.173749458473694, 53.75420305932615, 53.5189411552862, 52.70374633360449, 52.321474524789814, 50.963005966996334, 50.36465131447786, 48.75100288097941, 48.2527386625801, 48.14247983566224, 47.208047917671266, 46.833092250567645, 45.692455986456146, 45.94663331086384, 154.36712502561895, 206.00680281928763, 154.6873987690715, 87.62582210377636, 148.5521464272158, 125.80984900699447, 81.34649017240827, 109.47673399363828, 95.8061676367443, 62.934250844862156, 127.66863374948775, 225.3507889073871, 77.3891746269805, 77.3984270193668, 149.35744187126457, 74.88036467382322, 76.05129276602898, 79.5473115495472, 149.7560856975241, 95.89297427493253, 102.22189083932636, 116.10411949594919, 119.34957030100016, 251.72898933214478, 190.2136026077541, 418.29982922315656, 101.70173527325072, 102.41717805533916, 91.51540594201899, 62.11002648346558, 33.95693088063526, 23.337651798749114, 12.851259807080375, 12.353174497092615, 11.746445223258519, 11.34279564413497, 11.022343279540177, 10.509207530170453, 10.28660393810617, 9.969693489985147, 9.254966556504524, 9.060764386164763, 8.564351920397073, 8.573846611076636, 8.416338692984747, 8.299798350187624, 8.254055128421413, 8.303781767802453, 8.260626727718721, 8.171279508765297, 8.056829971388428, 8.047260653476304, 8.068201743256989, 8.12382032541292, 8.014504258265465, 7.840830124448862, 7.774909584656517, 7.79467181528916, 7.648842930538078, 18.36984640850773, 67.92266182654141, 11.268938808222094, 136.19498716423692, 175.39007070784965, 51.10073331626916, 24.583105124691137, 112.42591089211888, 63.310922465105115, 15.237137510668276, 162.2448288226924, 13.84626468383771, 12.532010210211164, 129.2233770453215, 26.84178124822833, 13.68709287003986, 53.58975278103622, 57.5545547954874, 14.185302933979685, 86.5144097011835, 418.29982922315656, 69.77358503498566, 50.259427882868664, 104.49764945342184, 24.357704689368013, 251.72898933214478, 31.77397789219326, 34.92651129020031, 52.5066676218853, 41.63375541124035, 101.810229700759, 82.6398453588343, 40.028204067839994, 225.3507889073871, 128.2988437810063, 149.7560856975241, 62.101219303532815, 23.338530122276193, 18.52558525720381, 16.382603660523515, 15.743031138268632, 15.246716533425607, 14.939177972090071, 14.080446378090642, 13.109637891311122, 12.722969689160722, 12.106068309745554, 11.894825670547334, 11.750366441128243, 11.007047317804442, 10.962748774109786, 10.04383857791426, 9.479872356541849, 9.071763240839758, 9.092237472328522, 9.044571087867121, 8.51421237260875, 8.42816445915149, 8.30244612104507, 8.448482293297186, 8.136758972108352, 7.978715471881078, 7.9843102507434205, 7.822162301610655, 7.8388928704224075, 7.758985413554083, 7.665212507963087, 57.32866859159411, 49.322051007705454, 21.302473013649895, 128.2988437810063, 74.04843781801715, 56.19582957601706, 48.68023664879091, 104.49764945342184, 190.2136026077541, 11.081927263182207, 251.72898933214478, 15.00159739195349, 41.59339809747622, 418.29982922315656, 101.810229700759, 24.023674076863465, 28.7129251505104, 23.626787782769203, 162.2448288226924, 69.77358503498566, 57.26192138175522, 33.32102623222522, 26.797893205219026, 13.898138798253722, 12.510240065381659, 11.481678050068894, 11.014752899455724, 10.85880575830714, 9.852844671916309, 9.626265441592139, 9.568883623375667, 35.948437858339254, 9.482366531616153, 18.06059515976381, 8.276109951004846, 7.799072627494035, 7.646822014942205, 7.558836590215929, 7.3355016533510415, 23.136915037220792, 7.110171354936864, 6.858987264172721, 55.14782229356009, 6.766527040787877, 6.650178761196631, 6.441765600805158, 6.343311185870793, 6.127188098640221, 6.02744731134509, 5.902913706037022, 5.67955417167129, 37.26972437875128, 30.412016959951774, 21.568112295877757, 10.797240479670041, 418.29982922315656, 23.80781330703005, 19.545311030609565, 49.84881908684461, 33.34814791293532, 162.2448288226924, 55.36432304276041, 32.45412416969801, 20.851949904137925, 21.501939374789757, 36.3655456694761, 50.259427882868664, 175.39007070784965, 49.41298469642996, 33.6019039717087, 82.6398453588343, 59.597956566507165, 41.2069841015424, 40.34135247182631, 24.782644485904687, 23.47590966623752, 23.336776642753122, 14.596141217415392, 12.637617424736401, 12.534881262440564, 12.545606129178193, 11.710892587728873, 10.669666678685761, 10.47220936416647, 9.45302088411754, 7.7947467672314055, 7.594548648711819, 6.66764941467733, 6.638903287420314, 6.574243296900722, 6.059262768723338, 6.09842966330972, 5.975211295959359, 5.636236170801548, 5.6471648939179495, 5.523628684519235, 5.485406848857165, 5.411988944033546, 5.255029460960788, 5.21882536497624, 5.114915095718809, 26.61481807844876, 14.810497025440082, 7.282310159511889, 24.777866471091922, 30.08932169926296, 57.43091409014414, 16.492798115464037, 12.374306519759871, 12.451419808812776, 119.34957030100016, 37.87349472227608], \"Category\": [\"Default\", \"Default\", \"Default\", \"Default\", \"Default\", \"Default\", \"Default\", \"Default\", \"Default\", \"Default\", \"Default\", \"Default\", \"Default\", \"Default\", \"Default\", \"Default\", \"Default\", \"Default\", \"Default\", \"Default\", \"Default\", \"Default\", \"Default\", \"Default\", \"Default\", \"Default\", \"Default\", \"Default\", \"Default\", \"Default\", \"Topic1\", \"Topic1\", \"Topic1\", \"Topic1\", \"Topic1\", \"Topic1\", \"Topic1\", \"Topic1\", \"Topic1\", \"Topic1\", \"Topic1\", \"Topic1\", \"Topic1\", \"Topic1\", \"Topic1\", \"Topic1\", \"Topic1\", \"Topic1\", \"Topic1\", \"Topic1\", \"Topic1\", \"Topic1\", \"Topic1\", \"Topic1\", \"Topic1\", \"Topic1\", \"Topic1\", \"Topic1\", \"Topic1\", \"Topic1\", \"Topic1\", \"Topic1\", \"Topic1\", \"Topic1\", \"Topic1\", \"Topic1\", \"Topic1\", \"Topic1\", \"Topic1\", \"Topic1\", \"Topic1\", \"Topic1\", \"Topic1\", \"Topic1\", \"Topic1\", \"Topic1\", \"Topic1\", \"Topic1\", \"Topic1\", \"Topic1\", \"Topic1\", \"Topic1\", \"Topic1\", \"Topic1\", \"Topic1\", \"Topic1\", \"Topic1\", \"Topic1\", \"Topic1\", \"Topic2\", \"Topic2\", \"Topic2\", \"Topic2\", \"Topic2\", \"Topic2\", \"Topic2\", \"Topic2\", \"Topic2\", \"Topic2\", \"Topic2\", \"Topic2\", \"Topic2\", \"Topic2\", \"Topic2\", \"Topic2\", \"Topic2\", \"Topic2\", \"Topic2\", \"Topic2\", \"Topic2\", \"Topic2\", \"Topic2\", \"Topic2\", \"Topic2\", \"Topic2\", \"Topic2\", \"Topic2\", \"Topic2\", \"Topic2\", \"Topic2\", \"Topic2\", \"Topic2\", \"Topic2\", \"Topic2\", \"Topic2\", \"Topic2\", \"Topic2\", \"Topic2\", \"Topic2\", \"Topic2\", \"Topic2\", \"Topic2\", \"Topic2\", \"Topic2\", \"Topic2\", \"Topic2\", \"Topic2\", \"Topic2\", \"Topic2\", \"Topic2\", \"Topic2\", \"Topic2\", \"Topic2\", \"Topic2\", \"Topic2\", \"Topic2\", \"Topic2\", \"Topic2\", \"Topic2\", \"Topic2\", \"Topic2\", \"Topic2\", \"Topic2\", \"Topic2\", \"Topic2\", \"Topic2\", \"Topic3\", \"Topic3\", \"Topic3\", \"Topic3\", \"Topic3\", \"Topic3\", \"Topic3\", \"Topic3\", \"Topic3\", \"Topic3\", \"Topic3\", \"Topic3\", \"Topic3\", \"Topic3\", \"Topic3\", \"Topic3\", \"Topic3\", \"Topic3\", \"Topic3\", \"Topic3\", \"Topic3\", \"Topic3\", \"Topic3\", \"Topic3\", \"Topic3\", \"Topic3\", \"Topic3\", \"Topic3\", \"Topic3\", \"Topic3\", \"Topic3\", \"Topic3\", \"Topic3\", \"Topic3\", \"Topic3\", \"Topic3\", \"Topic3\", \"Topic3\", \"Topic3\", \"Topic3\", \"Topic3\", \"Topic3\", \"Topic3\", \"Topic3\", \"Topic3\", \"Topic3\", \"Topic3\", \"Topic3\", \"Topic3\", \"Topic3\", \"Topic3\", \"Topic4\", \"Topic4\", \"Topic4\", \"Topic4\", \"Topic4\", \"Topic4\", \"Topic4\", \"Topic4\", \"Topic4\", \"Topic4\", \"Topic4\", \"Topic4\", \"Topic4\", \"Topic4\", \"Topic4\", \"Topic4\", \"Topic4\", \"Topic4\", \"Topic4\", \"Topic4\", \"Topic4\", \"Topic4\", \"Topic4\", \"Topic4\", \"Topic4\", \"Topic4\", \"Topic4\", \"Topic4\", \"Topic4\", \"Topic4\", \"Topic4\", \"Topic4\", \"Topic4\", \"Topic4\", \"Topic4\", \"Topic4\", \"Topic4\", \"Topic4\", \"Topic4\", \"Topic4\", \"Topic4\", \"Topic4\", \"Topic4\", \"Topic4\", \"Topic4\", \"Topic4\", \"Topic4\", \"Topic4\", \"Topic4\", \"Topic4\", \"Topic5\", \"Topic5\", \"Topic5\", \"Topic5\", \"Topic5\", \"Topic5\", \"Topic5\", \"Topic5\", \"Topic5\", \"Topic5\", \"Topic5\", \"Topic5\", \"Topic5\", \"Topic5\", \"Topic5\", \"Topic5\", \"Topic5\", \"Topic5\", \"Topic5\", \"Topic5\", \"Topic5\", \"Topic5\", \"Topic5\", \"Topic5\", \"Topic5\", \"Topic5\", \"Topic5\", \"Topic5\", \"Topic5\", \"Topic5\", \"Topic5\", \"Topic5\", \"Topic5\", \"Topic5\", \"Topic5\", \"Topic5\", \"Topic5\", \"Topic5\", \"Topic5\", \"Topic5\", \"Topic5\"], \"logprob\": [30.0, 29.0, 28.0, 27.0, 26.0, 25.0, 24.0, 23.0, 22.0, 21.0, 20.0, 19.0, 18.0, 17.0, 16.0, 15.0, 14.0, 13.0, 12.0, 11.0, 10.0, 9.0, 8.0, 7.0, 6.0, 5.0, 4.0, 3.0, 2.0, 1.0, -5.6498, -5.928, -5.9511, -6.2029, -6.2121, -6.2239, -6.2361, -6.2405, -5.1476, -6.4006, -6.4208, -6.4466, -6.4676, -6.4877, -6.5008, -6.528, -6.5385, -6.5466, -6.551, -6.5665, -6.5738, -6.6005, -6.6125, -6.6456, -6.656, -6.6584, -6.6783, -6.6863, -6.7114, -6.706, -5.5006, -5.2305, -5.5144, -6.0714, -5.5576, -5.7304, -6.15, -5.8737, -6.001, -6.4007, -5.7485, -5.2446, -6.2172, -6.2174, -5.6359, -6.2511, -6.2398, -6.2063, -5.7111, -6.074, -6.0289, -5.9454, -5.9534, -5.6323, -5.8159, -5.4992, -6.1227, -6.1398, -6.2017, -4.5095, -5.1229, -5.5083, -6.1323, -6.1737, -6.2276, -6.266, -6.2959, -6.3475, -6.3705, -6.4034, -6.4839, -6.5072, -6.569, -6.5685, -6.5875, -6.6033, -6.6094, -6.6034, -6.6091, -6.6208, -6.6356, -6.6368, -6.6343, -6.6276, -6.6433, -6.6656, -6.6749, -6.6724, -6.6929, -5.8212, -4.6682, -6.3331, -4.1106, -3.9076, -5.017, -5.6839, -4.4546, -4.93, -6.1237, -4.3381, -6.214, -6.2906, -4.5302, -5.7208, -6.2302, -5.261, -5.2802, -6.2153, -5.1736, -4.3441, -5.3381, -5.6083, -5.2798, -5.9617, -4.9311, -5.8819, -5.8457, -5.6991, -5.8219, -5.5685, -5.6298, -5.8537, -5.4772, -5.6486, -5.7934, -5.8367, -5.2831, -5.522, -5.6504, -5.692, -5.7266, -5.7473, -5.8097, -5.885, -5.9165, -5.9695, -5.9885, -6.0014, -6.0713, -6.0757, -6.1695, -6.2321, -6.2798, -6.2779, -6.284, -6.3488, -6.3601, -6.3761, -6.359, -6.3985, -6.4204, -6.4199, -6.4419, -6.4401, -6.4508, -6.4641, -4.4867, -4.7099, -5.517, -3.9328, -4.4294, -4.8199, -5.0339, -4.6004, -4.2308, -6.173, -4.1111, -6.0069, -5.4748, -4.3959, -5.1957, -5.8437, -5.852, -5.9207, -5.5853, -5.8381, -5.9719, -4.7407, -4.9639, -5.6463, -5.7575, -5.8494, -5.8932, -5.9091, -6.0129, -6.0384, -6.0448, -4.7222, -6.0549, -5.4184, -6.2022, -6.2681, -6.29, -6.3027, -6.3356, -5.1874, -6.3698, -6.4108, -4.3265, -6.426, -6.445, -6.4816, -6.4997, -6.5367, -6.5576, -6.5798, -6.6246, -4.9378, -5.1201, -5.4682, -6.0629, -3.2849, -5.4958, -5.7144, -5.1072, -5.3732, -4.6075, -5.2756, -5.5903, -5.8137, -5.8184, -5.5953, -5.6293, -5.3125, -5.8395, -5.9372, -5.9671, -4.0185, -4.3928, -4.4144, -4.913, -4.9687, -4.9749, -5.4631, -5.6152, -5.6234, -5.6231, -5.6955, -5.7954, -5.8152, -5.925, -6.1355, -6.1643, -6.309, -6.3135, -6.3268, -6.4165, -6.4102, -6.433, -6.4984, -6.4969, -6.5219, -6.5299, -6.5459, -6.5789, -6.5877, -6.6107, -5.0199, -5.663, -6.3111, -5.3806, -5.5486, -5.5484, -6.0916, -6.2626, -6.2848, -6.1855, -6.3126], \"loglift\": [30.0, 29.0, 28.0, 27.0, 26.0, 25.0, 24.0, 23.0, 22.0, 21.0, 20.0, 19.0, 18.0, 17.0, 16.0, 15.0, 14.0, 13.0, 12.0, 11.0, 10.0, 9.0, 8.0, 7.0, 6.0, 5.0, 4.0, 3.0, 2.0, 1.0, 0.3735, 0.3716, 0.3715, 0.3693, 0.3692, 0.3691, 0.369, 0.3689, 0.3683, 0.3671, 0.3669, 0.3666, 0.3663, 0.366, 0.3659, 0.3654, 0.3654, 0.3651, 0.3651, 0.3649, 0.3649, 0.3645, 0.3644, 0.3638, 0.3637, 0.3636, 0.3633, 0.3632, 0.3628, 0.3627, 0.3562, 0.3377, 0.3403, 0.3516, 0.3376, 0.3309, 0.3474, 0.3268, 0.3328, 0.3533, 0.2982, 0.2339, 0.3301, 0.3298, 0.2539, 0.3292, 0.3249, 0.3135, 0.176, 0.2589, 0.24, 0.1963, 0.1607, -0.2645, -0.1679, -0.6393, 0.1513, 0.1272, 0.1779, 2.2577, 2.2481, 2.2378, 2.2104, 2.2085, 2.2049, 2.2015, 2.2003, 2.1963, 2.1948, 2.1932, 2.187, 2.185, 2.1795, 2.179, 2.1785, 2.1766, 2.176, 2.176, 2.1755, 2.1747, 2.174, 2.174, 2.1739, 2.1737, 2.1716, 2.1711, 2.1703, 2.1703, 2.1687, 2.1642, 2.0095, 2.141, 1.8714, 1.8215, 1.9453, 2.0102, 1.7192, 1.818, 2.0487, 1.4689, 2.0541, 2.0773, 1.5044, 1.8853, 2.0494, 1.6538, 1.5632, 2.0286, 1.2622, 0.5158, 1.3128, 1.3706, 0.9672, 1.7416, 0.4367, 1.5556, 1.4972, 1.2361, 1.3454, 0.7045, 0.8519, 1.3528, 0.0013, 0.3932, 0.0937, 0.9307, 2.4629, 2.455, 2.4495, 2.4477, 2.4452, 2.4449, 2.4417, 2.4378, 2.4362, 2.4329, 2.4315, 2.4308, 2.4263, 2.4259, 2.4197, 2.4149, 2.4111, 2.4108, 2.41, 2.4056, 2.4045, 2.4035, 2.4031, 2.4012, 2.3989, 2.3987, 2.3973, 2.3969, 2.3965, 2.3953, 2.3606, 2.2879, 2.3203, 2.109, 2.1621, 2.0474, 1.977, 1.6466, 1.4172, 2.3179, 1.2567, 2.1811, 1.6934, 0.464, 1.0774, 1.8734, 1.6868, 1.8131, 0.2217, 0.8128, 0.8766, 2.6493, 2.6439, 2.6181, 2.6121, 2.606, 2.6037, 2.602, 2.5955, 2.5932, 2.5928, 2.5918, 2.5918, 2.584, 2.5805, 2.574, 2.5718, 2.5708, 2.5678, 2.5673, 2.5648, 2.5597, 2.5597, 2.5581, 2.5565, 2.5518, 2.549, 2.5467, 2.5422, 2.5409, 2.5346, 2.3401, 2.3612, 2.3567, 2.454, 1.5751, 2.2303, 2.209, 1.8799, 2.0159, 1.1995, 1.6066, 1.826, 2.045, 2.0096, 1.7072, 1.3496, 0.4167, 1.1564, 1.4444, 0.5145, 2.79, 2.7847, 2.7843, 2.773, 2.7714, 2.7712, 2.7523, 2.7443, 2.7443, 2.7436, 2.7401, 2.7333, 2.7322, 2.7248, 2.7072, 2.7044, 2.6898, 2.6897, 2.6861, 2.678, 2.6779, 2.6755, 2.6685, 2.6681, 2.6652, 2.6641, 2.6616, 2.658, 2.6562, 2.6533, 2.5947, 2.5378, 2.5996, 2.3056, 1.9433, 1.2972, 2.0016, 2.1179, 2.0894, -0.0715, 0.9493]}, \"token.table\": {\"Topic\": [4, 1, 2, 1, 3, 2, 2, 1, 2, 3, 3, 2, 3, 1, 5, 1, 3, 3, 1, 2, 2, 1, 2, 4, 2, 1, 1, 1, 4, 1, 4, 2, 1, 3, 1, 2, 3, 5, 1, 2, 2, 1, 2, 3, 4, 2, 1, 4, 3, 3, 1, 2, 1, 5, 5, 3, 1, 2, 4, 1, 3, 1, 2, 1, 2, 3, 3, 3, 1, 1, 3, 1, 4, 3, 1, 2, 3, 1, 1, 1, 2, 3, 1, 5, 1, 2, 3, 4, 2, 1, 2, 5, 4, 1, 2, 4, 4, 4, 1, 3, 5, 5, 1, 2, 3, 5, 3, 1, 1, 1, 1, 5, 1, 1, 2, 3, 4, 1, 2, 3, 2, 4, 1, 2, 3, 5, 1, 5, 5, 1, 2, 3, 4, 1, 2, 2, 4, 3, 3, 2, 4, 2, 3, 4, 4, 4, 2, 2, 1, 3, 4, 3, 1, 3, 1, 2, 4, 1, 2, 3, 4, 3, 3, 3, 2, 1, 2, 2, 2, 1, 4, 1, 2, 5, 5, 5, 1, 5, 4, 5, 4, 1, 2, 4, 2, 4, 1, 2, 1, 2, 2, 5, 1, 2, 3, 4, 1, 2, 3, 5, 3, 1, 2, 1, 4, 4, 1, 2, 1, 2, 5, 1, 3, 5, 4, 4, 1, 2, 4, 5, 1, 5, 4, 1, 2, 3, 1, 3, 1, 2, 3, 4, 1, 2, 3, 4, 2, 5, 1, 2, 3, 5, 1, 4, 1, 3, 1, 1, 5, 1, 5, 2, 3, 4, 1, 2, 3, 4, 1, 3, 4, 3, 3, 4, 5, 5, 1, 2, 3, 5, 1, 2, 4, 4, 4, 4, 1, 2, 3, 4, 2, 3, 1, 2, 2, 2, 1, 2, 3, 1, 1, 1, 3, 1, 3, 2, 1, 5, 2, 2, 5, 4, 1, 1, 1, 2, 1, 1, 2, 1, 5, 3, 3, 1, 2, 4, 1, 2, 5, 5, 5, 1, 2, 3, 1, 2, 3, 4, 2, 4, 1, 2, 1, 4, 1, 4, 1, 3, 1, 2, 3, 4, 5, 5, 5, 1, 2, 3, 4, 2, 3, 1, 2, 3, 4, 4, 4, 2, 2, 2, 1, 3, 1, 2, 1, 1, 5, 4, 1, 5, 1, 2, 1, 2, 2, 2, 1, 3, 5, 4, 1, 3, 1, 2, 4, 1, 2, 3, 4, 5, 5, 1, 5, 5, 5, 1, 3, 1, 2, 4, 5, 2, 5, 1, 4, 1, 2, 3, 4, 5, 3, 2, 1, 1, 1, 1, 2, 4, 4, 1, 2, 4], \"Freq\": [0.9491301533211309, 0.15959131587447853, 0.7979565793723927, 0.19997870370852178, 0.7332552469312464, 0.9341045387155333, 0.9638788392755534, 0.14099099675969348, 0.775450482178314, 0.9121799838756257, 0.8798714314652849, 0.8873950041066648, 0.08873950041066649, 0.9845951296055816, 0.9372364012060921, 0.9781875511054563, 0.019434189757062046, 0.9132166906955256, 0.2739686711216483, 0.7240600593929276, 0.9330701099393033, 0.48752788729476165, 0.46431227361405875, 0.03869268946783823, 0.9714102235683842, 0.9860606362200425, 0.9744101277015722, 0.23182371880341301, 0.7418359001709217, 0.2630539109107706, 0.7233982550046193, 0.8734164677473104, 0.7858625577719068, 0.1920997363442439, 0.5152877891751729, 0.25764389458758646, 0.1771301775289657, 0.03220548682344831, 0.5038697650090026, 0.4864949455259336, 0.9684495212882357, 0.2157233623652153, 0.4499372986474491, 0.10477991886310457, 0.2280504116432276, 0.9364535219744164, 0.684485022615533, 0.29760218374588393, 0.9086352165339135, 0.9021798117794859, 0.8864048762978033, 0.10428292662327097, 0.48187275765558585, 0.48187275765558585, 0.8251828961452153, 0.9361410178237646, 0.6004742967109438, 0.40832252176344175, 0.9580481138760023, 0.5224128130927601, 0.45275777134705875, 0.20339171860669575, 0.7728885307054438, 0.07361313390174298, 0.765576592578127, 0.14722626780348597, 0.8929832459392696, 0.8767194385198432, 0.9893496205146151, 0.9692655299952607, 0.015889598852381323, 0.46507432774760016, 0.5115817605223602, 0.9838183826081683, 0.29665739049774276, 0.26794861077215476, 0.43063169588382016, 0.9866471288558898, 0.9762687788505665, 0.3380003746330671, 0.5781585355565622, 0.08005272030783168, 0.36322739936064335, 0.6053789989344056, 0.3869659268111527, 0.3869659268111527, 0.18631692772388833, 0.042996214090128076, 0.8829277154823179, 0.5035567172069801, 0.5035567172069801, 0.9549083342639936, 0.9209115829657288, 0.8195341454040801, 0.14205258520337388, 0.0327813658161632, 0.9903656559078378, 0.9134417825191964, 0.14082871965511717, 0.844972317930703, 0.9238747624405731, 0.9115094172170118, 0.16829593926409062, 0.3606341555659085, 0.4568032637168174, 0.024042277037727232, 0.9766457354122862, 0.9908287941427094, 0.9830768261368529, 0.993855782397006, 0.9857405167101734, 0.8198831955186339, 0.9946418105440785, 0.1895407543084529, 0.6318025143615097, 0.04738518857711323, 0.12636050287230194, 0.1636803526916031, 0.15588605018247914, 0.6781043182937843, 0.18523251415635036, 0.8335463137035766, 0.3732056776174827, 0.5411482325453499, 0.07464113552349654, 0.9392964641761147, 0.5456927282436924, 0.4244276775228719, 0.9495460731792409, 0.36098508641619315, 0.17212533921831724, 0.13148463412510344, 0.33468815959117243, 0.14612306784137247, 0.8036768731275487, 0.9254296210188614, 0.05443703653052126, 0.9085088590311142, 0.939605409155281, 0.09066541147144948, 0.8885210324202049, 0.09023701169040584, 0.8121331052136526, 0.8438615190102233, 0.8470393180382098, 0.9458782368054888, 0.9634164557430502, 0.8566589837602703, 0.38982674641902576, 0.08996001840439057, 0.5097734376248799, 0.884508499328579, 0.18247416350536505, 0.8109962822460669, 0.26078852494683824, 0.2808491807119796, 0.46139508259825224, 0.5243734555571273, 0.15890104713852343, 0.28999441102780527, 0.023835157070778514, 0.9635714442905653, 0.9153570906755119, 0.9716292225100185, 0.8616635670907951, 0.32306622230479454, 0.6681596870394614, 0.8688280657353497, 0.8698612237663879, 0.336024140345461, 0.6300452631477395, 0.9302639970919447, 0.03771340528751127, 0.02514227019167418, 0.9707092346635184, 0.9915383979239489, 0.9562060889870387, 0.03876511171569076, 0.8295385661171705, 0.9580699966615502, 0.8867178042491611, 0.027817620446837353, 0.055635240893674706, 0.9179814747456326, 0.05536916093594989, 0.9412757359111481, 0.13125824969418964, 0.787549498165138, 0.6241734779964787, 0.36988057955346887, 0.9151711002003236, 0.9052020484311736, 0.7811189638204397, 0.09763987047755496, 0.10740385752531045, 0.01952797409551099, 0.5205763719007196, 0.20626610962103983, 0.2455548924059998, 0.029466587088719975, 0.877334205571021, 0.29804281340412286, 0.6705963301592764, 0.4316143114373209, 0.5275286028678366, 0.9666377135345667, 0.9538203959956151, 0.03974251649981729, 0.6284916086780048, 0.36185880499642703, 0.9217137612499637, 0.979397112635889, 0.8948932187917701, 0.9591576151165141, 0.9353770449920552, 0.9314216585667225, 0.5418652003896015, 0.05418652003896015, 0.3431812935800809, 0.05418652003896015, 0.15029221647165733, 0.8266071905941154, 0.9022313858703493, 0.9632329535933172, 0.006464650695257162, 0.02585860278102865, 0.9809571027368426, 0.9854947967801506, 0.8354570054974171, 0.09474254701517101, 0.025838876458683005, 0.05167775291736601, 0.8653175830688552, 0.10206309954145472, 0.02218763033509885, 0.008875052134039541, 0.9692205680155178, 0.7820266661606965, 0.7964465874881131, 0.1376574348744887, 0.04916336959803167, 0.009832673919606336, 0.9560917818327698, 0.038760477641869046, 0.9900036996763752, 0.9469156378947494, 0.9885176961760148, 0.5649844875172582, 0.4320469610426092, 0.20255903598960126, 0.7427164652952046, 0.9072481001895609, 0.8818572296932491, 0.9349420140767947, 0.2863154558126681, 0.45810472930026896, 0.20042081906886766, 0.02863154558126681, 0.2135389777237365, 0.6406169331712095, 0.142359318482491, 0.952802536452942, 0.896071748881987, 0.8747647092655266, 0.9899668277075928, 0.8871168362146423, 0.9467294687745449, 0.02629804079929291, 0.013149020399646456, 0.8367904919749315, 0.4313781486382435, 0.12325089961092671, 0.4313781486382435, 0.9592142067046663, 0.9702255248534376, 0.8160350097803636, 0.18487995580078054, 0.14379552117838487, 0.5957243020247373, 0.08216886924479135, 0.892762614276385, 0.8602933949493897, 0.9904316874096011, 0.009213318022414894, 0.9337605946919403, 0.9821280629503341, 0.9558932901018292, 0.02019492866412315, 0.02019492866412315, 0.9903035982386034, 0.9783336123084222, 0.27009347650456017, 0.7157477127370845, 0.12210295776913235, 0.8721639840652311, 0.9697785576951464, 0.8185143786524329, 0.15842213780369668, 0.900332013354114, 0.9721381381230727, 0.9037637302789248, 0.8803507896692319, 0.9781991332676871, 0.9825962551664198, 0.9700336950828654, 0.022824322237243892, 0.9848452885381911, 0.5745948521952043, 0.3997181580488378, 0.9711543771902753, 0.024586186764310767, 0.9232661842474092, 0.943176026759173, 0.9498344651988667, 0.020875482751623445, 0.020875482751623445, 0.36949294339414684, 0.5747668008353395, 0.8980407201203164, 0.9565101818469146, 0.9126525638058701, 0.5782972326476289, 0.07885871354285849, 0.34172109201905343, 0.556632212950802, 0.24201400563078349, 0.08470490197077422, 0.12100700281539174, 0.3581421645855328, 0.613957996432342, 0.9859694123175118, 0.9724508397790665, 0.26831429978863314, 0.7244486094293096, 0.08644194771785962, 0.9076404510375261, 0.9927597768482309, 0.9247718549786733, 0.8837858920600324, 0.0468674336698502, 0.020086043001364375, 0.04017208600272875, 0.013390695334242916, 0.8998673485729994, 0.8854000359339689, 0.814658044992004, 0.1135179243021645, 0.05342019967160682, 0.013355049917901705, 0.9515465339599974, 0.94937987153269, 0.22806308155624563, 0.6385766283574877, 0.028507885194530704, 0.10262838670031053, 0.9260684387675108, 0.9405485900167131, 0.9855318863414008, 0.9718192764829352, 0.8980493554930151, 0.4655732341246235, 0.5078980735904983, 0.14444328818403523, 0.7944380850121938, 0.994738689445486, 0.987472960975326, 0.9573285736624184, 0.9542632979712061, 0.7661379014608257, 0.2263589254316076, 0.9481791429472067, 0.040063907448473525, 0.9242677432543094, 0.0704949973668541, 0.8676034911807033, 0.9505320890505777, 0.9499735350713282, 0.03653744365658955, 0.009134360914147387, 0.9154129632312236, 0.9947621903007943, 0.937133222869111, 0.3183482318439548, 0.3979352898049435, 0.25865793837321327, 0.8706549963930065, 0.06847848286237129, 0.03913056163564074, 0.01956528081782037, 0.9684196540708228, 0.952076601789944, 0.48487565670196703, 0.48487565670196703, 0.9797277433333302, 0.9855688449219613, 0.4578816697564922, 0.5411328824394908, 0.8043598293474167, 0.09216623044605816, 0.04189374111184462, 0.05865123755658247, 0.13731906195918286, 0.8239143717550973, 0.9935575875449502, 0.8975426097870831, 0.9611333086591741, 0.014562625888775365, 0.019416834518367156, 0.004854208629591789, 0.9514694517213685, 0.9491983739488401, 0.9027358773908915, 0.9822114617990542, 0.9811038232787921, 0.9863607333880592, 0.667840653681141, 0.10118797783047591, 0.22261355122704699, 0.9078732942337847, 0.3849797862857613, 0.2199884493061493, 0.3849797862857613], \"Term\": [\"111\", \"186\", \"186\", \"2005\", \"2005\", \"212\", \"246\", \"254\", \"254\", \"32\", \"57\", \"79\", \"79\", \"admin\", \"aids\", \"article\", \"article\", \"article piece\", \"ass\", \"ass\", \"assclown\", \"asshole\", \"asshole\", \"asshole\", \"asshole fuck\", \"attack\", \"away\", \"bag\", \"bag\", \"ball\", \"ball\", \"balls\", \"ban\", \"ban\", \"bastard\", \"bastard\", \"bastard\", \"bastard\", \"big\", \"big\", \"big fat\", \"bitch\", \"bitch\", \"bitch\", \"bitch\", \"bitch fuck\", \"black\", \"black\", \"blah\", \"blah blah\", \"block\", \"block\", \"body\", \"body\", \"boo\", \"boot\", \"boy\", \"boy\", \"bro\", \"business\", \"business\", \"butt\", \"butt\", \"cock\", \"cock\", \"cock\", \"cock sucker\", \"cocksucking\", \"comment\", \"crap\", \"crap\", \"crazy\", \"crazy\", \"cum\", \"cunt\", \"cunt\", \"cunt\", \"damn\", \"deleted\", \"dick\", \"dick\", \"dick\", \"dickhead\", \"dickhead\", \"die\", \"die\", \"die\", \"die\", \"die die\", \"dirty\", \"dirty\", \"disturbed\", \"donkey\", \"dont\", \"dont\", \"dont\", \"douche\", \"douche bag\", \"douchebag\", \"douchebag\", \"drmies\", \"drop dead\", \"eat\", \"eat\", \"eat\", \"eat\", \"eat shit\", \"edit\", \"editing\", \"editor\", \"edits\", \"emo\", \"fact\", \"fag\", \"fag\", \"fag\", \"fag\", \"faggot\", \"faggot\", \"faggot\", \"fart\", \"fart\", \"fat\", \"fat\", \"fat\", \"forsyth\", \"freak\", \"freak\", \"fu\", \"fuck\", \"fuck\", \"fuck\", \"fuck\", \"fuck asshole\", \"fuck asshole\", \"fuck bitch\", \"fuck bitch\", \"fuck cunt\", \"fuck faggot\", \"fuck fuck\", \"fuck fuck\", \"fuck fucking\", \"fuck fucking\", \"fuck nigga\", \"fuck page\", \"fuck self\", \"fuck shit\", \"fuck stupid\", \"fucked\", \"fucked\", \"fucked\", \"fucken\", \"fucker\", \"fucker\", \"fuckin\", \"fuckin\", \"fuckin\", \"fucking\", \"fucking\", \"fucking\", \"fucking\", \"fucking business\", \"fucking cunt\", \"fucking faggot\", \"fuk\", \"gay\", \"gay\", \"gay fag\", \"gay gay\", \"goddamn\", \"goddamn\", \"going\", \"going\", \"going\", \"gon\", \"gon na\", \"good\", \"good\", \"gtfo\", \"guts\", \"gwernol\", \"ha\", \"ha\", \"ha\", \"ha ha\", \"ha ha\", \"hair\", \"hair\", \"hate\", \"hate\", \"hate hate\", \"heil\", \"hell\", \"hell\", \"hell\", \"hell\", \"hey\", \"hey\", \"hey\", \"hey\", \"hey fuck\", \"hole\", \"hole\", \"house\", \"house\", \"house kill\", \"idiot\", \"idiot\", \"im\", \"im\", \"im gon\", \"ip\", \"jd\", \"jeff\", \"ka\", \"kids\", \"kill\", \"kill\", \"kill\", \"kill\", \"kiss\", \"kiss\", \"kitten\", \"know\", \"know\", \"know\", \"let\", \"lick\", \"life\", \"life\", \"life\", \"life\", \"like\", \"like\", \"like\", \"like\", \"limp\", \"lisa\", \"little\", \"little\", \"little\", \"little\", \"ll\", \"ll\", \"look\", \"loving\", \"make\", \"mate\", \"mate\", \"mentally\", \"mentally\", \"metal\", \"mind business\", \"mo\", \"mom\", \"mom\", \"mom\", \"mom\", \"mother\", \"mother\", \"mother\", \"mother fucker\", \"mother fucking\", \"mutha\", \"na\", \"na fuck\", \"need\", \"need\", \"need\", \"neiln\", \"nerd\", \"nerd\", \"nerd\", \"nig\", \"nigga\", \"nigga fuck\", \"nigger\", \"nigger\", \"nigger\", \"nigger\", \"oh dear\", \"oh shut\", \"page\", \"page\", \"pee\", \"penis\", \"people\", \"people\", \"people\", \"person\", \"personal\", \"piece\", \"piece\", \"piece shit\", \"piece shit\", \"plz\", \"point\", \"point\", \"poo\", \"poop\", \"psychopath\", \"rap\", \"read\", \"real\", \"really\", \"really\", \"reason\", \"retard\", \"retard\", \"right\", \"right\", \"rot\", \"rot hell\", \"say\", \"say\", \"say\", \"screw\", \"screw\", \"sexually\", \"sexy\", \"shes\", \"shit\", \"shit\", \"shit\", \"shut\", \"shut\", \"shut\", \"shut\", \"shut fuck\", \"shut fuck\", \"site\", \"small penis\", \"son\", \"son\", \"son bitch\", \"son bitch\", \"source\", \"stfu\", \"stop\", \"stop\", \"stop\", \"stop\", \"stop\", \"stop harassing\", \"stop vandalising\", \"stupid\", \"stupid\", \"stupid\", \"stupid\", \"stupid bitch\", \"stupid fucking\", \"suck\", \"suck\", \"suck\", \"suck\", \"suck ball\", \"suck bitch\", \"suck cock\", \"suck dick\", \"suck suck\", \"sucking\", \"sucking\", \"sucks\", \"sucks\", \"talk\", \"talk page\", \"tard\", \"testicle\", \"thanks\", \"thanks\", \"thing\", \"thing\", \"think\", \"think\", \"think fuck\", \"think gay\", \"time\", \"time\", \"time\", \"transgender\", \"trying\", \"turd\", \"ur\", \"ur\", \"ur\", \"user\", \"user\", \"user\", \"user\", \"vagina\", \"vagina vagina\", \"vandalising\", \"vandalising\", \"wan\", \"wan na\", \"wanker\", \"wanker\", \"want\", \"want\", \"want\", \"want\", \"want fuck\", \"want fuck\", \"way\", \"whack\", \"wikipedia\", \"wikipedia\", \"wikipedia\", \"wikipedia\", \"williams\", \"wolf\", \"wong\", \"word\", \"work\", \"wrong\", \"yeah\", \"yeah\", \"yeah\", \"yeah suck\", \"yo\", \"yo\", \"yo\"]}, \"R\": 30, \"lambda.step\": 0.01, \"plot.opts\": {\"xlab\": \"PC1\", \"ylab\": \"PC2\"}, \"topic.order\": [4, 2, 3, 1, 5]};\n",
       "\n",
       "function LDAvis_load_lib(url, callback){\n",
       "  var s = document.createElement('script');\n",
       "  s.src = url;\n",
       "  s.async = true;\n",
       "  s.onreadystatechange = s.onload = callback;\n",
       "  s.onerror = function(){console.warn(\"failed to load library \" + url);};\n",
       "  document.getElementsByTagName(\"head\")[0].appendChild(s);\n",
       "}\n",
       "\n",
       "if(typeof(LDAvis) !== \"undefined\"){\n",
       "   // already loaded: just create the visualization\n",
       "   !function(LDAvis){\n",
       "       new LDAvis(\"#\" + \"ldavis_el205041405063897250008868632884\", ldavis_el205041405063897250008868632884_data);\n",
       "   }(LDAvis);\n",
       "}else if(typeof define === \"function\" && define.amd){\n",
       "   // require.js is available: use it to load d3/LDAvis\n",
       "   require.config({paths: {d3: \"https://d3js.org/d3.v5\"}});\n",
       "   require([\"d3\"], function(d3){\n",
       "      window.d3 = d3;\n",
       "      LDAvis_load_lib(\"https://cdn.jsdelivr.net/gh/bmabey/pyLDAvis@3.2.2/pyLDAvis/js/ldavis.v3.0.0.js\", function(){\n",
       "        new LDAvis(\"#\" + \"ldavis_el205041405063897250008868632884\", ldavis_el205041405063897250008868632884_data);\n",
       "      });\n",
       "    });\n",
       "}else{\n",
       "    // require.js not available: dynamically load d3 & LDAvis\n",
       "    LDAvis_load_lib(\"https://d3js.org/d3.v5.js\", function(){\n",
       "         LDAvis_load_lib(\"https://cdn.jsdelivr.net/gh/bmabey/pyLDAvis@3.2.2/pyLDAvis/js/ldavis.v3.0.0.js\", function(){\n",
       "                 new LDAvis(\"#\" + \"ldavis_el205041405063897250008868632884\", ldavis_el205041405063897250008868632884_data);\n",
       "            })\n",
       "         });\n",
       "}\n",
       "</script>"
      ],
      "text/plain": [
       "<IPython.core.display.HTML object>"
      ]
     },
     "execution_count": 22,
     "metadata": {},
     "output_type": "execute_result"
    }
   ],
   "source": [
    "#### Evaluate Topic Separation and Check Relevant Terms using pyLDAvis\n",
    "\n",
    "display_pyLDAvis(toxic_lda_model, toxic_corpus, toxic_gensim_dict)"
   ]
  },
  {
   "cell_type": "markdown",
   "metadata": {},
   "source": [
    "The ***pyLDAvis*** library was built to enable easier interpretation of topic models. On the left, the topics are plotted across two principle components. Similarity of topics is shown by proximity of topic circles, and the size demonstrates how prevalent the topic is in the corpus. On the right, the 30 most salient terms in the corpus are shown. If the cursor is placed over a topic circle, the right panel changes to show the relevant terms to the topic."
   ]
  },
  {
   "cell_type": "markdown",
   "metadata": {},
   "source": [
    "##### Neutral Corpus"
   ]
  },
  {
   "cell_type": "code",
   "execution_count": 23,
   "metadata": {},
   "outputs": [],
   "source": [
    "neutral_lda_model = build_gensim_lda(neutral_corpus, \n",
    "                               n_topics = 5, \n",
    "                               vocabulary = neutral_vocabulary, \n",
    "                               n_passes = 50)"
   ]
  },
  {
   "cell_type": "code",
   "execution_count": 24,
   "metadata": {},
   "outputs": [
    {
     "data": {
      "text/plain": [
       "-4.424"
      ]
     },
     "execution_count": 24,
     "metadata": {},
     "output_type": "execute_result"
    }
   ],
   "source": [
    "build_gensim_coherence_model(neutral_lda_model, corpus = neutral_corpus, dictionary = neutral_vocabulary)"
   ]
  },
  {
   "cell_type": "markdown",
   "metadata": {},
   "source": [
    "The Neutral LDA model with 5 topics has a coherence score of -4.424. Given that UMass coherence scores can range from 0 (best) to -14 (worst), this is a fairly good score and indicates that words within a topic are similar."
   ]
  },
  {
   "cell_type": "code",
   "execution_count": 25,
   "metadata": {},
   "outputs": [
    {
     "data": {
      "text/html": [
       "\n",
       "<link rel=\"stylesheet\" type=\"text/css\" href=\"https://cdn.jsdelivr.net/gh/bmabey/pyLDAvis@3.2.2/pyLDAvis/js/ldavis.v1.0.0.css\">\n",
       "\n",
       "\n",
       "<div id=\"ldavis_el205041405082748952724054959071\"></div>\n",
       "<script type=\"text/javascript\">\n",
       "\n",
       "var ldavis_el205041405082748952724054959071_data = {\"mdsDat\": {\"x\": [-0.04619880710576282, -0.12259506532510552, -0.0213440755901132, 0.19993668788349653, -0.009798739862515156], \"y\": [0.104906605825613, -0.1424053143147303, 0.10174188879294992, -0.05277861031882605, -0.01146456998500677], \"topics\": [1, 2, 3, 4, 5], \"cluster\": [1, 1, 1, 1, 1], \"Freq\": [71.42103799521014, 8.953777624655206, 6.814391862323327, 6.564358261089616, 6.246434256721708]}, \"tinfo\": {\"Term\": [\"utc\", \"page\", \"talk\", \"image\", \"wikipedia\", \"redirect\", \"deletion\", \"editing\", \"redirect talk\", \"use\", \"article\", \"blocked\", \"edit\", \"welcome\", \"copyright\", \"continue\", \"help\", \"talk page\", \"blocked editing\", \"2005\", \"thank\", \"vandalism\", \"think\", \"template\", \"deleted\", \"fair\", \"stop\", \"speedy\", \"vandalize\", \"link\", \"wp\", \"ll\", \"work\", \"reference\", \"sorry\", \"said\", \"ca\", \"really\", \"word\", \"actually\", \"book\", \"year\", \"let\", \"try\", \"going\", \"thought\", \"trying\", \"better\", \"probably\", \"understand\", \"mention\", \"way\", \"maybe\", \"state\", \"english\", \"lot\", \"example\", \"pov\", \"come\", \"editor\", \"source\", \"people\", \"say\", \"good\", \"ve\", \"thing\", \"fact\", \"time\", \"reason\", \"issue\", \"mean\", \"know\", \"read\", \"section\", \"article\", \"think\", \"point\", \"need\", \"comment\", \"user\", \"new\", \"like\", \"right\", \"make\", \"page\", \"thanks\", \"talk\", \"wikipedia\", \"edit\", \"want\", \"talk page\", \"link\", \"blocked editing\", \"vandalize\", \"vandalize page\", \"continue blocked\", \"stop continue\", \"questions\", \"welcome wikipedia\", \"continue vandalize\", \"welcome page\", \"editing talk\", \"want look\", \"learn contributing\", \"look welcome\", \"wikipedia blocked\", \"tutorial\", \"contributing encyclopedia\", \"vandalize wikipedia\", \"sandbox test\", \"tilde\", \"unconstructive\", \"experimenting\", \"test want\", \"removed use\", \"reverted removed\", \"wikipedia test\", \"test worked\", \"hello welcome\", \"manual style\", \"worked reverted\", \"fish\", \"page edit\", \"welcome\", \"test\", \"continue\", \"editing\", \"blocked\", \"editing wikipedia\", \"sandbox\", \"wikipedia\", \"ip address\", \"page\", \"talk contribs\", \"contribs\", \"learn\", \"edit\", \"talk\", \"help\", \"stop\", \"thank\", \"reverted\", \"talk page\", \"link\", \"question\", \"dyk\", \"na\", \"deletion article\", \"gon\", \"gon na\", \"article meet\", \"sounds\", \"articles deletion\", \"wikipedia articles\", \"speedy\", \"stop vandalizing\", \"page protected\", \"speedy deletion\", \"hesitate\", \"deletion tag\", \"orange\", \"speedily\", \"apple\", \"speedily deleted\", \"db\", \"indicate subject\", \"deleted wikipedia\", \"remove speedy\", \"page explaining\", \"vp\", \"explaining position\", \"games\", \"sounds like\", \"hesitate add\", \"userbox\", \"deletion\", \"criterion\", \"leave note\", \"beautiful\", \"punk\", \"archive\", \"template\", \"deleted\", \"vandalizing\", \"tag\", \"created\", \"eh\", \"note\", \"existing\", \"meet\", \"article\", \"articles\", \"subject\", \"page\", \"guideline\", \"hey\", \"discussion\", \"wikipedia\", \"talk\", \"category\", \"talk page\", \"notability\", \"notable\", \"think\", \"person\", \"utc\", \"2005\", \"16\", \"2005 utc\", \"2004\", \"21\", \"23\", \"2004 utc\", \"14\", \"september\", \"january\", \"july\", \"june\", \"november\", \"october\", \"01\", \"06\", \"2007 utc\", \"feb\", \"03\", \"04\", \"19\", \"36\", \"2014\", \"jun\", \"2008 utc\", \"00\", \"47\", \"2013\", \"07\", \"2008\", \"2007\", \"17\", \"13\", \"18\", \"2006\", \"2009\", \"march\", \"2012\", \"22\", \"2010\", \"15\", \"20\", \"11\", \"redirect\", \"redirect talk\", \"copyright\", \"fair use\", \"barnstar\", \"considered vandalism\", \"newsletter\", \"vandalism like\", \"indef\", \"commons\", \"sandbox thank\", \"nonsense wikipedia\", \"clinton\", \"copyright tag\", \"brian\", \"use rationale\", \"image copyright\", \"experiment use\", \"adding nonsense\", \"copyrighted\", \"nick\", \"licensed\", \"description page\", \"non free\", \"image page\", \"tropical\", \"uploaded image\", \"uploading\", \"copyright status\", \"cyclone\", \"like experiment\", \"use image\", \"experiment\", \"image\", \"wikipedia considered\", \"jpg\", \"uploaded\", \"license\", \"rationale\", \"file\", \"fair\", \"use\", \"talk\", \"use sandbox\", \"sandbox\", \"nonsense\", \"vandalism\", \"considered\", \"tag\", \"song\", \"thank\", \"wikipedia\"], \"Freq\": [100.0, 326.0, 315.0, 116.0, 251.0, 79.0, 94.0, 102.0, 67.0, 116.0, 376.0, 93.0, 157.0, 65.0, 47.0, 62.0, 99.0, 123.0, 49.0, 42.0, 113.0, 76.0, 170.0, 63.0, 70.0, 41.0, 91.0, 39.0, 40.0, 109.0, 111.13807896881521, 94.59472687111965, 93.39868171955847, 90.24328223157684, 69.16784820041237, 63.790197142534936, 62.919073926619994, 76.51411333370133, 61.49902566239496, 60.83094112402214, 59.038347877411425, 58.422894258515555, 57.44992999894278, 57.51349352282209, 63.13687885846524, 54.69566433428521, 50.5523788417324, 62.2884465605644, 49.377367828018414, 48.638073912957175, 47.8734350145659, 95.9113041202605, 47.50779596374973, 47.46896618391557, 47.207404025720344, 46.470329874377875, 46.35815674210634, 44.59244998140813, 50.743954101808974, 90.15231481309212, 162.51574344184473, 125.55815736678046, 112.53277688796209, 121.75128403608001, 113.41498819897467, 91.52702413527383, 79.38547421539815, 122.96248148780846, 72.39572243763706, 64.71444992050134, 69.70928824835674, 142.43046343470323, 82.91059840625803, 102.00242155253896, 334.11476002090194, 157.95870793265803, 79.33880555982282, 107.3414358535143, 95.10453260519748, 127.45062925723967, 83.84058825470531, 152.84452245355592, 75.42638085577035, 111.04778713059272, 227.83912173378846, 131.17750530609456, 204.00398522537986, 160.0338224108376, 113.15477183955579, 88.82212408549242, 88.20418261547213, 84.94208434004231, 48.73245951051119, 39.60192246813902, 27.32518615151922, 25.262949449100038, 18.562457414117475, 17.820968626613197, 16.982972052766026, 16.31500647747417, 14.69403676281406, 14.098966582215823, 13.637222257312493, 13.010254375925006, 12.903973070606352, 12.903636979857529, 12.900703579801805, 12.606099873013916, 12.429148093758847, 12.270144904853899, 12.317848281378774, 12.302308789516216, 12.013394426924394, 11.886141058879213, 11.387551777363965, 11.376096460281099, 11.34189452131792, 11.081135152936463, 10.75901031909049, 10.860297315881644, 10.570380058495337, 10.756443257950986, 23.703216813238388, 57.92392308382991, 30.378532962408155, 44.04872034472816, 60.72624237006029, 50.9085798909874, 13.007314254054306, 22.167388295795995, 62.63155964621723, 16.663399492066613, 64.15373884616844, 22.444971022700514, 22.843795126335277, 17.359947569001335, 35.45512188267488, 45.81550370294642, 27.372515795131402, 26.060543881849753, 26.542218388158258, 19.427616842284483, 23.025673995968084, 20.699444732163773, 17.543016199884974, 15.099760688780263, 13.705668828701542, 12.79722418021929, 9.782871103268192, 9.782871103268192, 9.56718591723478, 9.352987361445795, 9.344464560388623, 9.150018849402732, 36.09548874179245, 8.87831952297592, 8.025531425575005, 31.532878304439386, 7.898506902880044, 7.645396593380872, 7.72074613526028, 7.569609145276678, 7.4047696807242644, 7.332580634939167, 7.333700979135758, 7.073844048967799, 6.822181490188423, 6.740656754337758, 6.715575368369508, 6.702004879555365, 6.392688589903102, 6.430135710994641, 6.18648233428916, 6.108008106403917, 6.079980061726824, 65.2125161631351, 23.843261367518178, 7.597510831498721, 9.347421450551316, 8.031061526381011, 13.63245663753143, 21.831649087168444, 22.0123120066728, 10.294539971441738, 17.563673826338064, 15.022588924970142, 8.867251136200831, 16.755425805410304, 9.394449305028132, 10.89871039072908, 28.648387955481283, 9.966285260712853, 14.342675052830161, 25.002769523156882, 11.60037735689986, 11.309336490114731, 13.201324658339315, 15.329305402199083, 15.45665323883571, 10.852615644843398, 12.007716090163457, 10.207052855859901, 10.650622190352253, 11.383701766133754, 10.2154303702724, 100.2249263637958, 41.736345785696486, 30.378834989224252, 29.32018377936935, 26.94638182352102, 25.671583682403682, 23.63304088986521, 23.097085125859024, 22.30530003653244, 20.79759772249121, 21.379778320865253, 18.60267109158432, 18.205005445065424, 18.30894528691543, 17.36014754377636, 15.94997371662644, 15.253889804107626, 15.191168913176554, 14.82845081840639, 14.879550450871973, 14.155756277836051, 18.93506411804254, 13.302745459065305, 12.949219108544918, 12.672517644260592, 12.27726179987452, 12.095884026010696, 11.69625801284878, 14.138011460822003, 11.325337720389717, 26.934590055538568, 26.321721686527482, 18.728329706358206, 25.975352793303028, 21.31212448119194, 25.179252729032683, 18.780541100298564, 17.432262227806792, 17.681935469641868, 19.42464523585093, 17.75340359735364, 19.751635180390082, 20.058802654378987, 19.2689040113846, 79.0374001611409, 66.46162789828257, 46.42952664600245, 23.094704770804366, 21.721416205091906, 16.87827679336845, 13.061779996372536, 11.664137772995982, 11.182678706623555, 10.939686094300614, 9.851425452518313, 9.589020816999337, 8.926336286611416, 8.539395709836837, 7.529355730176828, 7.210694867613323, 7.182981761350902, 16.187674701164106, 7.0062332174593935, 6.984111689238076, 9.2886437206068, 6.414150566198644, 6.201428161367418, 7.07301890553503, 5.984956154220137, 5.759950472367052, 5.756470038601448, 8.046095102983537, 5.413869118829423, 5.397438582817667, 14.819032341022867, 7.567526081517797, 17.20288468651878, 83.5088843934252, 7.920040750985138, 20.331187840221713, 15.576182840315864, 8.983044566761583, 10.826842572273193, 20.496247247428336, 22.58477948894996, 33.48546052804235, 43.49928465195672, 12.551016259172819, 13.752782558859261, 12.250943032502743, 17.500585103319015, 11.822031857117395, 12.552569371087625, 10.587094988467898, 12.085979287986524, 12.919772483944891], \"Total\": [100.0, 326.0, 315.0, 116.0, 251.0, 79.0, 94.0, 102.0, 67.0, 116.0, 376.0, 93.0, 157.0, 65.0, 47.0, 62.0, 99.0, 123.0, 49.0, 42.0, 113.0, 76.0, 170.0, 63.0, 70.0, 41.0, 91.0, 39.0, 40.0, 109.0, 111.92157838908736, 95.37973354050182, 94.18557875201293, 91.20988671647952, 69.95028452859053, 64.56993867493412, 63.705500501191, 77.47298008408713, 62.276366566592124, 61.61055997037239, 59.82157058131119, 59.20098459338042, 58.228600674359214, 58.30327983567955, 64.01821129400538, 55.47530821399074, 51.338359435914455, 63.26320045995822, 50.15730718597905, 49.416150725338944, 48.65061939159641, 97.47790253566308, 48.28538909756774, 48.250402636182635, 47.98872204162655, 47.25075004317939, 47.13834464905944, 45.36890819229249, 51.64345909932389, 91.7916170086458, 166.1810194668464, 128.25243088584162, 114.89012376988252, 124.98199838986078, 116.39004195134191, 93.9121723351446, 81.22785335135276, 126.95802480749704, 73.97392651642284, 66.01855118760707, 71.25023500336385, 150.5017565105307, 85.57185896733647, 106.64993567777694, 376.87970503442955, 170.0331716733637, 81.90797729443672, 115.37327806230478, 100.95625632921227, 141.03334971361414, 88.33476279942744, 176.5899983014101, 78.91611572170775, 126.30745842199609, 326.459721686328, 167.55726647158832, 315.1461492613629, 251.10985132938754, 157.5618493929573, 102.64694700712947, 123.63370181632172, 109.66052297348617, 49.48568348165107, 40.35397844786705, 28.074272856643187, 26.015771603680125, 19.311220666613128, 18.57620448510201, 17.73589880185511, 17.06379031262924, 15.443050182596474, 14.85179826358686, 14.389898597366106, 13.759071994330293, 13.652799811133177, 13.652776141100244, 13.651618036419299, 13.354916237020406, 13.178358804366685, 13.018968483817469, 13.072004504730788, 13.059260822289826, 12.762842958854247, 12.634964733604079, 12.136233961199776, 12.124818056386001, 12.090708708008844, 11.829916974289738, 11.509338453309413, 11.620737799389902, 11.3190636671074, 11.523483951106533, 25.861131909938983, 65.0398778313384, 34.80799238750651, 62.159231800786614, 102.71938670995516, 93.06947036740705, 14.949667324476207, 37.73232761677407, 251.10985132938754, 23.940304688240747, 326.459721686328, 45.2944310567258, 48.76653225458869, 28.202006220818006, 157.5618493929573, 315.1461492613629, 99.24641928707452, 91.26793909885242, 113.67503517995796, 49.70437312642863, 123.63370181632172, 109.66052297348617, 77.15573036916024, 15.855646763350897, 14.467137238297296, 13.54930272443341, 10.536367338135722, 10.536367338135722, 10.322582053025021, 10.106538520499827, 10.097669387591875, 9.902694544612865, 39.09338170725771, 9.63201216867139, 8.778061827153474, 34.5824128704976, 8.673498913791068, 8.396505067605625, 8.481383188432321, 8.322207708583928, 8.159062651018655, 8.08518696526756, 8.08901719827093, 7.82418419960696, 7.5730932238765165, 7.490956905640041, 7.466029616620983, 7.45810160909532, 7.142984804546691, 7.186391485065443, 6.938357062681428, 6.858433098374088, 6.837908240465717, 94.41010439624243, 34.33354734536317, 8.933239176599095, 11.63424171091514, 10.339486679622693, 26.793552297413655, 63.606291029016276, 70.86477670880305, 16.887093849690963, 57.282874818544755, 46.91295034840102, 13.113102315061715, 66.13366831024986, 15.481399483917768, 22.95432434640987, 376.87970503442955, 18.629304235622588, 57.216269719027345, 326.459721686328, 34.52753638884413, 39.047894565519606, 101.11730587802593, 251.10985132938754, 315.1461492613629, 44.309852581510626, 123.63370181632172, 26.306870920649786, 46.59145048025669, 170.0331716733637, 57.66738086308753, 100.97467827940424, 42.49078362654451, 31.135499739988056, 30.069330572358126, 27.7024628702082, 26.425912277688333, 24.38757036570106, 23.846273820942447, 23.06587094754176, 21.556012458286197, 22.16642746067126, 19.366476919224496, 18.960138001567564, 19.07130531914199, 18.127817582523452, 16.701170099108285, 16.004657093456714, 15.941646974123483, 15.577309053674513, 15.631398252486326, 14.90582260905496, 19.996193088376007, 14.055524870159488, 13.705791174710452, 13.42212880409563, 13.027502467074935, 12.84583173578208, 12.450054848589414, 15.051383424217581, 12.076521066011257, 29.515089642006767, 29.53164694308105, 20.848739642163334, 30.07468640675424, 24.52574001699209, 30.17064964050936, 21.369882661852397, 19.74823962540937, 20.25745378993736, 23.484858594170905, 21.61273183837058, 26.437907657954952, 29.14292399529757, 28.211243842847157, 79.78485503779469, 67.20325635858309, 47.713367390475824, 23.875898843195884, 22.471492262351575, 17.628221058497086, 13.808245867371244, 12.407997156333625, 11.928651834311891, 11.687432073734636, 10.593967528164036, 10.332663060402208, 9.676363992448763, 9.280830154640663, 8.280967004874523, 7.952661838042327, 7.9252015204790025, 17.87236422624408, 7.748848233788761, 7.740516280176108, 10.308228581962094, 7.16405080412531, 6.942967237254834, 7.926553803391764, 6.727772755871233, 6.504241218533194, 6.50182277593079, 9.139188542593258, 6.156359597748802, 6.139851064409115, 16.966220740839056, 8.642110845475536, 20.73184876141587, 116.68976951934195, 9.215671302630172, 28.2253500502611, 20.962925765388682, 10.78798335189313, 13.768997247872392, 34.275500946364374, 41.436714320517616, 116.25034303493906, 315.1461492613629, 27.681800117849363, 37.73232761677407, 28.334613814332574, 76.48640335431367, 40.351652069703725, 57.282874818544755, 28.810831420476475, 113.67503517995796, 251.10985132938754], \"Category\": [\"Default\", \"Default\", \"Default\", \"Default\", \"Default\", \"Default\", \"Default\", \"Default\", \"Default\", \"Default\", \"Default\", \"Default\", \"Default\", \"Default\", \"Default\", \"Default\", \"Default\", \"Default\", \"Default\", \"Default\", \"Default\", \"Default\", \"Default\", \"Default\", \"Default\", \"Default\", \"Default\", \"Default\", \"Default\", \"Default\", \"Topic1\", \"Topic1\", \"Topic1\", \"Topic1\", \"Topic1\", \"Topic1\", \"Topic1\", \"Topic1\", \"Topic1\", \"Topic1\", \"Topic1\", \"Topic1\", \"Topic1\", \"Topic1\", \"Topic1\", \"Topic1\", \"Topic1\", \"Topic1\", \"Topic1\", \"Topic1\", \"Topic1\", \"Topic1\", \"Topic1\", \"Topic1\", \"Topic1\", \"Topic1\", \"Topic1\", \"Topic1\", \"Topic1\", \"Topic1\", \"Topic1\", \"Topic1\", \"Topic1\", \"Topic1\", \"Topic1\", \"Topic1\", \"Topic1\", \"Topic1\", \"Topic1\", \"Topic1\", \"Topic1\", \"Topic1\", \"Topic1\", \"Topic1\", \"Topic1\", \"Topic1\", \"Topic1\", \"Topic1\", \"Topic1\", \"Topic1\", \"Topic1\", \"Topic1\", \"Topic1\", \"Topic1\", \"Topic1\", \"Topic1\", \"Topic1\", \"Topic1\", \"Topic1\", \"Topic1\", \"Topic1\", \"Topic1\", \"Topic2\", \"Topic2\", \"Topic2\", \"Topic2\", \"Topic2\", \"Topic2\", \"Topic2\", \"Topic2\", \"Topic2\", \"Topic2\", \"Topic2\", \"Topic2\", \"Topic2\", \"Topic2\", \"Topic2\", \"Topic2\", \"Topic2\", \"Topic2\", \"Topic2\", \"Topic2\", \"Topic2\", \"Topic2\", \"Topic2\", \"Topic2\", \"Topic2\", \"Topic2\", \"Topic2\", \"Topic2\", \"Topic2\", \"Topic2\", \"Topic2\", \"Topic2\", \"Topic2\", \"Topic2\", \"Topic2\", \"Topic2\", \"Topic2\", \"Topic2\", \"Topic2\", \"Topic2\", \"Topic2\", \"Topic2\", \"Topic2\", \"Topic2\", \"Topic2\", \"Topic2\", \"Topic2\", \"Topic2\", \"Topic2\", \"Topic2\", \"Topic2\", \"Topic2\", \"Topic2\", \"Topic3\", \"Topic3\", \"Topic3\", \"Topic3\", \"Topic3\", \"Topic3\", \"Topic3\", \"Topic3\", \"Topic3\", \"Topic3\", \"Topic3\", \"Topic3\", \"Topic3\", \"Topic3\", \"Topic3\", \"Topic3\", \"Topic3\", \"Topic3\", \"Topic3\", \"Topic3\", \"Topic3\", \"Topic3\", \"Topic3\", \"Topic3\", \"Topic3\", \"Topic3\", \"Topic3\", \"Topic3\", \"Topic3\", \"Topic3\", \"Topic3\", \"Topic3\", \"Topic3\", \"Topic3\", \"Topic3\", \"Topic3\", \"Topic3\", \"Topic3\", \"Topic3\", \"Topic3\", \"Topic3\", \"Topic3\", \"Topic3\", \"Topic3\", \"Topic3\", \"Topic3\", \"Topic3\", \"Topic3\", \"Topic3\", \"Topic3\", \"Topic3\", \"Topic3\", \"Topic3\", \"Topic3\", \"Topic3\", \"Topic3\", \"Topic3\", \"Topic3\", \"Topic3\", \"Topic3\", \"Topic4\", \"Topic4\", \"Topic4\", \"Topic4\", \"Topic4\", \"Topic4\", \"Topic4\", \"Topic4\", \"Topic4\", \"Topic4\", \"Topic4\", \"Topic4\", \"Topic4\", \"Topic4\", \"Topic4\", \"Topic4\", \"Topic4\", \"Topic4\", \"Topic4\", \"Topic4\", \"Topic4\", \"Topic4\", \"Topic4\", \"Topic4\", \"Topic4\", \"Topic4\", \"Topic4\", \"Topic4\", \"Topic4\", \"Topic4\", \"Topic4\", \"Topic4\", \"Topic4\", \"Topic4\", \"Topic4\", \"Topic4\", \"Topic4\", \"Topic4\", \"Topic4\", \"Topic4\", \"Topic4\", \"Topic4\", \"Topic4\", \"Topic4\", \"Topic5\", \"Topic5\", \"Topic5\", \"Topic5\", \"Topic5\", \"Topic5\", \"Topic5\", \"Topic5\", \"Topic5\", \"Topic5\", \"Topic5\", \"Topic5\", \"Topic5\", \"Topic5\", \"Topic5\", \"Topic5\", \"Topic5\", \"Topic5\", \"Topic5\", \"Topic5\", \"Topic5\", \"Topic5\", \"Topic5\", \"Topic5\", \"Topic5\", \"Topic5\", \"Topic5\", \"Topic5\", \"Topic5\", \"Topic5\", \"Topic5\", \"Topic5\", \"Topic5\", \"Topic5\", \"Topic5\", \"Topic5\", \"Topic5\", \"Topic5\", \"Topic5\", \"Topic5\", \"Topic5\", \"Topic5\", \"Topic5\", \"Topic5\", \"Topic5\", \"Topic5\", \"Topic5\", \"Topic5\", \"Topic5\", \"Topic5\", \"Topic5\", \"Topic5\"], \"logprob\": [30.0, 29.0, 28.0, 27.0, 26.0, 25.0, 24.0, 23.0, 22.0, 21.0, 20.0, 19.0, 18.0, 17.0, 16.0, 15.0, 14.0, 13.0, 12.0, 11.0, 10.0, 9.0, 8.0, 7.0, 6.0, 5.0, 4.0, 3.0, 2.0, 1.0, -6.0269, -6.188, -6.2008, -6.2351, -6.5011, -6.582, -6.5958, -6.4002, -6.6186, -6.6295, -6.6594, -6.6699, -6.6867, -6.6856, -6.5923, -6.7359, -6.8146, -6.6059, -6.8381, -6.8532, -6.8691, -6.1742, -6.8767, -6.8776, -6.8831, -6.8988, -6.9012, -6.9401, -6.8108, -6.2361, -5.6469, -5.9049, -6.0144, -5.9357, -6.0066, -6.221, -6.3633, -5.9258, -6.4555, -6.5677, -6.4933, -5.7788, -6.3199, -6.1126, -4.9262, -5.6753, -6.3639, -6.0616, -6.1827, -5.8899, -6.3087, -5.7082, -6.4145, -6.0277, -5.309, -5.8611, -5.4195, -5.6623, -6.0089, -6.251, -6.258, -6.2957, -4.7748, -4.9822, -5.3533, -5.4318, -5.74, -5.7807, -5.8289, -5.869, -5.9737, -6.015, -6.0483, -6.0954, -6.1036, -6.1036, -6.1038, -6.1269, -6.1411, -6.154, -6.1501, -6.1513, -6.1751, -6.1857, -6.2286, -6.2296, -6.2326, -6.2559, -6.2854, -6.276, -6.3031, -6.2856, -5.4955, -4.602, -5.2474, -4.8758, -4.5547, -4.7311, -6.0956, -5.5625, -4.5239, -5.8479, -4.4998, -5.5501, -5.5324, -5.807, -5.0929, -4.8365, -5.3516, -5.4007, -5.3824, -5.6944, -5.5245, -5.631, -5.7965, -5.6734, -5.7703, -5.8389, -6.1074, -6.1074, -6.1297, -6.1524, -6.1533, -6.1743, -4.8019, -6.2045, -6.3055, -4.9371, -6.3214, -6.354, -6.3442, -6.3639, -6.386, -6.3958, -6.3956, -6.4317, -6.4679, -6.4799, -6.4837, -6.4857, -6.5329, -6.5271, -6.5657, -6.5785, -6.5831, -4.2104, -5.2166, -6.3603, -6.153, -6.3048, -5.7756, -5.3047, -5.2965, -6.0565, -5.5222, -5.6785, -6.2057, -5.5694, -6.148, -5.9994, -5.033, -6.0889, -5.7248, -5.1691, -5.937, -5.9625, -5.8078, -5.6583, -5.65, -6.0037, -5.9025, -6.065, -6.0225, -5.9559, -6.0642, -3.7433, -4.6193, -4.937, -4.9724, -5.0568, -5.1053, -5.1881, -5.211, -5.2459, -5.3159, -5.2883, -5.4274, -5.449, -5.4433, -5.4965, -5.5812, -5.6259, -5.63, -5.6542, -5.6507, -5.7006, -5.4097, -5.7627, -5.7897, -5.8113, -5.8429, -5.8578, -5.8914, -5.7018, -5.9237, -5.0573, -5.0803, -5.4207, -5.0936, -5.2914, -5.1247, -5.4179, -5.4924, -5.4782, -5.3842, -5.4741, -5.3675, -5.352, -5.3922, -3.9311, -4.1044, -4.4631, -5.1615, -5.2228, -5.475, -5.7314, -5.8445, -5.8867, -5.9087, -6.0134, -6.0404, -6.112, -6.1564, -6.2822, -6.3255, -6.3293, -5.5168, -6.3543, -6.3574, -6.0723, -6.4425, -6.4763, -6.3448, -6.5118, -6.5501, -6.5507, -6.2159, -6.6121, -6.6151, -5.6051, -6.2772, -5.456, -3.8761, -6.2317, -5.2889, -5.5553, -6.1057, -5.919, -5.2808, -5.1838, -4.7899, -4.5283, -5.7713, -5.6798, -5.7955, -5.4388, -5.8311, -5.7711, -5.9414, -5.809, -5.7423], \"loglift\": [30.0, 29.0, 28.0, 27.0, 26.0, 25.0, 24.0, 23.0, 22.0, 21.0, 20.0, 19.0, 18.0, 17.0, 16.0, 15.0, 14.0, 13.0, 12.0, 11.0, 10.0, 9.0, 8.0, 7.0, 6.0, 5.0, 4.0, 3.0, 2.0, 1.0, 0.3296, 0.3283, 0.3282, 0.3259, 0.3253, 0.3244, 0.3242, 0.3241, 0.324, 0.3238, 0.3234, 0.3233, 0.3231, 0.3229, 0.3227, 0.3224, 0.3211, 0.321, 0.3209, 0.3207, 0.3205, 0.3204, 0.3203, 0.3202, 0.3202, 0.3199, 0.3199, 0.3193, 0.319, 0.3186, 0.3143, 0.3153, 0.3158, 0.3104, 0.3107, 0.3109, 0.3136, 0.3046, 0.315, 0.3166, 0.3147, 0.2815, 0.305, 0.292, 0.2161, 0.2629, 0.3047, 0.2644, 0.2769, 0.2353, 0.2844, 0.1922, 0.2913, 0.2078, -0.0231, 0.0918, -0.0983, -0.1139, 0.0055, 0.1919, -0.0011, 0.0812, 2.3978, 2.3943, 2.386, 2.3837, 2.3735, 2.3716, 2.3697, 2.3682, 2.3634, 2.3611, 2.3594, 2.3571, 2.3567, 2.3567, 2.3565, 2.3554, 2.3546, 2.3539, 2.3537, 2.3534, 2.3526, 2.352, 2.3494, 2.3494, 2.3492, 2.3477, 2.3457, 2.3454, 2.3447, 2.3442, 2.326, 2.2972, 2.277, 2.0687, 1.8875, 1.8098, 2.2739, 1.8812, 1.0245, 2.0507, 0.7861, 1.711, 1.6547, 1.9279, 0.9215, 0.4847, 1.125, 1.1597, 0.9585, 1.4737, 0.7324, 0.7458, 0.9319, 2.6373, 2.6321, 2.629, 2.6119, 2.6119, 2.6101, 2.6086, 2.6086, 2.6071, 2.6063, 2.6047, 2.5965, 2.5938, 2.5925, 2.5924, 2.5922, 2.5913, 2.5891, 2.5884, 2.5881, 2.5853, 2.5817, 2.5806, 2.5802, 2.5792, 2.5752, 2.5749, 2.5714, 2.5703, 2.5687, 2.3161, 2.3215, 2.5242, 2.4673, 2.4335, 2.0104, 1.6168, 1.517, 2.1912, 1.504, 1.5474, 2.2949, 1.3132, 2.1866, 1.9413, 0.1093, 2.0606, 1.3025, 0.1168, 1.5954, 1.447, 0.6502, -0.11, -0.3289, 1.2793, 0.3544, 1.7394, 1.2103, -0.0177, 0.9553, 2.7161, 2.7056, 2.6989, 2.6983, 2.6958, 2.6946, 2.6921, 2.6916, 2.69, 2.6877, 2.6874, 2.6833, 2.6829, 2.6827, 2.6802, 2.6775, 2.6755, 2.6753, 2.6742, 2.6742, 2.6719, 2.669, 2.6685, 2.6667, 2.666, 2.6642, 2.6634, 2.6611, 2.6609, 2.6593, 2.632, 2.6084, 2.6163, 2.577, 2.5831, 2.5427, 2.5944, 2.5988, 2.5875, 2.5337, 2.5268, 2.432, 2.35, 2.3423, 2.7637, 2.7621, 2.7459, 2.7399, 2.7392, 2.7297, 2.7176, 2.7113, 2.7086, 2.707, 2.7005, 2.6985, 2.6925, 2.6899, 2.678, 2.6752, 2.6748, 2.6742, 2.6724, 2.6703, 2.669, 2.6626, 2.6602, 2.6592, 2.6562, 2.6516, 2.6514, 2.6458, 2.6446, 2.6443, 2.6378, 2.6404, 2.5866, 2.4386, 2.6217, 2.4451, 2.4761, 2.5901, 2.5328, 2.259, 2.1663, 1.5285, 0.7929, 1.9822, 1.7639, 1.9347, 1.2983, 1.5455, 1.2551, 1.772, 0.5319, -0.194]}, \"token.table\": {\"Topic\": [4, 4, 4, 4, 4, 4, 1, 3, 4, 1, 3, 4, 4, 1, 4, 4, 2, 4, 1, 4, 4, 1, 4, 4, 4, 4, 4, 1, 4, 5, 2, 4, 4, 1, 2, 4, 4, 2, 4, 1, 4, 1, 4, 4, 4, 4, 1, 4, 4, 4, 4, 1, 5, 3, 1, 3, 1, 2, 3, 4, 5, 3, 1, 2, 3, 3, 5, 1, 3, 1, 1, 2, 3, 2, 1, 5, 1, 1, 3, 5, 1, 1, 2, 3, 5, 1, 2, 5, 5, 1, 2, 2, 2, 1, 2, 2, 1, 5, 5, 5, 5, 1, 2, 3, 5, 1, 3, 5, 5, 3, 1, 2, 3, 5, 3, 1, 2, 3, 5, 3, 3, 5, 1, 2, 3, 5, 3, 1, 2, 3, 5, 1, 2, 3, 2, 1, 2, 1, 2, 1, 3, 1, 1, 1, 3, 2, 3, 5, 3, 5, 2, 3, 1, 3, 1, 5, 5, 4, 1, 2, 5, 2, 3, 1, 3, 3, 1, 2, 1, 2, 3, 5, 2, 1, 2, 3, 3, 1, 3, 1, 2, 5, 5, 5, 5, 3, 1, 2, 1, 4, 4, 2, 5, 4, 4, 4, 1, 3, 4, 5, 1, 2, 2, 2, 3, 1, 1, 5, 5, 1, 2, 3, 4, 5, 2, 3, 5, 1, 2, 5, 1, 2, 1, 1, 2, 3, 2, 1, 4, 1, 1, 4, 1, 3, 5, 1, 3, 1, 2, 5, 1, 2, 3, 5, 5, 5, 1, 2, 5, 5, 1, 3, 1, 3, 1, 2, 3, 5, 4, 4, 3, 1, 2, 3, 5, 2, 5, 3, 3, 1, 3, 1, 3, 4, 1, 2, 4, 1, 1, 1, 3, 1, 2, 3, 5, 2, 1, 5, 1, 2, 3, 1, 1, 5, 5, 5, 1, 3, 2, 1, 2, 2, 1, 3, 5, 1, 2, 3, 5, 2, 5, 1, 3, 1, 3, 4, 1, 5, 1, 3, 3, 1, 3, 5, 3, 3, 3, 5, 3, 5, 1, 1, 2, 3, 5, 2, 3, 1, 3, 5, 1, 3, 5, 1, 2, 3, 4, 5, 1, 2, 1, 2, 3, 1, 2, 3, 5, 1, 2, 3, 2, 2, 1, 2, 3, 5, 1, 2, 3, 4, 5, 1, 2, 1, 3, 1, 2, 1, 3, 5, 1, 1, 2, 2, 1, 2, 5, 5, 2, 5, 1, 2, 3, 5, 2, 5, 5, 2, 3, 5, 1, 2, 3, 3, 4, 1, 2, 5, 5, 2, 2, 2, 1, 3, 1, 4, 3, 1, 2, 3, 5, 2, 1, 2, 1, 2, 2, 2, 1, 2, 3, 5, 3, 2, 2, 5, 2, 1, 1, 2, 1, 1], \"Freq\": [0.934155159963211, 0.9580167081140187, 0.9596070522746808, 0.9392302838419201, 0.9372272028328895, 0.9108583457001479, 0.28357487690243643, 0.035446859612804554, 0.6734903326432865, 0.03325055451868046, 0.09975166355604138, 0.864514417485692, 0.9537901278488097, 0.2269468551606295, 0.7564895172020983, 0.9635303833415043, 0.04796453009455092, 0.9113260717964674, 0.12232046812538662, 0.8562432768777064, 0.9501808627285608, 0.3088228209857123, 0.6862729355238051, 0.974642584181075, 0.9645112763823409, 0.988449645201697, 0.9644378324357799, 0.06628959017556756, 0.8286198771945944, 0.06628959017556756, 0.10158593612412355, 0.8804114464090708, 0.9409316380138159, 0.033880974516058045, 0.033880974516058045, 0.9147863119335672, 0.9211282078301812, 0.09358965754033928, 0.8891017466332232, 0.1388070708707861, 0.8328424252247166, 0.0987290910663943, 0.8885618195975487, 0.9301470572780763, 0.9485041639907108, 0.9838827786449614, 0.1277418804959132, 0.8090319098074503, 0.984107872990655, 0.9249032049738382, 0.963851175431536, 0.9900900110197667, 0.903360059302308, 0.8579416900452472, 0.48519135707342814, 0.5225137691559996, 0.8862244252963627, 0.02388029888523133, 0.07694762974130095, 0.005306733085606962, 0.007960099628410443, 0.9687498678753066, 0.21471547994536902, 0.21471547994536902, 0.5367886998634226, 0.891294778482181, 0.979018204183017, 0.17190634763274845, 0.773578564347368, 0.9800326184768703, 0.42978647930511926, 0.5479777611140271, 0.021489323965255963, 0.9901853738802827, 0.986266315422219, 0.9660707493811853, 0.9889255951897308, 0.7447553552405647, 0.24825178508018825, 0.9301014313871838, 0.9875403563094728, 0.9410016125222663, 0.00990528013181333, 0.03962112052725332, 0.941181940618118, 0.6195533198198385, 0.07434639837838063, 0.2973855935135225, 0.9643627648863483, 0.28957886831175755, 0.7078594558731851, 0.9609555457683816, 0.937658029480009, 0.5126466624587116, 0.4716349294620147, 0.9734243007802204, 0.020958487205822583, 0.9640904114678388, 0.8121682823447077, 0.9697408367612201, 0.9043324432928833, 0.5542179676807768, 0.021316075680029876, 0.3197411352004481, 0.0852643027201195, 0.14563016019593625, 0.6990247689404939, 0.14563016019593625, 0.8143520009766212, 0.8653708885050073, 0.5503439340570913, 0.0564455316981632, 0.3104504243398976, 0.08466829754724481, 0.92432507999906, 0.19065755847968757, 0.08473669265763892, 0.6884856278433162, 0.0317762597466146, 0.9594589673280489, 0.9527773681534031, 0.8641838273130507, 0.8109393272296394, 0.049447519953026785, 0.12856355187786964, 0.009889503990605357, 0.9460352027185256, 0.71717868529316, 0.2221349910200053, 0.05077371223314407, 0.006346714029143009, 0.3894104246644938, 0.5938508976133531, 0.009735260616612345, 0.9426467927674947, 0.06689112060458757, 0.8695845678596384, 0.980481692478769, 0.01089424102754188, 0.3050384191241762, 0.6863364430293963, 0.9793967832531796, 0.975850983789645, 0.32296821777605117, 0.5813427919968921, 0.0964699300586356, 0.0964699300586356, 0.8199944054984026, 0.05595230644032999, 0.8952369030452798, 0.9402293860926164, 0.8399849872536265, 0.972572790496923, 0.012311047980973709, 0.4343973767024091, 0.5550633146753005, 0.9633145185884595, 0.9629391025314264, 0.08752607306001203, 0.2917535768667068, 0.5835071537334136, 0.954572423294236, 0.8349113755448797, 0.9840949743295823, 0.9490937131439624, 0.9490937131439624, 0.9761405768168394, 0.02400345680697146, 0.5502854239591479, 0.08688717220407598, 0.3475486888163039, 0.028962390734691996, 0.9557456360002206, 0.7153910489670107, 0.27205011721280686, 0.9223498013333248, 0.8748353908157834, 0.6914585357398952, 0.2817053293755129, 0.17139463110075723, 0.10283677866045435, 0.7198574506231804, 0.8832582972069228, 0.891825603765211, 0.922149472781099, 0.8946619636525988, 0.2923939394738921, 0.7100995672937379, 0.9845717428013132, 0.015147257581558665, 0.9473786444504513, 0.24800401013751985, 0.7085828861071995, 0.9810767378727152, 0.9685497874251645, 0.94936017862907, 0.9435105828154515, 0.026577762896209903, 0.013288881448104951, 0.006644440724052476, 0.3545847030066341, 0.602793995111278, 0.9448311634212624, 0.11194147836313752, 0.8955318269051001, 0.97890039155792, 0.09269573073863846, 0.8342615766477461, 0.8375149987134362, 0.8664137350454817, 0.07361685330451806, 0.016988504608734935, 0.011325669739156623, 0.03963984408704818, 0.05894064537265625, 0.05894064537265625, 0.8841096805898437, 0.775119411208274, 0.19150008982792652, 0.036476207586271715, 0.9960187187947996, 0.9521856454233768, 0.9735295198057934, 0.8788079610401666, 0.07917188838199699, 0.03958594419099849, 0.9465836154204864, 0.10127484970491597, 0.8608362224917858, 0.9940895350974377, 0.9824528999335255, 0.014035041427621792, 0.43564776070457645, 0.4792125367750341, 0.043564776070457646, 0.986626698699158, 0.9677104578049697, 0.9274244590867655, 0.04333759154611054, 0.017335036618444214, 0.9509280077055289, 0.033961714560911745, 0.011320571520303916, 0.9414664342499056, 0.8730889045037957, 0.8831076119113337, 0.4940953171882774, 0.07058504531261106, 0.42351027187566637, 0.9678047122549587, 0.570193241349188, 0.38012882756612537, 0.7512107830777105, 0.23609481753870903, 0.6804401018388025, 0.03024178230394678, 0.25705514958354764, 0.03024178230394678, 0.9438263243540694, 0.9377852531122802, 0.9432423724129249, 0.698401624623907, 0.1960425612979388, 0.07657912550700735, 0.027568485182522643, 0.9280336252713011, 0.07733613543927509, 0.9375799935773759, 0.9113629133088732, 0.9824375189594143, 0.015594246332689117, 0.762996330706673, 0.1734082569787893, 0.0520224770936368, 0.9644970198203853, 0.01220882303570108, 0.01220882303570108, 0.9918687002400653, 0.9769264489880237, 0.19343320050323656, 0.7737328020129463, 0.6480400063711327, 0.2332944022936078, 0.038882400382267965, 0.07776480076453593, 0.9689815814869974, 0.14525386010292385, 0.7988962305660812, 0.9699450380256649, 0.011686084795489937, 0.011686084795489937, 0.993894902667049, 0.9733159153585742, 0.01351827660220242, 0.9901628568802576, 0.9820952670483294, 0.9867351362880169, 0.9344600547267342, 0.9063767256932933, 0.6035686220947128, 0.38226012732665143, 0.9072301084308995, 0.9503762230832842, 0.02534336594888758, 0.01267168297444379, 0.9911733124325334, 0.5830544095620489, 0.026502473161911316, 0.37103462426675843, 0.9217320108667563, 0.9439334199784004, 0.983548422546151, 0.017407936682232762, 0.9564000142313648, 0.03750588291103391, 0.9742061543450043, 0.6247650315015558, 0.38180085258428414, 0.9864148582812108, 0.890512610400153, 0.8647580321675191, 0.9808581059554696, 0.006017534392364844, 0.012035068784729689, 0.9612833853868382, 0.8657808446571095, 0.9208719846642629, 0.05115955470357016, 0.9253258330999609, 0.057832864568747554, 0.97408513571149, 0.5807077548074755, 0.2848755023583842, 0.08765400072565668, 0.04382700036282834, 0.9838839464378762, 0.9343842015973525, 0.7165793960588346, 0.244685647434724, 0.017477546245337428, 0.47134505880733174, 0.31423003920488785, 0.2269439172035301, 0.6473187138035277, 0.14596402370079548, 0.047596964250259395, 0.019038785700103755, 0.1364446308507436, 0.48571092486949796, 0.48571092486949796, 0.7117800300984155, 0.18603341695754042, 0.09706091319523848, 0.5817034667706239, 0.04716514595437491, 0.3458777369987493, 0.031443430636249936, 0.08618710227817614, 0.8618710227817614, 0.02872903409272538, 0.949745428895791, 0.9298459172542447, 0.6245874469060029, 0.2375191699501701, 0.03518802517780298, 0.10556407553340894, 0.7818222555105534, 0.05371297938622122, 0.04177676174483873, 0.09548974113105996, 0.029840544103456237, 0.9796387168180859, 0.02129649384387143, 0.9292304463009158, 0.06469325891968401, 0.9914320761922172, 0.9179923397101931, 0.9688241462995467, 0.023629857226818214, 0.9224750125969485, 0.9947982371397578, 0.9934092277269431, 0.9522680729360479, 0.9188881486705698, 0.9915786495056654, 0.23851632429359476, 0.7632522377395032, 0.9228181398932471, 0.10941890468059526, 0.8753512374447621, 0.6107508859450069, 0.0946233766957053, 0.008602125154155028, 0.2838701300871159, 0.11571247093220714, 0.9256997674576571, 0.8802084311588383, 0.46962263814691496, 0.03612481831899346, 0.46962263814691496, 0.9004962319755532, 0.04254312906971117, 0.0496336505813297, 0.8774613213574436, 0.990347299976463, 0.6667851770170039, 0.10459375325756924, 0.2353359448295308, 0.9671182100388084, 0.991228164818387, 0.9617346151001385, 0.9105837971283471, 0.3553009211297657, 0.5921682018829428, 0.9708734364683952, 0.017183600645458322, 0.9385766468323984, 0.8670496551039009, 0.09742130956223606, 0.029226392868670816, 0.009742130956223605, 0.9729047015357376, 0.9848385890830758, 0.010258735302948706, 0.10762627842186943, 0.8917605926383467, 0.9713107075766827, 0.9585079498887229, 0.6371713381731237, 0.25088621440566744, 0.05973481295373034, 0.0517701712265663, 0.9088435434874705, 0.9521872962426206, 0.10851081458543317, 0.8680865166834654, 0.9097895140516981, 0.9795048003446492, 0.9874123112293601, 0.9718118321010436, 0.9917658560364154, 0.9797134354837284], \"Term\": [\"00\", \"01\", \"03\", \"04\", \"06\", \"07\", \"11\", \"11\", \"11\", \"13\", \"13\", \"13\", \"14\", \"15\", \"15\", \"16\", \"17\", \"17\", \"18\", \"18\", \"19\", \"20\", \"20\", \"2004\", \"2004 utc\", \"2005\", \"2005 utc\", \"2006\", \"2006\", \"2006\", \"2007\", \"2007\", \"2007 utc\", \"2008\", \"2008\", \"2008\", \"2008 utc\", \"2009\", \"2009\", \"2010\", \"2010\", \"2012\", \"2012\", \"2013\", \"2014\", \"21\", \"22\", \"22\", \"23\", \"36\", \"47\", \"actually\", \"adding nonsense\", \"apple\", \"archive\", \"archive\", \"article\", \"article\", \"article\", \"article\", \"article\", \"article meet\", \"articles\", \"articles\", \"articles\", \"articles deletion\", \"barnstar\", \"beautiful\", \"beautiful\", \"better\", \"blocked\", \"blocked\", \"blocked\", \"blocked editing\", \"book\", \"brian\", \"ca\", \"category\", \"category\", \"clinton\", \"come\", \"comment\", \"comment\", \"comment\", \"commons\", \"considered\", \"considered\", \"considered\", \"considered vandalism\", \"continue\", \"continue\", \"continue blocked\", \"continue vandalize\", \"contribs\", \"contribs\", \"contributing encyclopedia\", \"copyright\", \"copyright\", \"copyright status\", \"copyright tag\", \"copyrighted\", \"created\", \"created\", \"created\", \"created\", \"criterion\", \"criterion\", \"criterion\", \"cyclone\", \"db\", \"deleted\", \"deleted\", \"deleted\", \"deleted\", \"deleted wikipedia\", \"deletion\", \"deletion\", \"deletion\", \"deletion\", \"deletion article\", \"deletion tag\", \"description page\", \"discussion\", \"discussion\", \"discussion\", \"discussion\", \"dyk\", \"edit\", \"edit\", \"edit\", \"edit\", \"editing\", \"editing\", \"editing\", \"editing talk\", \"editing wikipedia\", \"editing wikipedia\", \"editor\", \"editor\", \"eh\", \"eh\", \"english\", \"example\", \"existing\", \"existing\", \"experiment\", \"experiment\", \"experiment\", \"experiment use\", \"experiment use\", \"experimenting\", \"explaining position\", \"fact\", \"fact\", \"fair\", \"fair\", \"fair use\", \"feb\", \"file\", \"file\", \"file\", \"fish\", \"games\", \"going\", \"gon\", \"gon na\", \"good\", \"good\", \"guideline\", \"guideline\", \"guideline\", \"guideline\", \"hello welcome\", \"help\", \"help\", \"hesitate\", \"hesitate add\", \"hey\", \"hey\", \"image\", \"image\", \"image\", \"image copyright\", \"image page\", \"indef\", \"indicate subject\", \"ip address\", \"ip address\", \"issue\", \"issue\", \"january\", \"jpg\", \"jpg\", \"july\", \"jun\", \"june\", \"know\", \"know\", \"know\", \"know\", \"learn\", \"learn\", \"learn contributing\", \"leave note\", \"leave note\", \"let\", \"license\", \"license\", \"licensed\", \"like\", \"like\", \"like\", \"like\", \"like\", \"like experiment\", \"like experiment\", \"like experiment\", \"link\", \"link\", \"link\", \"ll\", \"look welcome\", \"lot\", \"make\", \"make\", \"make\", \"manual style\", \"march\", \"march\", \"maybe\", \"mean\", \"mean\", \"meet\", \"meet\", \"meet\", \"mention\", \"na\", \"need\", \"need\", \"need\", \"new\", \"new\", \"new\", \"newsletter\", \"nick\", \"non free\", \"nonsense\", \"nonsense\", \"nonsense\", \"nonsense wikipedia\", \"notability\", \"notability\", \"notable\", \"notable\", \"note\", \"note\", \"note\", \"note\", \"november\", \"october\", \"orange\", \"page\", \"page\", \"page\", \"page\", \"page edit\", \"page edit\", \"page explaining\", \"page protected\", \"people\", \"people\", \"person\", \"person\", \"person\", \"point\", \"point\", \"point\", \"pov\", \"probably\", \"punk\", \"punk\", \"question\", \"question\", \"question\", \"question\", \"questions\", \"rationale\", \"rationale\", \"read\", \"read\", \"read\", \"really\", \"reason\", \"reason\", \"redirect\", \"redirect talk\", \"reference\", \"remove speedy\", \"removed use\", \"reverted\", \"reverted\", \"reverted removed\", \"right\", \"right\", \"right\", \"said\", \"sandbox\", \"sandbox\", \"sandbox\", \"sandbox test\", \"sandbox thank\", \"say\", \"say\", \"section\", \"section\", \"september\", \"song\", \"song\", \"sorry\", \"sounds\", \"sounds like\", \"source\", \"source\", \"source\", \"speedily\", \"speedily deleted\", \"speedy\", \"speedy\", \"speedy deletion\", \"speedy deletion\", \"state\", \"stop\", \"stop\", \"stop\", \"stop\", \"stop continue\", \"stop vandalizing\", \"subject\", \"subject\", \"subject\", \"tag\", \"tag\", \"tag\", \"talk\", \"talk\", \"talk\", \"talk\", \"talk\", \"talk contribs\", \"talk contribs\", \"talk page\", \"talk page\", \"talk page\", \"template\", \"template\", \"template\", \"template\", \"test\", \"test\", \"test\", \"test want\", \"test worked\", \"thank\", \"thank\", \"thank\", \"thank\", \"thanks\", \"thanks\", \"thanks\", \"thanks\", \"thanks\", \"thing\", \"thing\", \"think\", \"think\", \"thought\", \"tilde\", \"time\", \"time\", \"tropical\", \"try\", \"trying\", \"tutorial\", \"unconstructive\", \"understand\", \"uploaded\", \"uploaded\", \"uploaded image\", \"uploading\", \"uploading\", \"use\", \"use\", \"use\", \"use\", \"use image\", \"use image\", \"use rationale\", \"use sandbox\", \"use sandbox\", \"use sandbox\", \"user\", \"user\", \"user\", \"userbox\", \"utc\", \"vandalism\", \"vandalism\", \"vandalism\", \"vandalism like\", \"vandalize\", \"vandalize page\", \"vandalize wikipedia\", \"vandalizing\", \"vandalizing\", \"ve\", \"ve\", \"vp\", \"want\", \"want\", \"want\", \"want\", \"want look\", \"way\", \"way\", \"welcome\", \"welcome\", \"welcome page\", \"welcome wikipedia\", \"wikipedia\", \"wikipedia\", \"wikipedia\", \"wikipedia\", \"wikipedia articles\", \"wikipedia blocked\", \"wikipedia considered\", \"wikipedia considered\", \"wikipedia test\", \"word\", \"work\", \"worked reverted\", \"wp\", \"year\"]}, \"R\": 30, \"lambda.step\": 0.01, \"plot.opts\": {\"xlab\": \"PC1\", \"ylab\": \"PC2\"}, \"topic.order\": [3, 4, 5, 1, 2]};\n",
       "\n",
       "function LDAvis_load_lib(url, callback){\n",
       "  var s = document.createElement('script');\n",
       "  s.src = url;\n",
       "  s.async = true;\n",
       "  s.onreadystatechange = s.onload = callback;\n",
       "  s.onerror = function(){console.warn(\"failed to load library \" + url);};\n",
       "  document.getElementsByTagName(\"head\")[0].appendChild(s);\n",
       "}\n",
       "\n",
       "if(typeof(LDAvis) !== \"undefined\"){\n",
       "   // already loaded: just create the visualization\n",
       "   !function(LDAvis){\n",
       "       new LDAvis(\"#\" + \"ldavis_el205041405082748952724054959071\", ldavis_el205041405082748952724054959071_data);\n",
       "   }(LDAvis);\n",
       "}else if(typeof define === \"function\" && define.amd){\n",
       "   // require.js is available: use it to load d3/LDAvis\n",
       "   require.config({paths: {d3: \"https://d3js.org/d3.v5\"}});\n",
       "   require([\"d3\"], function(d3){\n",
       "      window.d3 = d3;\n",
       "      LDAvis_load_lib(\"https://cdn.jsdelivr.net/gh/bmabey/pyLDAvis@3.2.2/pyLDAvis/js/ldavis.v3.0.0.js\", function(){\n",
       "        new LDAvis(\"#\" + \"ldavis_el205041405082748952724054959071\", ldavis_el205041405082748952724054959071_data);\n",
       "      });\n",
       "    });\n",
       "}else{\n",
       "    // require.js not available: dynamically load d3 & LDAvis\n",
       "    LDAvis_load_lib(\"https://d3js.org/d3.v5.js\", function(){\n",
       "         LDAvis_load_lib(\"https://cdn.jsdelivr.net/gh/bmabey/pyLDAvis@3.2.2/pyLDAvis/js/ldavis.v3.0.0.js\", function(){\n",
       "                 new LDAvis(\"#\" + \"ldavis_el205041405082748952724054959071\", ldavis_el205041405082748952724054959071_data);\n",
       "            })\n",
       "         });\n",
       "}\n",
       "</script>"
      ],
      "text/plain": [
       "<IPython.core.display.HTML object>"
      ]
     },
     "execution_count": 25,
     "metadata": {},
     "output_type": "execute_result"
    }
   ],
   "source": [
    "#### Evaluate Topic Separation and Check Relevant Terms using pyLDAvis\n",
    "\n",
    "display_pyLDAvis(neutral_lda_model, neutral_corpus, neutral_gensim_dict)"
   ]
  },
  {
   "cell_type": "markdown",
   "metadata": {},
   "source": [
    "#### Investigate topics\n",
    "\n",
    "With the Gensim library, I am able to view the word distributions that were calculated for each topic, and the topic distributions that were determined for each document. The interpretation process will be described below."
   ]
  },
  {
   "cell_type": "code",
   "execution_count": 26,
   "metadata": {},
   "outputs": [],
   "source": [
    "def get_topic_terms(model, n_topics, n_words):\n",
    "    return model.print_topics(num_topics = n_topics, num_words = n_words)"
   ]
  },
  {
   "cell_type": "code",
   "execution_count": 27,
   "metadata": {},
   "outputs": [],
   "source": [
    "# Function Written By Selva Prabhakaran\n",
    "# https://www.machinelearningplus.com/nlp/topic-modeling-gensim-python/\n",
    "\n",
    "def assign_topics_sentences(ldamodel, corpus, texts):\n",
    "    # Init output\n",
    "    sent_topics_df = pd.DataFrame()\n",
    "\n",
    "    # Get main topic in each document\n",
    "    for i, row in enumerate(ldamodel[corpus]): # iterate over transformed corpus to get topic probabilities for document\n",
    "        row = sorted(row, key=lambda x: (x[1]), reverse=True)\n",
    "        # Get the Dominant topic, Perc Contribution and Keywords for each document\n",
    "        for j, (topic_num, prop_topic) in enumerate(row):\n",
    "            if j == 0:  # => dominant topic\n",
    "                wp = ldamodel.show_topic(topic_num)\n",
    "                topic_keywords = \", \".join([word for word, prop in wp])\n",
    "                sent_topics_df = sent_topics_df.append(pd.Series([int(topic_num), round(prop_topic,4), topic_keywords]), ignore_index=True)\n",
    "            else:\n",
    "                break\n",
    "\n",
    "    sent_topics_df.columns = ['Dominant_Topic', 'Probability', 'Topic_Keywords']\n",
    "\n",
    "    # Add original text to the end of the output\n",
    "    contents = pd.Series(texts)\n",
    "    sent_topics_df = pd.concat([sent_topics_df, contents], axis=1)\n",
    "    \n",
    "    sent_topics_df.columns = ['Dominant_Topic', 'Probability', 'Keywords', 'Original_Text']\n",
    "    \n",
    "    return sent_topics_df"
   ]
  },
  {
   "cell_type": "code",
   "execution_count": 28,
   "metadata": {},
   "outputs": [],
   "source": [
    "def plot_topics_in_corpus(df, column, color, title = None, x_label = None):\n",
    "    plt.figure(figsize = (15, 8))\n",
    "    round(df[column].value_counts(normalize = True) * 100, 2).sort_values(ascending = True).plot.barh(color = color, ec = 'k', width = 0.75);\n",
    "    plt.title(title, fontdict = {'fontsize': 20}, pad = 18)\n",
    "    plt.xlabel(x_label, fontdict = {'fontsize': 15}, labelpad = 10)\n",
    "    plt.xticks(size = 14)\n",
    "    plt.yticks(size = 14)\n",
    "    plt.tight_layout();"
   ]
  },
  {
   "cell_type": "code",
   "execution_count": 29,
   "metadata": {},
   "outputs": [],
   "source": [
    "def filter_df_by_topic(df, column, topic):\n",
    "    filtered_df = df[df[column] == topic]\n",
    "    filtered_df = filtered_df.sort_values(by = \"Probability\", ascending = False)\n",
    "    return filtered_df"
   ]
  },
  {
   "cell_type": "code",
   "execution_count": 30,
   "metadata": {},
   "outputs": [],
   "source": [
    "def get_top_posts(df):\n",
    "    topic_df_dict = {}\n",
    "    top_posts_dict = {}\n",
    "    percent_dominant = {}\n",
    "    for topic in df['Dominant_Topic'].unique():\n",
    "        topic_df_dict[topic] = filter_df_by_topic(df, 'Dominant_Topic', topic)\n",
    "        topic_df = topic_df_dict[topic]\n",
    "        top_post = topic_df[topic_df['Probability'] == topic_df['Probability'].max()]['Original_Text'].values\n",
    "        top_posts_dict[topic] = profanity.censor(top_post[0])\n",
    "        percent_dominant[topic] = topic_df['Probability'].max()\n",
    "    \n",
    "    return top_posts_dict, percent_dominant"
   ]
  },
  {
   "cell_type": "markdown",
   "metadata": {},
   "source": [
    "#### Explore Top Terms for Each Topic\n",
    "**Note:** Top terms are determined based on their probability for occuring in the topic.  \n",
    "\n",
    "For each topic, we are able to view the terms with the highest probability of appearing in the topic. An example is shown in the cell below:"
   ]
  },
  {
   "cell_type": "code",
   "execution_count": 31,
   "metadata": {},
   "outputs": [
    {
     "data": {
      "text/plain": [
       "[(1,\n",
       "  '0.020*\"suck\" + 0.016*\"gay\" + 0.013*\"bitch\" + 0.013*\"fuck\" + 0.012*\"dick\" + 0.011*\"penis\" + 0.011*\"asshole\" + 0.009*\"cock\" + 0.007*\"fag\" + 0.007*\"fucking\"')]"
      ]
     },
     "execution_count": 31,
     "metadata": {},
     "output_type": "execute_result"
    }
   ],
   "source": [
    "get_topic_terms(toxic_lda_model, 1, 10) # Will show the words with the highest probability for topic chosen at random"
   ]
  },
  {
   "cell_type": "markdown",
   "metadata": {},
   "source": [
    "Above, we see a list containing a tuple. The first item in the tuple is the topic number, and the second item is a string that contains the probability of a word appearing in the topic and the word itself. I have chosen to display only the top five words.\n",
    "\n",
    "We can save a list of of the topics and top terms to a list (below), and use indexing to explore the topics and terms in this list. \n",
    "This exploration allows us to derive meaning from the topics. "
   ]
  },
  {
   "cell_type": "code",
   "execution_count": 32,
   "metadata": {},
   "outputs": [],
   "source": [
    "toxic_lda_topic_terms = get_topic_terms(toxic_lda_model, 10, 10)"
   ]
  },
  {
   "cell_type": "code",
   "execution_count": 33,
   "metadata": {
    "scrolled": true
   },
   "outputs": [
    {
     "data": {
      "text/plain": [
       "[(0,\n",
       "  '0.037*\"fuck\" + 0.013*\"fuck fuck\" + 0.010*\"bitch\" + 0.009*\"ha\" + 0.009*\"douche\" + 0.007*\"son\" + 0.007*\"nigga\" + 0.006*\"fuckin\" + 0.006*\"ball\" + 0.006*\"son bitch\"'),\n",
       " (1,\n",
       "  '0.020*\"suck\" + 0.016*\"gay\" + 0.013*\"bitch\" + 0.013*\"fuck\" + 0.012*\"dick\" + 0.011*\"penis\" + 0.011*\"asshole\" + 0.009*\"cock\" + 0.007*\"fag\" + 0.007*\"fucking\"'),\n",
       " (2,\n",
       "  '0.020*\"faggot\" + 0.016*\"fucking\" + 0.015*\"shit\" + 0.012*\"fuck\" + 0.012*\"piece\" + 0.011*\"piece shit\" + 0.010*\"cunt\" + 0.009*\"fucker\" + 0.008*\"mother\" + 0.007*\"nigger\"'),\n",
       " (3,\n",
       "  '0.006*\"page\" + 0.005*\"wikipedia\" + 0.005*\"like\" + 0.004*\"fuck\" + 0.004*\"article\" + 0.004*\"know\" + 0.004*\"people\" + 0.004*\"fucking\" + 0.004*\"stop\" + 0.004*\"talk\"'),\n",
       " (4,\n",
       "  '0.018*\"na\" + 0.012*\"gon\" + 0.012*\"gon na\" + 0.007*\"vagina\" + 0.007*\"wan\" + 0.007*\"wan na\" + 0.007*\"kiss\" + 0.005*\"dickhead\" + 0.004*\"jeff\" + 0.004*\"thanks\"')]"
      ]
     },
     "execution_count": 33,
     "metadata": {},
     "output_type": "execute_result"
    }
   ],
   "source": [
    "toxic_lda_topic_terms"
   ]
  },
  {
   "cell_type": "code",
   "execution_count": 34,
   "metadata": {},
   "outputs": [],
   "source": [
    "neutral_lda_topic_terms = get_topic_terms(neutral_lda_model, 10, 10)"
   ]
  },
  {
   "cell_type": "code",
   "execution_count": 35,
   "metadata": {},
   "outputs": [
    {
     "data": {
      "text/plain": [
       "[(0,\n",
       "  '0.024*\"utc\" + 0.010*\"2005\" + 0.007*\"16\" + 0.007*\"2005 utc\" + 0.006*\"2004\" + 0.006*\"2008\" + 0.006*\"2007\" + 0.006*\"13\" + 0.006*\"21\" + 0.006*\"2006\"'),\n",
       " (1,\n",
       "  '0.021*\"image\" + 0.020*\"redirect\" + 0.016*\"redirect talk\" + 0.012*\"copyright\" + 0.011*\"talk\" + 0.008*\"use\" + 0.006*\"fair use\" + 0.006*\"fair\" + 0.005*\"barnstar\" + 0.005*\"file\"'),\n",
       " (2,\n",
       "  '0.007*\"article\" + 0.005*\"page\" + 0.004*\"talk\" + 0.004*\"source\" + 0.003*\"wikipedia\" + 0.003*\"think\" + 0.003*\"like\" + 0.003*\"know\" + 0.003*\"thanks\" + 0.003*\"user\"'),\n",
       " (3,\n",
       "  '0.011*\"page\" + 0.011*\"wikipedia\" + 0.011*\"editing\" + 0.010*\"welcome\" + 0.009*\"blocked\" + 0.008*\"blocked editing\" + 0.008*\"talk\" + 0.008*\"continue\" + 0.007*\"vandalize\" + 0.006*\"edit\"'),\n",
       " (4,\n",
       "  '0.015*\"deletion\" + 0.008*\"speedy\" + 0.007*\"speedy deletion\" + 0.007*\"article\" + 0.006*\"page\" + 0.005*\"criterion\" + 0.005*\"deleted\" + 0.005*\"template\" + 0.004*\"tag\" + 0.004*\"note\"')]"
      ]
     },
     "execution_count": 35,
     "metadata": {},
     "output_type": "execute_result"
    }
   ],
   "source": [
    "neutral_lda_topic_terms"
   ]
  },
  {
   "cell_type": "markdown",
   "metadata": {},
   "source": [
    "Source List:\n",
    "    \n",
    "    https://www.youtube.com/watch?v=TKjjlp5_r7o"
   ]
  },
  {
   "cell_type": "code",
   "execution_count": null,
   "metadata": {},
   "outputs": [],
   "source": []
  }
 ],
 "metadata": {
  "kernelspec": {
   "display_name": "Python 3",
   "language": "python",
   "name": "python3"
  },
  "language_info": {
   "codemirror_mode": {
    "name": "ipython",
    "version": 3
   },
   "file_extension": ".py",
   "mimetype": "text/x-python",
   "name": "python",
   "nbconvert_exporter": "python",
   "pygments_lexer": "ipython3",
   "version": "3.6.8"
  }
 },
 "nbformat": 4,
 "nbformat_minor": 2
}
