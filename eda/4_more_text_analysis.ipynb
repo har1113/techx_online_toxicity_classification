{
 "cells": [
  {
   "cell_type": "markdown",
   "metadata": {},
   "source": [
    "In this notebook I'm going to dig a bit more into some of the characteristics between the neutral and toxic comments. \n",
    "   - I'm going to separate the dataset into neutral only and all other toxicities to look at things like the distributions for:\n",
    "        - word counts\n",
    "        - character count\n",
    "        - special character count \n",
    "        - capitalization count \n",
    "        to see if there are noticable differences between the two. \n",
    "        - Run hypothesis test to test statistical signficance of differences\n",
    "----------------------------------------------------------------------------------------------------------------\n",
    "\n",
    "   - I would also like to start getting into vectorizing the text to see if there are common words that appear in either neutral or toxic text.\n",
    "        - unigrams\n",
    "        - bigrams\n",
    "        - trigrams\n",
    "---------------------------------------------------------------------------------------------------------------        \n",
    "   - In this process I will likely need to stem or lemmatize the words in the corpus. I want to reduce dimensionoality of the data, but also want to preserve as much of the integrity of the text and potential nuance between the different types of text, so I'll likely lemmatize since it's less discerning than something like the porter stemmer.\n",
    "   - I will remove stopwords - I'll use NLTK and sklearns stopwords. If I find that other trivial words come up a lot in either type of text, I'll add in some custom stopwords.\n",
    "\n",
    "-----------------------------------------------------------------------------------------------------------------\n",
    "After doing sentiment analysis earlier on with VADER I didn't really look closely enough at that data, so I'd like to create more visualizations for that data as well.\n",
    "\n",
    "   "
   ]
  },
  {
   "cell_type": "code",
   "execution_count": 40,
   "metadata": {},
   "outputs": [
    {
     "name": "stderr",
     "output_type": "stream",
     "text": [
      "[nltk_data] Downloading package wordnet to\n",
      "[nltk_data]     /Users/heatherrobbins/nltk_data...\n",
      "[nltk_data]   Package wordnet is already up-to-date!\n"
     ]
    }
   ],
   "source": [
    "import pandas as pd\n",
    "import numpy as np\n",
    "import matplotlib.pyplot as plt\n",
    "import seaborn as sns\n",
    "\n",
    "import nltk\n",
    "from nltk.corpus import stopwords\n",
    "import re\n",
    "from nltk.stem import WordNetLemmatizer\n",
    "nltk.download('wordnet')\n",
    "\n",
    "\n",
    "\n",
    "from sklearn.feature_extraction.text import CountVectorizer\n",
    "\n",
    "\n",
    "import warnings\n",
    "warnings.simplefilter(action='ignore', category=FutureWarning)\n",
    "warnings.simplefilter(action='ignore', category=DeprecationWarning)"
   ]
  },
  {
   "cell_type": "code",
   "execution_count": 41,
   "metadata": {},
   "outputs": [],
   "source": [
    "## read in and split the dataset into neutral comments and non-neutral (so any kind of toxicity)\n",
    "\n",
    "#using combined all bc I want to look more into the sentiment features\n",
    "combined_all = pd.read_csv('data/combined_all.csv')"
   ]
  },
  {
   "cell_type": "code",
   "execution_count": 42,
   "metadata": {
    "scrolled": true
   },
   "outputs": [
    {
     "data": {
      "text/html": [
       "<div>\n",
       "<style scoped>\n",
       "    .dataframe tbody tr th:only-of-type {\n",
       "        vertical-align: middle;\n",
       "    }\n",
       "\n",
       "    .dataframe tbody tr th {\n",
       "        vertical-align: top;\n",
       "    }\n",
       "\n",
       "    .dataframe thead th {\n",
       "        text-align: right;\n",
       "    }\n",
       "</style>\n",
       "<table border=\"1\" class=\"dataframe\">\n",
       "  <thead>\n",
       "    <tr style=\"text-align: right;\">\n",
       "      <th></th>\n",
       "      <th>toxic</th>\n",
       "      <th>severe_toxic</th>\n",
       "      <th>obscene</th>\n",
       "      <th>threat</th>\n",
       "      <th>insult</th>\n",
       "      <th>identity_hate</th>\n",
       "      <th>neutral</th>\n",
       "      <th>comment_text</th>\n",
       "      <th>cleaner_text</th>\n",
       "      <th>compound</th>\n",
       "      <th>...</th>\n",
       "      <th>neu</th>\n",
       "      <th>pos</th>\n",
       "      <th>word count</th>\n",
       "      <th>character count</th>\n",
       "      <th>special characters</th>\n",
       "      <th>capitalized letters</th>\n",
       "      <th>swear words</th>\n",
       "      <th>misogynist words</th>\n",
       "      <th>racial_ethnic slurs</th>\n",
       "      <th>lgbtq hate</th>\n",
       "    </tr>\n",
       "  </thead>\n",
       "  <tbody>\n",
       "    <tr>\n",
       "      <th>0</th>\n",
       "      <td>0</td>\n",
       "      <td>0</td>\n",
       "      <td>0</td>\n",
       "      <td>0</td>\n",
       "      <td>0</td>\n",
       "      <td>0</td>\n",
       "      <td>1</td>\n",
       "      <td>Explanation\\nWhy the edits made under my usern...</td>\n",
       "      <td>Explanation Why the edits made under my userna...</td>\n",
       "      <td>0.5574</td>\n",
       "      <td>...</td>\n",
       "      <td>0.897</td>\n",
       "      <td>0.103</td>\n",
       "      <td>43</td>\n",
       "      <td>264</td>\n",
       "      <td>10</td>\n",
       "      <td>17</td>\n",
       "      <td>0</td>\n",
       "      <td>0</td>\n",
       "      <td>0</td>\n",
       "      <td>0</td>\n",
       "    </tr>\n",
       "  </tbody>\n",
       "</table>\n",
       "<p>1 rows × 21 columns</p>\n",
       "</div>"
      ],
      "text/plain": [
       "   toxic  severe_toxic  obscene  threat  insult  identity_hate  neutral  \\\n",
       "0      0             0        0       0       0              0        1   \n",
       "\n",
       "                                        comment_text  \\\n",
       "0  Explanation\\nWhy the edits made under my usern...   \n",
       "\n",
       "                                        cleaner_text  compound  ...    neu  \\\n",
       "0  Explanation Why the edits made under my userna...    0.5574  ...  0.897   \n",
       "\n",
       "     pos  word count  character count  special characters  \\\n",
       "0  0.103          43              264                  10   \n",
       "\n",
       "   capitalized letters  swear words  misogynist words  racial_ethnic slurs  \\\n",
       "0                   17            0                 0                    0   \n",
       "\n",
       "   lgbtq hate  \n",
       "0           0  \n",
       "\n",
       "[1 rows x 21 columns]"
      ]
     },
     "execution_count": 42,
     "metadata": {},
     "output_type": "execute_result"
    }
   ],
   "source": [
    "combined_all.head(1)"
   ]
  },
  {
   "cell_type": "code",
   "execution_count": 43,
   "metadata": {},
   "outputs": [
    {
     "data": {
      "text/plain": [
       "toxic                  0\n",
       "severe_toxic           0\n",
       "obscene                0\n",
       "threat                 0\n",
       "insult                 0\n",
       "identity_hate          0\n",
       "neutral                0\n",
       "comment_text           0\n",
       "cleaner_text           0\n",
       "compound               0\n",
       "neg                    0\n",
       "neu                    0\n",
       "pos                    0\n",
       "word count             0\n",
       "character count        0\n",
       "special characters     0\n",
       "capitalized letters    0\n",
       "swear words            0\n",
       "misogynist words       0\n",
       "racial_ethnic slurs    0\n",
       "lgbtq hate             0\n",
       "dtype: int64"
      ]
     },
     "execution_count": 43,
     "metadata": {},
     "output_type": "execute_result"
    }
   ],
   "source": [
    "combined_all.isnull().sum()"
   ]
  },
  {
   "cell_type": "code",
   "execution_count": 44,
   "metadata": {},
   "outputs": [],
   "source": [
    "#separate dataset into neutral and non-neutral\n",
    "\n",
    "\n",
    "neutral = combined_all[combined_all['neutral'] == 1]\n",
    "toxic = combined_all[combined_all['neutral'] == 0]"
   ]
  },
  {
   "cell_type": "code",
   "execution_count": 45,
   "metadata": {},
   "outputs": [
    {
     "name": "stdout",
     "output_type": "stream",
     "text": [
      "(143340, 21) (16225, 21)\n",
      "159565\n"
     ]
    }
   ],
   "source": [
    "#checking shapes\n",
    "print(neutral.shape, toxic.shape)\n",
    "\n",
    "print(neutral.shape[0] + toxic.shape[0])"
   ]
  },
  {
   "cell_type": "code",
   "execution_count": 46,
   "metadata": {},
   "outputs": [
    {
     "data": {
      "text/plain": [
       "(159565, 21)"
      ]
     },
     "execution_count": 46,
     "metadata": {},
     "output_type": "execute_result"
    }
   ],
   "source": [
    "combined_all.shape"
   ]
  },
  {
   "cell_type": "code",
   "execution_count": 47,
   "metadata": {},
   "outputs": [],
   "source": [
    "## all matches up"
   ]
  },
  {
   "cell_type": "code",
   "execution_count": 48,
   "metadata": {},
   "outputs": [
    {
     "data": {
      "text/plain": [
       "1    143340\n",
       "Name: neutral, dtype: int64"
      ]
     },
     "execution_count": 48,
     "metadata": {},
     "output_type": "execute_result"
    }
   ],
   "source": [
    "neutral['neutral'].value_counts()"
   ]
  },
  {
   "cell_type": "markdown",
   "metadata": {},
   "source": [
    "#### Text Features Histogram Comparison"
   ]
  },
  {
   "cell_type": "code",
   "execution_count": 49,
   "metadata": {},
   "outputs": [],
   "source": [
    "## function to create detailed histograms \n",
    "\n",
    "def subplot_histogram(data, axis, mean, title = None, x_label = None, y_label = None, color = None):\n",
    "    sns.distplot(data, ax = axis, kde = False, hist_kws=dict(edgecolor=\"k\", linewidth=.9, alpha = 0.9), color = color)\n",
    "    axis.axvline(mean, ls='--', color = 'black', label = f'Mean = {mean}', linewidth = 2)\n",
    "    axis.set_title(title, pad = 8, fontdict = {'fontsize':14})\n",
    "    axis.set_xlabel(x_label, labelpad = 6, fontdict = {'fontsize':13})\n",
    "    axis.set_ylabel(y_label, labelpad = 6, fontdict = {'fontsize':13})\n",
    "    axis.tick_params(axis = 'both', labelsize = 11)\n",
    "    axis.legend()\n",
    "    plt.tight_layout();"
   ]
  },
  {
   "cell_type": "code",
   "execution_count": 50,
   "metadata": {},
   "outputs": [
    {
     "data": {
      "image/png": "[encoded data removed]",
      "text/plain": [
       "<Figure size 1152x360 with 2 Axes>"
      ]
     },
     "metadata": {
      "needs_background": "light"
     },
     "output_type": "display_data"
    }
   ],
   "source": [
    "fig, axes = plt.subplots(1, 2, figsize = (16, 5))\n",
    "\n",
    "ax1 = axes[0]\n",
    "ax2 = axes[1]\n",
    "\n",
    "subplot_histogram(neutral['word count'], \n",
    "                  axis = ax1,\n",
    "                  mean = neutral['word count'].mean().round(2),\n",
    "                  title = 'Neutral Text',\n",
    "                  x_label = 'Word Count',\n",
    "                  y_label = 'Frequency')\n",
    "\n",
    "\n",
    "subplot_histogram(toxic['word count'], \n",
    "                  axis = ax2,\n",
    "                  mean = toxic['word count'].mean().round(2),\n",
    "                  title = 'Toxic (Any) Text',\n",
    "                  x_label = 'Word Count',\n",
    "                  y_label = 'Frequency')\n",
    "\n",
    "\n",
    "plt.suptitle('Word Count Distributions for Neutral and Toxic Text', y = 1.12, size = 18);"
   ]
  },
  {
   "cell_type": "markdown",
   "metadata": {},
   "source": [
    "The mean word count for neutral text is 68.86 words, while the mean for toxic text is 52.68 words. "
   ]
  },
  {
   "cell_type": "code",
   "execution_count": 51,
   "metadata": {},
   "outputs": [
    {
     "data": {
      "image/png": "[encoded data removed]",
      "text/plain": [
       "<Figure size 1152x360 with 2 Axes>"
      ]
     },
     "metadata": {
      "needs_background": "light"
     },
     "output_type": "display_data"
    }
   ],
   "source": [
    "fig, axes = plt.subplots(1, 2, figsize = (16, 5))\n",
    "\n",
    "ax1 = axes[0]\n",
    "ax2 = axes[1]\n",
    "\n",
    "subplot_histogram(neutral['character count'], \n",
    "                  axis = ax1,\n",
    "                  mean = neutral['character count'].mean().round(2),\n",
    "                  title = 'Neutral Text',\n",
    "                  x_label = 'Character Count',\n",
    "                  y_label = 'Frequency')\n",
    "\n",
    "\n",
    "subplot_histogram(toxic['character count'], \n",
    "                  axis = ax2,\n",
    "                  mean = toxic['character count'].mean().round(2),\n",
    "                  title = 'Toxic (Any) Text',\n",
    "                  x_label = 'Character Count',\n",
    "                  y_label = 'Frequency')\n",
    "\n",
    "\n",
    "plt.suptitle('Character Count Distributions for Neutral and Toxic Text', y = 1.12, size = 18);"
   ]
  },
  {
   "cell_type": "markdown",
   "metadata": {},
   "source": [
    "The mean character count for neutral text is 400.84 while the mean for toxic text is 301.18"
   ]
  },
  {
   "cell_type": "code",
   "execution_count": 52,
   "metadata": {},
   "outputs": [
    {
     "data": {
      "image/png": "[encoded data removed]",
      "text/plain": [
       "<Figure size 1152x360 with 2 Axes>"
      ]
     },
     "metadata": {
      "needs_background": "light"
     },
     "output_type": "display_data"
    }
   ],
   "source": [
    "fig, axes = plt.subplots(1, 2, figsize = (16, 5))\n",
    "\n",
    "ax1 = axes[0]\n",
    "ax2 = axes[1]\n",
    "\n",
    "subplot_histogram(neutral['special characters'], \n",
    "                  axis = ax1,\n",
    "                  mean = neutral['special characters'].mean().round(2),\n",
    "                  title = 'Neutral Text',\n",
    "                  x_label = 'Special Characters',\n",
    "                  y_label = 'Frequency')\n",
    "\n",
    "\n",
    "subplot_histogram(toxic['special characters'], \n",
    "                  axis = ax2,\n",
    "                  mean = toxic['special characters'].mean().round(2),\n",
    "                  title = 'Toxic (Any) Text',\n",
    "                  x_label = 'Special Character',\n",
    "                  y_label = 'Frequency')\n",
    "\n",
    "\n",
    "plt.suptitle('Special Character Count Distributions for Neutral and Toxic Text', y = 1.12, size = 18);"
   ]
  },
  {
   "cell_type": "markdown",
   "metadata": {},
   "source": [
    "There's not nearly as much of a difference as I expected. I expected a lot more in toxic text. The mean for netural text is 15.54 and the mean for toxic text is actually slightly less at 14.16.\n"
   ]
  },
  {
   "cell_type": "code",
   "execution_count": 53,
   "metadata": {},
   "outputs": [
    {
     "data": {
      "image/png": "[encoded data removed]",
      "text/plain": [
       "<Figure size 1152x360 with 2 Axes>"
      ]
     },
     "metadata": {
      "needs_background": "light"
     },
     "output_type": "display_data"
    }
   ],
   "source": [
    "fig, axes = plt.subplots(1, 2, figsize = (16, 5))\n",
    "\n",
    "ax1 = axes[0]\n",
    "ax2 = axes[1]\n",
    "\n",
    "subplot_histogram(neutral['capitalized letters'], \n",
    "                  axis = ax1,\n",
    "                  mean = neutral['capitalized letters'].mean().round(2),\n",
    "                  title = 'Neutral Text',\n",
    "                  x_label = 'Capitalized Letters',\n",
    "                  y_label = 'Frequency')\n",
    "\n",
    "\n",
    "subplot_histogram(toxic['capitalized letters'], \n",
    "                  axis = ax2,\n",
    "                  mean = toxic['capitalized letters'].mean().round(2),\n",
    "                  title = 'Toxic (Any) Text',\n",
    "                  x_label = 'Capitalized Letters',\n",
    "                  y_label = 'Frequency')\n",
    "\n",
    "\n",
    "plt.suptitle('Capitalized Letter Count Distributions for Neutral and Toxic Text', y = 1.12, size = 18);"
   ]
  },
  {
   "cell_type": "markdown",
   "metadata": {},
   "source": [
    "There are way more capitalized letters in toxi text than there are in neutral text. The capitalization could signify yelling at someone, which makes sense for toxic language. The mean for neutral text is 14.1 while the mean for toxic text is 42.82."
   ]
  },
  {
   "cell_type": "markdown",
   "metadata": {},
   "source": [
    "##### Text Preprocessing to start looking at common words in each corpus"
   ]
  },
  {
   "cell_type": "code",
   "execution_count": 54,
   "metadata": {
    "scrolled": true
   },
   "outputs": [
    {
     "name": "stdout",
     "output_type": "stream",
     "text": [
      "179\n",
      "318\n",
      "378\n"
     ]
    }
   ],
   "source": [
    "#get nltk and sklearn stopwords\n",
    "\n",
    "nltk_stop_words = set(stopwords.words('english'))\n",
    "sklearn_stop_words = set(CountVectorizer(stop_words = 'english').get_stop_words())\n",
    "\n",
    "# Print the list of stopwords\n",
    "# print(nltk_stop_words)\n",
    "print(len(nltk_stop_words))\n",
    "# print(sklearn_stop_words)\n",
    "print(len(sklearn_stop_words))\n",
    "\n",
    "\n",
    "#combine the set\n",
    "\n",
    "# Combined list\n",
    "full_stop_words = nltk_stop_words.union(sklearn_stop_words)\n",
    "# print(full_stop_words)\n",
    "print(len(full_stop_words))"
   ]
  },
  {
   "cell_type": "code",
   "execution_count": 55,
   "metadata": {},
   "outputs": [],
   "source": [
    "#remove stopwords and lemmatize tex"
   ]
  },
  {
   "cell_type": "code",
   "execution_count": 56,
   "metadata": {},
   "outputs": [],
   "source": [
    " #instantiate lemmatizer\n",
    "lemmatizer = WordNetLemmatizer()\n",
    "\n",
    "def lemmatize_text(text):\n",
    "        \n",
    "    # Tokenize \n",
    "    tokens = nltk.word_tokenize(text)\n",
    "    \n",
    "    # Remove stopwords\n",
    "    filtered_tokens = [token for token in tokens if token.lower() not in full_stop_words]\n",
    "    \n",
    "    # lemmatize\n",
    "    lemmatized_tokens = [lemmatizer.lemmatize(word) for word in filtered_tokens]\n",
    "    \n",
    "    \n",
    "    # Convert lemmatized tokens back to a sentence\n",
    "    lemmatized_text = ' '.join(lemmatized_tokens)\n",
    "    \n",
    "    return lemmatized_text"
   ]
  },
  {
   "cell_type": "code",
   "execution_count": 57,
   "metadata": {},
   "outputs": [
    {
     "data": {
      "text/plain": [
       "toxic                  0\n",
       "severe_toxic           0\n",
       "obscene                0\n",
       "threat                 0\n",
       "insult                 0\n",
       "identity_hate          0\n",
       "neutral                0\n",
       "comment_text           0\n",
       "cleaner_text           0\n",
       "compound               0\n",
       "neg                    0\n",
       "neu                    0\n",
       "pos                    0\n",
       "word count             0\n",
       "character count        0\n",
       "special characters     0\n",
       "capitalized letters    0\n",
       "swear words            0\n",
       "misogynist words       0\n",
       "racial_ethnic slurs    0\n",
       "lgbtq hate             0\n",
       "dtype: int64"
      ]
     },
     "execution_count": 57,
     "metadata": {},
     "output_type": "execute_result"
    }
   ],
   "source": [
    "neutral.isnull().sum()"
   ]
  },
  {
   "cell_type": "code",
   "execution_count": 58,
   "metadata": {
    "scrolled": true
   },
   "outputs": [
    {
     "name": "stderr",
     "output_type": "stream",
     "text": [
      "/Users/heatherrobbins/env3/lib/python3.6/site-packages/ipykernel_launcher.py:1: SettingWithCopyWarning: \n",
      "A value is trying to be set on a copy of a slice from a DataFrame.\n",
      "Try using .loc[row_indexer,col_indexer] = value instead\n",
      "\n",
      "See the caveats in the documentation: http://pandas.pydata.org/pandas-docs/stable/indexing.html#indexing-view-versus-copy\n",
      "  \"\"\"Entry point for launching an IPython kernel.\n",
      "/Users/heatherrobbins/env3/lib/python3.6/site-packages/ipykernel_launcher.py:2: SettingWithCopyWarning: \n",
      "A value is trying to be set on a copy of a slice from a DataFrame.\n",
      "Try using .loc[row_indexer,col_indexer] = value instead\n",
      "\n",
      "See the caveats in the documentation: http://pandas.pydata.org/pandas-docs/stable/indexing.html#indexing-view-versus-copy\n",
      "  \n"
     ]
    }
   ],
   "source": [
    "neutral['lemmatized_text'] = neutral['cleaner_text'].map(lemmatize_text)\n",
    "toxic['lemmatized_text'] = toxic['cleaner_text'].map(lemmatize_text)"
   ]
  },
  {
   "cell_type": "code",
   "execution_count": 59,
   "metadata": {},
   "outputs": [],
   "source": [
    "neutral.to_csv('neutral.csv', index = False)\n",
    "toxic.to_csv('toxic.csv', index = False)"
   ]
  },
  {
   "cell_type": "code",
   "execution_count": 60,
   "metadata": {},
   "outputs": [
    {
     "data": {
      "text/html": [
       "<div>\n",
       "<style scoped>\n",
       "    .dataframe tbody tr th:only-of-type {\n",
       "        vertical-align: middle;\n",
       "    }\n",
       "\n",
       "    .dataframe tbody tr th {\n",
       "        vertical-align: top;\n",
       "    }\n",
       "\n",
       "    .dataframe thead th {\n",
       "        text-align: right;\n",
       "    }\n",
       "</style>\n",
       "<table border=\"1\" class=\"dataframe\">\n",
       "  <thead>\n",
       "    <tr style=\"text-align: right;\">\n",
       "      <th></th>\n",
       "      <th>toxic</th>\n",
       "      <th>severe_toxic</th>\n",
       "      <th>obscene</th>\n",
       "      <th>threat</th>\n",
       "      <th>insult</th>\n",
       "      <th>identity_hate</th>\n",
       "      <th>neutral</th>\n",
       "      <th>comment_text</th>\n",
       "      <th>cleaner_text</th>\n",
       "      <th>compound</th>\n",
       "      <th>...</th>\n",
       "      <th>pos</th>\n",
       "      <th>word count</th>\n",
       "      <th>character count</th>\n",
       "      <th>special characters</th>\n",
       "      <th>capitalized letters</th>\n",
       "      <th>swear words</th>\n",
       "      <th>misogynist words</th>\n",
       "      <th>racial_ethnic slurs</th>\n",
       "      <th>lgbtq hate</th>\n",
       "      <th>lemmatized_text</th>\n",
       "    </tr>\n",
       "  </thead>\n",
       "  <tbody>\n",
       "    <tr>\n",
       "      <th>0</th>\n",
       "      <td>0</td>\n",
       "      <td>0</td>\n",
       "      <td>0</td>\n",
       "      <td>0</td>\n",
       "      <td>0</td>\n",
       "      <td>0</td>\n",
       "      <td>1</td>\n",
       "      <td>Explanation\\nWhy the edits made under my usern...</td>\n",
       "      <td>Explanation Why the edits made under my userna...</td>\n",
       "      <td>0.5574</td>\n",
       "      <td>...</td>\n",
       "      <td>0.103</td>\n",
       "      <td>43</td>\n",
       "      <td>264</td>\n",
       "      <td>10</td>\n",
       "      <td>17</td>\n",
       "      <td>0</td>\n",
       "      <td>0</td>\n",
       "      <td>0</td>\n",
       "      <td>0</td>\n",
       "      <td>Explanation edits username Hardcore Metallica ...</td>\n",
       "    </tr>\n",
       "  </tbody>\n",
       "</table>\n",
       "<p>1 rows × 22 columns</p>\n",
       "</div>"
      ],
      "text/plain": [
       "   toxic  severe_toxic  obscene  threat  insult  identity_hate  neutral  \\\n",
       "0      0             0        0       0       0              0        1   \n",
       "\n",
       "                                        comment_text  \\\n",
       "0  Explanation\\nWhy the edits made under my usern...   \n",
       "\n",
       "                                        cleaner_text  compound  ...    pos  \\\n",
       "0  Explanation Why the edits made under my userna...    0.5574  ...  0.103   \n",
       "\n",
       "   word count  character count  special characters  capitalized letters  \\\n",
       "0          43              264                  10                   17   \n",
       "\n",
       "   swear words  misogynist words  racial_ethnic slurs  lgbtq hate  \\\n",
       "0            0                 0                    0           0   \n",
       "\n",
       "                                     lemmatized_text  \n",
       "0  Explanation edits username Hardcore Metallica ...  \n",
       "\n",
       "[1 rows x 22 columns]"
      ]
     },
     "execution_count": 60,
     "metadata": {},
     "output_type": "execute_result"
    }
   ],
   "source": [
    "neutral.head(1)"
   ]
  },
  {
   "cell_type": "code",
   "execution_count": 61,
   "metadata": {
    "scrolled": true
   },
   "outputs": [
    {
     "data": {
      "text/html": [
       "<div>\n",
       "<style scoped>\n",
       "    .dataframe tbody tr th:only-of-type {\n",
       "        vertical-align: middle;\n",
       "    }\n",
       "\n",
       "    .dataframe tbody tr th {\n",
       "        vertical-align: top;\n",
       "    }\n",
       "\n",
       "    .dataframe thead th {\n",
       "        text-align: right;\n",
       "    }\n",
       "</style>\n",
       "<table border=\"1\" class=\"dataframe\">\n",
       "  <thead>\n",
       "    <tr style=\"text-align: right;\">\n",
       "      <th></th>\n",
       "      <th>toxic</th>\n",
       "      <th>severe_toxic</th>\n",
       "      <th>obscene</th>\n",
       "      <th>threat</th>\n",
       "      <th>insult</th>\n",
       "      <th>identity_hate</th>\n",
       "      <th>neutral</th>\n",
       "      <th>comment_text</th>\n",
       "      <th>cleaner_text</th>\n",
       "      <th>compound</th>\n",
       "      <th>...</th>\n",
       "      <th>pos</th>\n",
       "      <th>word count</th>\n",
       "      <th>character count</th>\n",
       "      <th>special characters</th>\n",
       "      <th>capitalized letters</th>\n",
       "      <th>swear words</th>\n",
       "      <th>misogynist words</th>\n",
       "      <th>racial_ethnic slurs</th>\n",
       "      <th>lgbtq hate</th>\n",
       "      <th>lemmatized_text</th>\n",
       "    </tr>\n",
       "  </thead>\n",
       "  <tbody>\n",
       "    <tr>\n",
       "      <th>6</th>\n",
       "      <td>1</td>\n",
       "      <td>1</td>\n",
       "      <td>1</td>\n",
       "      <td>0</td>\n",
       "      <td>1</td>\n",
       "      <td>0</td>\n",
       "      <td>0</td>\n",
       "      <td>COCKSUCKER BEFORE YOU PISS AROUND ON MY WORK</td>\n",
       "      <td>COCKSUCKER BEFORE YOU PISS AROUND ON MY WORK</td>\n",
       "      <td>-0.7783</td>\n",
       "      <td>...</td>\n",
       "      <td>0.0</td>\n",
       "      <td>8</td>\n",
       "      <td>44</td>\n",
       "      <td>0</td>\n",
       "      <td>37</td>\n",
       "      <td>1</td>\n",
       "      <td>0</td>\n",
       "      <td>0</td>\n",
       "      <td>0</td>\n",
       "      <td>COCKSUCKER PISS WORK</td>\n",
       "    </tr>\n",
       "  </tbody>\n",
       "</table>\n",
       "<p>1 rows × 22 columns</p>\n",
       "</div>"
      ],
      "text/plain": [
       "   toxic  severe_toxic  obscene  threat  insult  identity_hate  neutral  \\\n",
       "6      1             1        1       0       1              0        0   \n",
       "\n",
       "                                   comment_text  \\\n",
       "6  COCKSUCKER BEFORE YOU PISS AROUND ON MY WORK   \n",
       "\n",
       "                                   cleaner_text  compound  ...  pos  \\\n",
       "6  COCKSUCKER BEFORE YOU PISS AROUND ON MY WORK   -0.7783  ...  0.0   \n",
       "\n",
       "   word count  character count  special characters  capitalized letters  \\\n",
       "6           8               44                   0                   37   \n",
       "\n",
       "   swear words  misogynist words  racial_ethnic slurs  lgbtq hate  \\\n",
       "6            1                 0                    0           0   \n",
       "\n",
       "        lemmatized_text  \n",
       "6  COCKSUCKER PISS WORK  \n",
       "\n",
       "[1 rows x 22 columns]"
      ]
     },
     "execution_count": 61,
     "metadata": {},
     "output_type": "execute_result"
    }
   ],
   "source": [
    "toxic.head(1)"
   ]
  },
  {
   "cell_type": "code",
   "execution_count": 62,
   "metadata": {},
   "outputs": [],
   "source": [
    "def vectorize_and_viz(text, ngram_range):\n",
    "    cvec = CountVectorizer(ngram_range = ngram_range)\n",
    "    vectorized = cvec.fit_transform(text)\n",
    "    vector_df = pd.DataFrame(vectorized.todense(), \n",
    "                              columns=cvec.get_feature_names())\n",
    "    \n",
    "    vector_df.sum().sort_values(ascending = False).head(10).plot(kind = 'barh');\n",
    "    "
   ]
  },
  {
   "cell_type": "markdown",
   "metadata": {},
   "source": [
    "##### Create visualizations for unigram, bigram and trigrams for both neutral and toxic text"
   ]
  },
  {
   "cell_type": "code",
   "execution_count": null,
   "metadata": {},
   "outputs": [],
   "source": [
    "vectorize_and_viz(text = neutral['lemmatized_text'], ngram_range = (1, 1))"
   ]
  },
  {
   "cell_type": "markdown",
   "metadata": {},
   "source": [
    "#### This keeps killing my kernal. Will start a new notebook and probably switch to collab"
   ]
  },
  {
   "cell_type": "code",
   "execution_count": null,
   "metadata": {},
   "outputs": [],
   "source": []
  }
 ],
 "metadata": {
  "kernelspec": {
   "display_name": "Python 3",
   "language": "python",
   "name": "python3"
  },
  "language_info": {
   "codemirror_mode": {
    "name": "ipython",
    "version": 3
   },
   "file_extension": ".py",
   "mimetype": "text/x-python",
   "name": "python",
   "nbconvert_exporter": "python",
   "pygments_lexer": "ipython3",
   "version": "3.6.8"
  }
 },
 "nbformat": 4,
 "nbformat_minor": 2
}
