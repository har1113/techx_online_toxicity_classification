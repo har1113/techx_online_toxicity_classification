{
 "cells": [
  {
   "cell_type": "code",
   "execution_count": 1,
   "metadata": {},
   "outputs": [
    {
     "name": "stderr",
     "output_type": "stream",
     "text": [
      "[nltk_data] Downloading package wordnet to\n",
      "[nltk_data]     /Users/heatherrobbins/nltk_data...\n",
      "[nltk_data]   Package wordnet is already up-to-date!\n"
     ]
    }
   ],
   "source": [
    "import pandas as pd\n",
    "import numpy as np\n",
    "import matplotlib.pyplot as plt\n",
    "import seaborn as sns\n",
    "\n",
    "import nltk\n",
    "from nltk.corpus import stopwords\n",
    "import re\n",
    "from nltk.stem import WordNetLemmatizer\n",
    "nltk.download('wordnet')\n",
    "\n",
    "\n",
    "\n",
    "from sklearn.feature_extraction.text import CountVectorizer\n",
    "\n",
    "\n",
    "import warnings\n",
    "warnings.simplefilter(action='ignore', category=FutureWarning)\n",
    "warnings.simplefilter(action='ignore', category=DeprecationWarning)"
   ]
  },
  {
   "cell_type": "code",
   "execution_count": 2,
   "metadata": {},
   "outputs": [],
   "source": [
    "neutral = pd.read_csv('data/neutral.csv')\n",
    "toxic = pd.read_csv('data/toxic.csv')"
   ]
  },
  {
   "cell_type": "code",
   "execution_count": 3,
   "metadata": {
    "scrolled": true
   },
   "outputs": [
    {
     "data": {
      "text/html": [
       "<div>\n",
       "<style scoped>\n",
       "    .dataframe tbody tr th:only-of-type {\n",
       "        vertical-align: middle;\n",
       "    }\n",
       "\n",
       "    .dataframe tbody tr th {\n",
       "        vertical-align: top;\n",
       "    }\n",
       "\n",
       "    .dataframe thead th {\n",
       "        text-align: right;\n",
       "    }\n",
       "</style>\n",
       "<table border=\"1\" class=\"dataframe\">\n",
       "  <thead>\n",
       "    <tr style=\"text-align: right;\">\n",
       "      <th></th>\n",
       "      <th>toxic</th>\n",
       "      <th>severe_toxic</th>\n",
       "      <th>obscene</th>\n",
       "      <th>threat</th>\n",
       "      <th>insult</th>\n",
       "      <th>identity_hate</th>\n",
       "      <th>neutral</th>\n",
       "      <th>comment_text</th>\n",
       "      <th>cleaner_text</th>\n",
       "      <th>compound</th>\n",
       "      <th>...</th>\n",
       "      <th>pos</th>\n",
       "      <th>word count</th>\n",
       "      <th>character count</th>\n",
       "      <th>special characters</th>\n",
       "      <th>capitalized letters</th>\n",
       "      <th>swear words</th>\n",
       "      <th>misogynist words</th>\n",
       "      <th>racial_ethnic slurs</th>\n",
       "      <th>lgbtq hate</th>\n",
       "      <th>lemmatized_text</th>\n",
       "    </tr>\n",
       "  </thead>\n",
       "  <tbody>\n",
       "    <tr>\n",
       "      <th>0</th>\n",
       "      <td>0</td>\n",
       "      <td>0</td>\n",
       "      <td>0</td>\n",
       "      <td>0</td>\n",
       "      <td>0</td>\n",
       "      <td>0</td>\n",
       "      <td>1</td>\n",
       "      <td>Explanation\\nWhy the edits made under my usern...</td>\n",
       "      <td>Explanation Why the edits made under my userna...</td>\n",
       "      <td>0.5574</td>\n",
       "      <td>...</td>\n",
       "      <td>0.103</td>\n",
       "      <td>43</td>\n",
       "      <td>264</td>\n",
       "      <td>10</td>\n",
       "      <td>17</td>\n",
       "      <td>0</td>\n",
       "      <td>0</td>\n",
       "      <td>0</td>\n",
       "      <td>0</td>\n",
       "      <td>Explanation edits username Hardcore Metallica ...</td>\n",
       "    </tr>\n",
       "  </tbody>\n",
       "</table>\n",
       "<p>1 rows × 22 columns</p>\n",
       "</div>"
      ],
      "text/plain": [
       "   toxic  severe_toxic  obscene  threat  insult  identity_hate  neutral  \\\n",
       "0      0             0        0       0       0              0        1   \n",
       "\n",
       "                                        comment_text  \\\n",
       "0  Explanation\\nWhy the edits made under my usern...   \n",
       "\n",
       "                                        cleaner_text  compound  ...    pos  \\\n",
       "0  Explanation Why the edits made under my userna...    0.5574  ...  0.103   \n",
       "\n",
       "   word count  character count  special characters  capitalized letters  \\\n",
       "0          43              264                  10                   17   \n",
       "\n",
       "   swear words  misogynist words  racial_ethnic slurs  lgbtq hate  \\\n",
       "0            0                 0                    0           0   \n",
       "\n",
       "                                     lemmatized_text  \n",
       "0  Explanation edits username Hardcore Metallica ...  \n",
       "\n",
       "[1 rows x 22 columns]"
      ]
     },
     "execution_count": 3,
     "metadata": {},
     "output_type": "execute_result"
    }
   ],
   "source": [
    "neutral.head(1)"
   ]
  },
  {
   "cell_type": "code",
   "execution_count": 4,
   "metadata": {
    "scrolled": true
   },
   "outputs": [
    {
     "data": {
      "text/plain": [
       "toxic                  0\n",
       "severe_toxic           0\n",
       "obscene                0\n",
       "threat                 0\n",
       "insult                 0\n",
       "identity_hate          0\n",
       "neutral                0\n",
       "comment_text           0\n",
       "cleaner_text           0\n",
       "compound               0\n",
       "neg                    0\n",
       "neu                    0\n",
       "pos                    0\n",
       "word count             0\n",
       "character count        0\n",
       "special characters     0\n",
       "capitalized letters    0\n",
       "swear words            0\n",
       "misogynist words       0\n",
       "racial_ethnic slurs    0\n",
       "lgbtq hate             0\n",
       "lemmatized_text        0\n",
       "dtype: int64"
      ]
     },
     "execution_count": 4,
     "metadata": {},
     "output_type": "execute_result"
    }
   ],
   "source": [
    "neutral.isnull().sum()"
   ]
  },
  {
   "cell_type": "code",
   "execution_count": 5,
   "metadata": {},
   "outputs": [
    {
     "data": {
      "text/plain": [
       "toxic                  0\n",
       "severe_toxic           0\n",
       "obscene                0\n",
       "threat                 0\n",
       "insult                 0\n",
       "identity_hate          0\n",
       "neutral                0\n",
       "comment_text           0\n",
       "cleaner_text           0\n",
       "compound               0\n",
       "neg                    0\n",
       "neu                    0\n",
       "pos                    0\n",
       "word count             0\n",
       "character count        0\n",
       "special characters     0\n",
       "capitalized letters    0\n",
       "swear words            0\n",
       "misogynist words       0\n",
       "racial_ethnic slurs    0\n",
       "lgbtq hate             0\n",
       "lemmatized_text        0\n",
       "dtype: int64"
      ]
     },
     "execution_count": 5,
     "metadata": {},
     "output_type": "execute_result"
    }
   ],
   "source": [
    "toxic.isnull().sum()"
   ]
  },
  {
   "cell_type": "code",
   "execution_count": 6,
   "metadata": {
    "scrolled": true
   },
   "outputs": [
    {
     "data": {
      "text/html": [
       "<div>\n",
       "<style scoped>\n",
       "    .dataframe tbody tr th:only-of-type {\n",
       "        vertical-align: middle;\n",
       "    }\n",
       "\n",
       "    .dataframe tbody tr th {\n",
       "        vertical-align: top;\n",
       "    }\n",
       "\n",
       "    .dataframe thead th {\n",
       "        text-align: right;\n",
       "    }\n",
       "</style>\n",
       "<table border=\"1\" class=\"dataframe\">\n",
       "  <thead>\n",
       "    <tr style=\"text-align: right;\">\n",
       "      <th></th>\n",
       "      <th>toxic</th>\n",
       "      <th>severe_toxic</th>\n",
       "      <th>obscene</th>\n",
       "      <th>threat</th>\n",
       "      <th>insult</th>\n",
       "      <th>identity_hate</th>\n",
       "      <th>neutral</th>\n",
       "      <th>comment_text</th>\n",
       "      <th>cleaner_text</th>\n",
       "      <th>compound</th>\n",
       "      <th>...</th>\n",
       "      <th>pos</th>\n",
       "      <th>word count</th>\n",
       "      <th>character count</th>\n",
       "      <th>special characters</th>\n",
       "      <th>capitalized letters</th>\n",
       "      <th>swear words</th>\n",
       "      <th>misogynist words</th>\n",
       "      <th>racial_ethnic slurs</th>\n",
       "      <th>lgbtq hate</th>\n",
       "      <th>lemmatized_text</th>\n",
       "    </tr>\n",
       "  </thead>\n",
       "  <tbody>\n",
       "  </tbody>\n",
       "</table>\n",
       "<p>0 rows × 22 columns</p>\n",
       "</div>"
      ],
      "text/plain": [
       "Empty DataFrame\n",
       "Columns: [toxic, severe_toxic, obscene, threat, insult, identity_hate, neutral, comment_text, cleaner_text, compound, neg, neu, pos, word count, character count, special characters, capitalized letters, swear words, misogynist words, racial_ethnic slurs, lgbtq hate, lemmatized_text]\n",
       "Index: []\n",
       "\n",
       "[0 rows x 22 columns]"
      ]
     },
     "execution_count": 6,
     "metadata": {},
     "output_type": "execute_result"
    }
   ],
   "source": [
    "neutral[neutral['lemmatized_text'].isnull()]"
   ]
  },
  {
   "cell_type": "code",
   "execution_count": 7,
   "metadata": {},
   "outputs": [],
   "source": [
    "neutral.dropna(inplace = True)"
   ]
  },
  {
   "cell_type": "code",
   "execution_count": 8,
   "metadata": {
    "scrolled": true
   },
   "outputs": [
    {
     "data": {
      "text/plain": [
       "toxic                  0\n",
       "severe_toxic           0\n",
       "obscene                0\n",
       "threat                 0\n",
       "insult                 0\n",
       "identity_hate          0\n",
       "neutral                0\n",
       "comment_text           0\n",
       "cleaner_text           0\n",
       "compound               0\n",
       "neg                    0\n",
       "neu                    0\n",
       "pos                    0\n",
       "word count             0\n",
       "character count        0\n",
       "special characters     0\n",
       "capitalized letters    0\n",
       "swear words            0\n",
       "misogynist words       0\n",
       "racial_ethnic slurs    0\n",
       "lgbtq hate             0\n",
       "lemmatized_text        0\n",
       "dtype: int64"
      ]
     },
     "execution_count": 8,
     "metadata": {},
     "output_type": "execute_result"
    }
   ],
   "source": [
    "neutral.isnull().sum()"
   ]
  },
  {
   "cell_type": "code",
   "execution_count": 9,
   "metadata": {},
   "outputs": [],
   "source": [
    "#overwrite the other neutral csv so there aren't any nulls\n",
    "\n",
    "neutral.to_csv('neutral.csv', index = False)"
   ]
  },
  {
   "cell_type": "code",
   "execution_count": 12,
   "metadata": {},
   "outputs": [],
   "source": [
    "def vectorize_and_viz(text, ngram_range):\n",
    "    cvec = CountVectorizer(ngram_range = ngram_range)\n",
    "    vectorized = cvec.fit_transform(text)\n",
    "    vector_df = pd.DataFrame(vectorized.todense(), \n",
    "                              columns=cvec.get_feature_names())\n",
    "    \n",
    "    vector_df.sum().sort_values(ascending = False).head(10).plot(kind = 'barh');\n",
    "    "
   ]
  },
  {
   "cell_type": "code",
   "execution_count": 13,
   "metadata": {
    "scrolled": true
   },
   "outputs": [
    {
     "data": {
      "image/png": "[encoded data removed]",
      "text/plain": [
       "<Figure size 432x288 with 1 Axes>"
      ]
     },
     "metadata": {
      "needs_background": "light"
     },
     "output_type": "display_data"
    }
   ],
   "source": [
    "vectorize_and_viz(toxic['lemmatized_text'], (1, 1))"
   ]
  },
  {
   "cell_type": "code",
   "execution_count": 14,
   "metadata": {},
   "outputs": [
    {
     "data": {
      "image/png": "[encoded data removed]",
      "text/plain": [
       "<Figure size 432x288 with 1 Axes>"
      ]
     },
     "metadata": {
      "needs_background": "light"
     },
     "output_type": "display_data"
    }
   ],
   "source": [
    "vectorize_and_viz(toxic['lemmatized_text'], ((2, 2)))"
   ]
  },
  {
   "cell_type": "code",
   "execution_count": 15,
   "metadata": {},
   "outputs": [
    {
     "data": {
      "image/png": "[encoded data removed]",
      "text/plain": [
       "<Figure size 432x288 with 1 Axes>"
      ]
     },
     "metadata": {
      "needs_background": "light"
     },
     "output_type": "display_data"
    }
   ],
   "source": [
    "vectorize_and_viz(toxic['lemmatized_text'], (3, 3))"
   ]
  },
  {
   "cell_type": "markdown",
   "metadata": {},
   "source": [
    "If there's time, I'd like to include these words as custom stop words to see if there's anything deeper in the data."
   ]
  },
  {
   "cell_type": "code",
   "execution_count": 16,
   "metadata": {},
   "outputs": [],
   "source": [
    "#create random sample for neutral text since full set is killing kernal. Will use google collab on full set, but want to keep this moving for now"
   ]
  },
  {
   "cell_type": "code",
   "execution_count": 17,
   "metadata": {},
   "outputs": [
    {
     "data": {
      "text/plain": [
       "((16225, 22), (143330, 22))"
      ]
     },
     "execution_count": 17,
     "metadata": {},
     "output_type": "execute_result"
    }
   ],
   "source": [
    "toxic.shape, neutral.shape"
   ]
  },
  {
   "cell_type": "code",
   "execution_count": 18,
   "metadata": {},
   "outputs": [],
   "source": [
    "# Get a random sample of rows\n",
    "sample_size = toxic.shape[0]\n",
    "neutral_random_sample = neutral.sample(n=sample_size)"
   ]
  },
  {
   "cell_type": "code",
   "execution_count": 22,
   "metadata": {},
   "outputs": [],
   "source": [
    "neutral_random_sample.to_csv('neutral_sample.csv', index = False)"
   ]
  },
  {
   "cell_type": "code",
   "execution_count": 19,
   "metadata": {},
   "outputs": [
    {
     "data": {
      "image/png": "[encoded data removed]",
      "text/plain": [
       "<Figure size 432x288 with 1 Axes>"
      ]
     },
     "metadata": {
      "needs_background": "light"
     },
     "output_type": "display_data"
    }
   ],
   "source": [
    "vectorize_and_viz(neutral_random_sample['lemmatized_text'], (1, 1))"
   ]
  },
  {
   "cell_type": "code",
   "execution_count": 20,
   "metadata": {},
   "outputs": [
    {
     "data": {
      "image/png": "[encoded data removed]",
      "text/plain": [
       "<Figure size 432x288 with 1 Axes>"
      ]
     },
     "metadata": {
      "needs_background": "light"
     },
     "output_type": "display_data"
    }
   ],
   "source": [
    "vectorize_and_viz(neutral_random_sample['lemmatized_text'], (2, 2))"
   ]
  },
  {
   "cell_type": "code",
   "execution_count": 21,
   "metadata": {},
   "outputs": [
    {
     "data": {
      "image/png": "[encoded data removed]",
      "text/plain": [
       "<Figure size 432x288 with 1 Axes>"
      ]
     },
     "metadata": {
      "needs_background": "light"
     },
     "output_type": "display_data"
    }
   ],
   "source": [
    "vectorize_and_viz(neutral_random_sample['lemmatized_text'], (2, 2))"
   ]
  },
  {
   "cell_type": "code",
   "execution_count": null,
   "metadata": {},
   "outputs": [],
   "source": []
  }
 ],
 "metadata": {
  "kernelspec": {
   "display_name": "Python 3",
   "language": "python",
   "name": "python3"
  },
  "language_info": {
   "codemirror_mode": {
    "name": "ipython",
    "version": 3
   },
   "file_extension": ".py",
   "mimetype": "text/x-python",
   "name": "python",
   "nbconvert_exporter": "python",
   "pygments_lexer": "ipython3",
   "version": "3.6.8"
  }
 },
 "nbformat": 4,
 "nbformat_minor": 2
}
