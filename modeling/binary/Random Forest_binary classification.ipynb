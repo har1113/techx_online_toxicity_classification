{
 "cells": [
  {
   "cell_type": "code",
   "execution_count": 1,
   "metadata": {},
   "outputs": [],
   "source": [
    "import pandas as pd\n",
    "import numpy as np\n",
    "import matplotlib.pyplot as plt\n",
    "import seaborn as sns\n",
    "\n",
    "from sklearn.model_selection import train_test_split, GridSearchCV\n",
    "from sklearn.ensemble import RandomForestClassifier\n",
    "# from sklearn.naive_bayes import MultinomialNB\n",
    "from sklearn.feature_extraction.text import TfidfVectorizer\n",
    "from sklearn.metrics import confusion_matrix, plot_confusion_matrix\n",
    "from sklearn.pipeline import Pipeline\n",
    "\n",
    "\n",
    "# https://pypi.org/project/profanity-check/"
   ]
  },
  {
   "cell_type": "code",
   "execution_count": 3,
   "metadata": {},
   "outputs": [],
   "source": [
    "df_15 = pd.read_csv('../df_15.csv')"
   ]
  },
  {
   "cell_type": "code",
   "execution_count": 4,
   "metadata": {
    "scrolled": true
   },
   "outputs": [
    {
     "data": {
      "text/plain": [
       "Index(['binary_tox', 'capitalized letters', 'character count', 'cleaner_text',\n",
       "       'comment_text', 'compound', 'identity_hate', 'insult',\n",
       "       'lemmatized_text', 'lgbtq hate', 'misogynist words', 'neg', 'neu',\n",
       "       'neutral', 'obscene', 'pos', 'racial_ethnic slurs', 'severe_toxic',\n",
       "       'special characters', 'swear words', 'threat', 'toxic', 'word count'],\n",
       "      dtype='object')"
      ]
     },
     "execution_count": 4,
     "metadata": {},
     "output_type": "execute_result"
    }
   ],
   "source": [
    "df_15.columns"
   ]
  },
  {
   "cell_type": "code",
   "execution_count": 5,
   "metadata": {},
   "outputs": [],
   "source": [
    "df_15['binary_tox'] = df_15['neutral'].map(lambda x: 1 if x == 0 else 0)"
   ]
  },
  {
   "cell_type": "code",
   "execution_count": 6,
   "metadata": {},
   "outputs": [
    {
     "data": {
      "text/plain": [
       "0    27232\n",
       "1    12331\n",
       "Name: binary_tox, dtype: int64"
      ]
     },
     "execution_count": 6,
     "metadata": {},
     "output_type": "execute_result"
    }
   ],
   "source": [
    "df_15['binary_tox'].value_counts()"
   ]
  },
  {
   "cell_type": "code",
   "execution_count": 7,
   "metadata": {},
   "outputs": [],
   "source": [
    "binary_classification = df_15.drop(columns = ['toxic', 'severe_toxic', 'obscene', 'threat', 'insult', 'identity_hate', 'neutral'])"
   ]
  },
  {
   "cell_type": "code",
   "execution_count": 8,
   "metadata": {},
   "outputs": [
    {
     "data": {
      "text/html": [
       "<div>\n",
       "<style scoped>\n",
       "    .dataframe tbody tr th:only-of-type {\n",
       "        vertical-align: middle;\n",
       "    }\n",
       "\n",
       "    .dataframe tbody tr th {\n",
       "        vertical-align: top;\n",
       "    }\n",
       "\n",
       "    .dataframe thead th {\n",
       "        text-align: right;\n",
       "    }\n",
       "</style>\n",
       "<table border=\"1\" class=\"dataframe\">\n",
       "  <thead>\n",
       "    <tr style=\"text-align: right;\">\n",
       "      <th></th>\n",
       "      <th>binary_tox</th>\n",
       "      <th>capitalized letters</th>\n",
       "      <th>character count</th>\n",
       "      <th>cleaner_text</th>\n",
       "      <th>comment_text</th>\n",
       "      <th>compound</th>\n",
       "      <th>lemmatized_text</th>\n",
       "      <th>lgbtq hate</th>\n",
       "      <th>misogynist words</th>\n",
       "      <th>neg</th>\n",
       "      <th>neu</th>\n",
       "      <th>pos</th>\n",
       "      <th>racial_ethnic slurs</th>\n",
       "      <th>special characters</th>\n",
       "      <th>swear words</th>\n",
       "      <th>word count</th>\n",
       "    </tr>\n",
       "  </thead>\n",
       "  <tbody>\n",
       "    <tr>\n",
       "      <th>0</th>\n",
       "      <td>0</td>\n",
       "      <td>2</td>\n",
       "      <td>78</td>\n",
       "      <td>May not be a insult but still name calling Kep...</td>\n",
       "      <td>May not be a insult but still name calling Kep...</td>\n",
       "      <td>-0.2020</td>\n",
       "      <td>insult calling Kepp blocked .</td>\n",
       "      <td>0</td>\n",
       "      <td>0</td>\n",
       "      <td>0.143</td>\n",
       "      <td>0.757</td>\n",
       "      <td>0.10</td>\n",
       "      <td>0</td>\n",
       "      <td>1</td>\n",
       "      <td>0</td>\n",
       "      <td>17</td>\n",
       "    </tr>\n",
       "    <tr>\n",
       "      <th>1</th>\n",
       "      <td>0</td>\n",
       "      <td>2</td>\n",
       "      <td>56</td>\n",
       "      <td>is there any proof that Socialist Democrayc st...</td>\n",
       "      <td>is there any proof that Socialist Democrayc st...</td>\n",
       "      <td>0.0000</td>\n",
       "      <td>proof Socialist Democrayc exist .</td>\n",
       "      <td>0</td>\n",
       "      <td>0</td>\n",
       "      <td>0.000</td>\n",
       "      <td>1.000</td>\n",
       "      <td>0.00</td>\n",
       "      <td>0</td>\n",
       "      <td>1</td>\n",
       "      <td>0</td>\n",
       "      <td>9</td>\n",
       "    </tr>\n",
       "    <tr>\n",
       "      <th>2</th>\n",
       "      <td>1</td>\n",
       "      <td>2</td>\n",
       "      <td>82</td>\n",
       "      <td>You have the nerve to post these notices on my...</td>\n",
       "      <td>You have the nerve to post these notices on my...</td>\n",
       "      <td>-0.6115</td>\n",
       "      <td>spunk post note lecture foliate . truly misfor...</td>\n",
       "      <td>0</td>\n",
       "      <td>0</td>\n",
       "      <td>0.210</td>\n",
       "      <td>0.790</td>\n",
       "      <td>0.00</td>\n",
       "      <td>0</td>\n",
       "      <td>2</td>\n",
       "      <td>0</td>\n",
       "      <td>16</td>\n",
       "    </tr>\n",
       "    <tr>\n",
       "      <th>3</th>\n",
       "      <td>0</td>\n",
       "      <td>3</td>\n",
       "      <td>68</td>\n",
       "      <td>April 2008  Your unhelpful edits have been rve...</td>\n",
       "      <td>April 2008\\n Your unhelpful edits have been rv...</td>\n",
       "      <td>0.0258</td>\n",
       "      <td>April 2008 unhelpful edits rverted . stop .</td>\n",
       "      <td>0</td>\n",
       "      <td>0</td>\n",
       "      <td>0.163</td>\n",
       "      <td>0.667</td>\n",
       "      <td>0.17</td>\n",
       "      <td>0</td>\n",
       "      <td>2</td>\n",
       "      <td>0</td>\n",
       "      <td>11</td>\n",
       "    </tr>\n",
       "    <tr>\n",
       "      <th>4</th>\n",
       "      <td>1</td>\n",
       "      <td>4</td>\n",
       "      <td>71</td>\n",
       "      <td>Hmmm... This says that I'm a possible sockpupp...</td>\n",
       "      <td>Hmmm... This says that I'm a possible sockpupp...</td>\n",
       "      <td>0.0000</td>\n",
       "      <td>Hmmm ... say 'm potential sockpuppet . 'm sock...</td>\n",
       "      <td>0</td>\n",
       "      <td>0</td>\n",
       "      <td>0.000</td>\n",
       "      <td>1.000</td>\n",
       "      <td>0.00</td>\n",
       "      <td>0</td>\n",
       "      <td>7</td>\n",
       "      <td>0</td>\n",
       "      <td>12</td>\n",
       "    </tr>\n",
       "  </tbody>\n",
       "</table>\n",
       "</div>"
      ],
      "text/plain": [
       "   binary_tox  capitalized letters  character count  \\\n",
       "0           0                    2               78   \n",
       "1           0                    2               56   \n",
       "2           1                    2               82   \n",
       "3           0                    3               68   \n",
       "4           1                    4               71   \n",
       "\n",
       "                                        cleaner_text  \\\n",
       "0  May not be a insult but still name calling Kep...   \n",
       "1  is there any proof that Socialist Democrayc st...   \n",
       "2  You have the nerve to post these notices on my...   \n",
       "3  April 2008  Your unhelpful edits have been rve...   \n",
       "4  Hmmm... This says that I'm a possible sockpupp...   \n",
       "\n",
       "                                        comment_text  compound  \\\n",
       "0  May not be a insult but still name calling Kep...   -0.2020   \n",
       "1  is there any proof that Socialist Democrayc st...    0.0000   \n",
       "2  You have the nerve to post these notices on my...   -0.6115   \n",
       "3  April 2008\\n Your unhelpful edits have been rv...    0.0258   \n",
       "4  Hmmm... This says that I'm a possible sockpupp...    0.0000   \n",
       "\n",
       "                                     lemmatized_text  lgbtq hate  \\\n",
       "0                      insult calling Kepp blocked .           0   \n",
       "1                  proof Socialist Democrayc exist .           0   \n",
       "2  spunk post note lecture foliate . truly misfor...           0   \n",
       "3        April 2008 unhelpful edits rverted . stop .           0   \n",
       "4  Hmmm ... say 'm potential sockpuppet . 'm sock...           0   \n",
       "\n",
       "   misogynist words    neg    neu   pos  racial_ethnic slurs  \\\n",
       "0                 0  0.143  0.757  0.10                    0   \n",
       "1                 0  0.000  1.000  0.00                    0   \n",
       "2                 0  0.210  0.790  0.00                    0   \n",
       "3                 0  0.163  0.667  0.17                    0   \n",
       "4                 0  0.000  1.000  0.00                    0   \n",
       "\n",
       "   special characters  swear words  word count  \n",
       "0                   1            0          17  \n",
       "1                   1            0           9  \n",
       "2                   2            0          16  \n",
       "3                   2            0          11  \n",
       "4                   7            0          12  "
      ]
     },
     "execution_count": 8,
     "metadata": {},
     "output_type": "execute_result"
    }
   ],
   "source": [
    "binary_classification.head()"
   ]
  },
  {
   "cell_type": "code",
   "execution_count": 9,
   "metadata": {},
   "outputs": [],
   "source": [
    "# Reshuffle the rows\n",
    "shuffled_df = binary_classification.sample(frac=1, random_state=42)  # frac=1 means all rows, random_state for reproducibility\n",
    "\n",
    "shuffled_df.reset_index(drop = True, inplace = True)"
   ]
  },
  {
   "cell_type": "code",
   "execution_count": 10,
   "metadata": {},
   "outputs": [
    {
     "data": {
      "text/html": [
       "<div>\n",
       "<style scoped>\n",
       "    .dataframe tbody tr th:only-of-type {\n",
       "        vertical-align: middle;\n",
       "    }\n",
       "\n",
       "    .dataframe tbody tr th {\n",
       "        vertical-align: top;\n",
       "    }\n",
       "\n",
       "    .dataframe thead th {\n",
       "        text-align: right;\n",
       "    }\n",
       "</style>\n",
       "<table border=\"1\" class=\"dataframe\">\n",
       "  <thead>\n",
       "    <tr style=\"text-align: right;\">\n",
       "      <th></th>\n",
       "      <th>binary_tox</th>\n",
       "      <th>capitalized letters</th>\n",
       "      <th>character count</th>\n",
       "      <th>cleaner_text</th>\n",
       "      <th>comment_text</th>\n",
       "      <th>compound</th>\n",
       "      <th>lemmatized_text</th>\n",
       "      <th>lgbtq hate</th>\n",
       "      <th>misogynist words</th>\n",
       "      <th>neg</th>\n",
       "      <th>neu</th>\n",
       "      <th>pos</th>\n",
       "      <th>racial_ethnic slurs</th>\n",
       "      <th>special characters</th>\n",
       "      <th>swear words</th>\n",
       "      <th>word count</th>\n",
       "    </tr>\n",
       "  </thead>\n",
       "  <tbody>\n",
       "    <tr>\n",
       "      <th>0</th>\n",
       "      <td>0</td>\n",
       "      <td>220</td>\n",
       "      <td>4587</td>\n",
       "      <td>OVERVIEW:  Crunch (AGT Crunch Acquisition, LLC...</td>\n",
       "      <td>OVERVIEW:\\n\\nCrunch (AGT Crunch Acquisition, L...</td>\n",
       "      <td>0.9964</td>\n",
       "      <td>OVERVIEW : Crunch ( AGT Crunch Acquisition , L...</td>\n",
       "      <td>0</td>\n",
       "      <td>0</td>\n",
       "      <td>0.007</td>\n",
       "      <td>0.882</td>\n",
       "      <td>0.112</td>\n",
       "      <td>0</td>\n",
       "      <td>144</td>\n",
       "      <td>7</td>\n",
       "      <td>686</td>\n",
       "    </tr>\n",
       "    <tr>\n",
       "      <th>1</th>\n",
       "      <td>0</td>\n",
       "      <td>26</td>\n",
       "      <td>1106</td>\n",
       "      <td>\"  My proposed lead paragraph, which treats th...</td>\n",
       "      <td>\"\\n\\nMy proposed lead paragraph, which treats ...</td>\n",
       "      <td>0.1901</td>\n",
       "      <td>`` proposed lead paragraph , treat topic artic...</td>\n",
       "      <td>0</td>\n",
       "      <td>0</td>\n",
       "      <td>0.000</td>\n",
       "      <td>0.990</td>\n",
       "      <td>0.010</td>\n",
       "      <td>0</td>\n",
       "      <td>37</td>\n",
       "      <td>1</td>\n",
       "      <td>184</td>\n",
       "    </tr>\n",
       "    <tr>\n",
       "      <th>2</th>\n",
       "      <td>0</td>\n",
       "      <td>12</td>\n",
       "      <td>357</td>\n",
       "      <td>Yes we are editing the article: Pranic Healing...</td>\n",
       "      <td>Yes we are editing the article: Pranic Healing...</td>\n",
       "      <td>0.6517</td>\n",
       "      <td>Yes editing article : Pranic Healing behalf Co...</td>\n",
       "      <td>0</td>\n",
       "      <td>0</td>\n",
       "      <td>0.000</td>\n",
       "      <td>0.918</td>\n",
       "      <td>0.082</td>\n",
       "      <td>0</td>\n",
       "      <td>6</td>\n",
       "      <td>0</td>\n",
       "      <td>64</td>\n",
       "    </tr>\n",
       "    <tr>\n",
       "      <th>3</th>\n",
       "      <td>1</td>\n",
       "      <td>7</td>\n",
       "      <td>70</td>\n",
       "      <td>The Gay Guy   I know you.  Wuzzup?  I like sad...</td>\n",
       "      <td>The Gay Guy \\n\\nI know you.  Wuzzup?  I like s...</td>\n",
       "      <td>0.4199</td>\n",
       "      <td>homophile hombre know . Wuzzup ? like sadomaso...</td>\n",
       "      <td>0</td>\n",
       "      <td>0</td>\n",
       "      <td>0.000</td>\n",
       "      <td>0.763</td>\n",
       "      <td>0.237</td>\n",
       "      <td>0</td>\n",
       "      <td>4</td>\n",
       "      <td>0</td>\n",
       "      <td>12</td>\n",
       "    </tr>\n",
       "    <tr>\n",
       "      <th>4</th>\n",
       "      <td>1</td>\n",
       "      <td>0</td>\n",
       "      <td>65</td>\n",
       "      <td>fuck you jzg   i will have you removed as edit...</td>\n",
       "      <td>fuck you jzg \\n\\ni will have you removed as ed...</td>\n",
       "      <td>-0.8779</td>\n",
       "      <td>bonk jzg take_out editor_program stupid idiot</td>\n",
       "      <td>0</td>\n",
       "      <td>0</td>\n",
       "      <td>0.529</td>\n",
       "      <td>0.471</td>\n",
       "      <td>0.000</td>\n",
       "      <td>0</td>\n",
       "      <td>0</td>\n",
       "      <td>1</td>\n",
       "      <td>13</td>\n",
       "    </tr>\n",
       "  </tbody>\n",
       "</table>\n",
       "</div>"
      ],
      "text/plain": [
       "   binary_tox  capitalized letters  character count  \\\n",
       "0           0                  220             4587   \n",
       "1           0                   26             1106   \n",
       "2           0                   12              357   \n",
       "3           1                    7               70   \n",
       "4           1                    0               65   \n",
       "\n",
       "                                        cleaner_text  \\\n",
       "0  OVERVIEW:  Crunch (AGT Crunch Acquisition, LLC...   \n",
       "1  \"  My proposed lead paragraph, which treats th...   \n",
       "2  Yes we are editing the article: Pranic Healing...   \n",
       "3  The Gay Guy   I know you.  Wuzzup?  I like sad...   \n",
       "4  fuck you jzg   i will have you removed as edit...   \n",
       "\n",
       "                                        comment_text  compound  \\\n",
       "0  OVERVIEW:\\n\\nCrunch (AGT Crunch Acquisition, L...    0.9964   \n",
       "1  \"\\n\\nMy proposed lead paragraph, which treats ...    0.1901   \n",
       "2  Yes we are editing the article: Pranic Healing...    0.6517   \n",
       "3  The Gay Guy \\n\\nI know you.  Wuzzup?  I like s...    0.4199   \n",
       "4  fuck you jzg \\n\\ni will have you removed as ed...   -0.8779   \n",
       "\n",
       "                                     lemmatized_text  lgbtq hate  \\\n",
       "0  OVERVIEW : Crunch ( AGT Crunch Acquisition , L...           0   \n",
       "1  `` proposed lead paragraph , treat topic artic...           0   \n",
       "2  Yes editing article : Pranic Healing behalf Co...           0   \n",
       "3  homophile hombre know . Wuzzup ? like sadomaso...           0   \n",
       "4      bonk jzg take_out editor_program stupid idiot           0   \n",
       "\n",
       "   misogynist words    neg    neu    pos  racial_ethnic slurs  \\\n",
       "0                 0  0.007  0.882  0.112                    0   \n",
       "1                 0  0.000  0.990  0.010                    0   \n",
       "2                 0  0.000  0.918  0.082                    0   \n",
       "3                 0  0.000  0.763  0.237                    0   \n",
       "4                 0  0.529  0.471  0.000                    0   \n",
       "\n",
       "   special characters  swear words  word count  \n",
       "0                 144            7         686  \n",
       "1                  37            1         184  \n",
       "2                   6            0          64  \n",
       "3                   4            0          12  \n",
       "4                   0            1          13  "
      ]
     },
     "execution_count": 10,
     "metadata": {},
     "output_type": "execute_result"
    }
   ],
   "source": [
    "shuffled_df.head()"
   ]
  },
  {
   "cell_type": "code",
   "execution_count": 11,
   "metadata": {},
   "outputs": [],
   "source": [
    "X = shuffled_df['lemmatized_text']\n",
    "y = shuffled_df['binary_tox']"
   ]
  },
  {
   "cell_type": "code",
   "execution_count": 12,
   "metadata": {},
   "outputs": [],
   "source": [
    "# Split the data into the training and testing sets.\n",
    "X_train, X_test, y_train, y_test = train_test_split(X,\n",
    "                                                    y,\n",
    "                                                    test_size=0.25,\n",
    "                                                    stratify=y,\n",
    "                                                    random_state=42)"
   ]
  },
  {
   "cell_type": "code",
   "execution_count": 13,
   "metadata": {},
   "outputs": [],
   "source": [
    "#create pipeline so i can gridsearch over both\n",
    "\n",
    "pipe = Pipeline([\n",
    "    ('tvec', TfidfVectorizer()),\n",
    "    ('rfc', RandomForestClassifier(class_weight = 'balanced'))])"
   ]
  },
  {
   "cell_type": "code",
   "execution_count": 14,
   "metadata": {},
   "outputs": [],
   "source": [
    "# Search over the following values of hyperparameters:\n",
    "# Maximum number of features fit: 2000, 3000, 4000, 5000\n",
    "# Minimum number of documents needed to include token: 2, 3\n",
    "# Maximum number of documents needed to include token: 90%, 95%\n",
    "# Check (individual tokens) and also check (individual tokens and 2-grams).\n",
    "\n",
    "##these were found to be the best params after multiple gridsearches\n",
    "pipe_params = {\n",
    " 'rfc__max_depth': [35],\n",
    " 'rfc__min_samples_leaf': [3],\n",
    " 'rfc__min_samples_split': [7],\n",
    " 'tvec__max_df': [0.9],\n",
    " 'tvec__max_features': [10000],\n",
    " 'tvec__min_df': [5],\n",
    " 'tvec__ngram_range': [(1, 2)]}\n"
   ]
  },
  {
   "cell_type": "code",
   "execution_count": 15,
   "metadata": {},
   "outputs": [],
   "source": [
    "# Instantiate GridSearchCV.\n",
    "\n",
    "gs = GridSearchCV(pipe, # what object are we optimizing?\n",
    "                  pipe_params, # what parameters values are we searching?\n",
    "              cv =5,\n",
    "                 scoring = 'f1') # 5-fold cross-validation."
   ]
  },
  {
   "cell_type": "code",
   "execution_count": 16,
   "metadata": {},
   "outputs": [
    {
     "data": {
      "text/plain": [
       "GridSearchCV(cv=5,\n",
       "             estimator=Pipeline(steps=[('tvec', TfidfVectorizer()),\n",
       "                                       ('rfc',\n",
       "                                        RandomForestClassifier(class_weight='balanced'))]),\n",
       "             param_grid={'rfc__max_depth': [35], 'rfc__min_samples_leaf': [3],\n",
       "                         'rfc__min_samples_split': [7], 'tvec__max_df': [0.9],\n",
       "                         'tvec__max_features': [10000], 'tvec__min_df': [5],\n",
       "                         'tvec__ngram_range': [(1, 2)]},\n",
       "             scoring='f1')"
      ]
     },
     "execution_count": 16,
     "metadata": {},
     "output_type": "execute_result"
    }
   ],
   "source": [
    "# Fit GridSearch to training data.\n",
    "gs.fit(X_train, y_train)\n"
   ]
  },
  {
   "cell_type": "code",
   "execution_count": 17,
   "metadata": {},
   "outputs": [
    {
     "data": {
      "text/plain": [
       "(0.7667213332742343, 0.7370980815995677)"
      ]
     },
     "execution_count": 17,
     "metadata": {},
     "output_type": "execute_result"
    }
   ],
   "source": [
    "# What's the best accuracy score?\n",
    "\n",
    "gs.score(X_train, y_train), gs.score(X_test, y_test)"
   ]
  },
  {
   "cell_type": "code",
   "execution_count": 18,
   "metadata": {},
   "outputs": [],
   "source": [
    "# Get predictions\n",
    "\n",
    "preds = gs.predict(X_test)\n",
    "\n",
    "\n",
    "# Save confusion matrix values\n",
    "tn, fp, fn, tp = confusion_matrix(y_test, preds).ravel()"
   ]
  },
  {
   "cell_type": "code",
   "execution_count": 19,
   "metadata": {},
   "outputs": [
    {
     "data": {
      "image/png": "[encoded data removed]",
      "text/plain": [
       "<Figure size 432x288 with 2 Axes>"
      ]
     },
     "metadata": {
      "needs_background": "light"
     },
     "output_type": "display_data"
    }
   ],
   "source": [
    "\n",
    "# View confusion matrix\n",
    "plot_confusion_matrix(gs, X_test, y_test, cmap='Blues');"
   ]
  },
  {
   "cell_type": "code",
   "execution_count": 20,
   "metadata": {},
   "outputs": [],
   "source": [
    "from sklearn.metrics import classification_report"
   ]
  },
  {
   "cell_type": "code",
   "execution_count": 21,
   "metadata": {},
   "outputs": [
    {
     "name": "stdout",
     "output_type": "stream",
     "text": [
      "              precision    recall  f1-score   support\n",
      "\n",
      "           0       0.94      0.77      0.84      6808\n",
      "           1       0.63      0.88      0.74      3083\n",
      "\n",
      "    accuracy                           0.80      9891\n",
      "   macro avg       0.78      0.83      0.79      9891\n",
      "weighted avg       0.84      0.80      0.81      9891\n",
      "\n"
     ]
    }
   ],
   "source": [
    "print(classification_report(y_test, preds))"
   ]
  },
  {
   "cell_type": "code",
   "execution_count": 22,
   "metadata": {},
   "outputs": [
    {
     "data": {
      "text/plain": [
       "{'rfc__max_depth': 35,\n",
       " 'rfc__min_samples_leaf': 3,\n",
       " 'rfc__min_samples_split': 7,\n",
       " 'tvec__max_df': 0.9,\n",
       " 'tvec__max_features': 10000,\n",
       " 'tvec__min_df': 5,\n",
       " 'tvec__ngram_range': (1, 2)}"
      ]
     },
     "execution_count": 22,
     "metadata": {},
     "output_type": "execute_result"
    }
   ],
   "source": [
    "gs.best_params_\n"
   ]
  },
  {
   "cell_type": "code",
   "execution_count": 23,
   "metadata": {},
   "outputs": [
    {
     "data": {
      "text/plain": [
       "0.7370980815995677"
      ]
     },
     "execution_count": 23,
     "metadata": {},
     "output_type": "execute_result"
    }
   ],
   "source": [
    "from sklearn import metrics\n",
    "metrics.f1_score(y_test, preds)"
   ]
  },
  {
   "cell_type": "code",
   "execution_count": 24,
   "metadata": {},
   "outputs": [
    {
     "data": {
      "image/png": "[encoded data removed]",
      "text/plain": [
       "<Figure size 432x288 with 1 Axes>"
      ]
     },
     "metadata": {
      "needs_background": "light"
     },
     "output_type": "display_data"
    }
   ],
   "source": [
    "y_pred_prob = gs.predict_proba(X_test)[:,1]\n",
    "fpr, tpr, thresholds = metrics.roc_curve(y_test,  y_pred_prob)\n",
    "\n",
    "# Create ROC curve\n",
    "plt.plot(fpr,tpr)\n",
    "plt.ylabel('True Positive Rate')\n",
    "plt.xlabel('False Positive Rate')\n",
    "plt.show()"
   ]
  },
  {
   "cell_type": "code",
   "execution_count": 25,
   "metadata": {},
   "outputs": [
    {
     "data": {
      "text/plain": [
       "0.9168581314535988"
      ]
     },
     "execution_count": 25,
     "metadata": {},
     "output_type": "execute_result"
    }
   ],
   "source": [
    "# Calculate AUC\n",
    "metrics.roc_auc_score(y_test, y_pred_prob)"
   ]
  },
  {
   "cell_type": "code",
   "execution_count": 26,
   "metadata": {
    "scrolled": false
   },
   "outputs": [],
   "source": [
    "## feature importances\n",
    "# Access the best estimator (pipeline) from the grid search\n",
    "best_pipeline = gs.best_estimator_\n",
    "\n",
    "# Access the Random Forest model from the best pipeline\n",
    "random_forest_model = best_pipeline.named_steps['rfc']\n",
    "\n",
    "# Get feature importances from the Random Forest model\n",
    "feature_importances = random_forest_model.feature_importances_\n",
    "\n",
    "# Print or use the feature importances as needed\n",
    "# for feature, importance in enumerate(feature_importances):\n",
    "#     print(f\"Feature {feature}: Importance = {importance}\")"
   ]
  },
  {
   "cell_type": "code",
   "execution_count": 27,
   "metadata": {},
   "outputs": [
    {
     "data": {
      "image/png": "[encoded data removed]",
      "text/plain": [
       "<Figure size 720x432 with 1 Axes>"
      ]
     },
     "metadata": {
      "needs_background": "light"
     },
     "output_type": "display_data"
    }
   ],
   "source": [
    "# Access the TfidfVectorizer from the best pipeline\n",
    "tfidf_vectorizer = best_pipeline.named_steps['tvec']\n",
    "\n",
    "# Get the feature names from the TfidfVectorizer\n",
    "feature_names = tfidf_vectorizer.get_feature_names()\n",
    "\n",
    "# Access the Random Forest model from the best pipeline\n",
    "random_forest_model = best_pipeline.named_steps['rfc']\n",
    "\n",
    "# Get feature importances from the Random Forest model\n",
    "feature_importances = random_forest_model.feature_importances_\n",
    "\n",
    "# Get the indices of the top 20 most important features\n",
    "top_feature_indices = np.argsort(feature_importances)[::-1][:20]\n",
    "\n",
    "# Plotting the feature importances\n",
    "plt.figure(figsize=(10, 6))\n",
    "plt.title(\"Top 20 Feature Importances\")\n",
    "plt.bar(range(20), feature_importances[top_feature_indices], align=\"center\")\n",
    "plt.xticks(range(20), np.array(feature_names)[top_feature_indices], rotation=45, ha=\"right\")\n",
    "plt.tight_layout()\n",
    "plt.show()"
   ]
  },
  {
   "cell_type": "code",
   "execution_count": 28,
   "metadata": {},
   "outputs": [],
   "source": [
    "##how to get feature importances out of a pipeline\n",
    "\n",
    "# https://towardsdatascience.com/how-to-get-feature-importances-from-any-sklearn-pipeline-167a19f1214"
   ]
  },
  {
   "cell_type": "code",
   "execution_count": 29,
   "metadata": {},
   "outputs": [],
   "source": [
    "## pickle model for later use, if needed:\n",
    "\n",
    "import pickle\n",
    "\n",
    "\n",
    "# Pickle the model to a file\n",
    "with open('rfc_pipe_model.pkl', 'wb') as file:\n",
    "    pickle.dump(gs, file)"
   ]
  },
  {
   "cell_type": "code",
   "execution_count": null,
   "metadata": {},
   "outputs": [],
   "source": []
  }
 ],
 "metadata": {
  "kernelspec": {
   "display_name": "Python 3",
   "language": "python",
   "name": "python3"
  },
  "language_info": {
   "codemirror_mode": {
    "name": "ipython",
    "version": 3
   },
   "file_extension": ".py",
   "mimetype": "text/x-python",
   "name": "python",
   "nbconvert_exporter": "python",
   "pygments_lexer": "ipython3",
   "version": "3.6.8"
  }
 },
 "nbformat": 4,
 "nbformat_minor": 2
}
