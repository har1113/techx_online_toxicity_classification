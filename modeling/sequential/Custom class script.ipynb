{
 "cells": [
  {
   "cell_type": "code",
   "execution_count": 21,
   "metadata": {},
   "outputs": [],
   "source": [
    "import pickle\n",
    "from sklearn.base import BaseEstimator, TransformerMixin\n",
    "\n",
    "# Load the pre-trained models from pickled files\n",
    "with open('../../pickled_models/15_nmb_pipe_model.pkl', 'rb') as f:\n",
    "    binary_model = pickle.load(f)\n",
    "\n",
    "with open('../../pickled_models/15_binary_relevance_mnb.pkl', 'rb') as f:\n",
    "    multilabel_model = pickle.load(f)\n",
    "       \n",
    "# Create a custom transformer class\n",
    "# create sequential model class that inherits properties from BaseEstimator and TransformerMixin\n",
    "# BaseEstimator allows you to create a custom estimator\n",
    "# TransformerMixin allows you to transform data within the class\n",
    "\n",
    "class SequentialModel(BaseEstimator, TransformerMixin):\n",
    "    \n",
    "  ##constructor/initializer - needs self, and takes in the binary and multilabel model  \n",
    "    def __init__(self, binary_model, multilabel_model):\n",
    "        self.binary_model = binary_model\n",
    "        self.multilabel_model = multilabel_model\n",
    "        \n",
    "# Inside the constructor, self.binary_model and self.multilabel_model are instance variables. \n",
    "# They store the references to the binary and multilabel models so that they can be accessed \n",
    "# by other methods within the class.\n",
    "    \n",
    "    #takes in the x data, doesn't need y because we're not fitting and just trying to get predictions\n",
    "    \n",
    "    def transform(self, X, y=None):\n",
    "        \n",
    "        #get binary predictions from X data\n",
    "        binary_predictions = self.binary_model.predict(X)\n",
    "        \n",
    "        #if label is toxic, take that prediction and save the prediction and index\n",
    "        filtered_indices = [i for i, pred in enumerate(binary_predictions) if pred == 1]\n",
    "        #filter based on those toxic indices\n",
    "        filtered_data = X[filtered_indices]\n",
    "        #run that text data through the multilabel model to get multilabel predictions\n",
    "        multilabel_predictions = self.multilabel_model.predict(filtered_data)\n",
    "        \n",
    "        #return those predictions\n",
    "        return multilabel_predictions\n",
    "    \n",
    "    def predict(self, text):\n",
    "        \n",
    "        #get binary predictioon\n",
    "        binary_prediction = self.binary_model.predict([text])\n",
    "        #if predicts toxic\n",
    "        if binary_prediction[0] == 1:\n",
    "            #text goes to multilabel model\n",
    "            multilabel_prediction = self.multilabel_model.predict([text])\n",
    "            #takes predictions, converts to a flattened array\n",
    "            predicted_labels = multilabel_prediction.toarray().flatten()\n",
    "            #list of toxicity types\n",
    "            toxicity_types = ['toxic', 'severe_toxic', 'obscene', \n",
    "           'threat', 'insult', 'identity_hate']\n",
    "            \n",
    "            #getting index of predicted positive labels, taking that index and pulling out toxicity types at that same index\n",
    "            predicted_column_names = [toxicity_types[i] for i, label in enumerate(predicted_labels) if label == 1]\n",
    "            #returns toxicity types\n",
    "            return predicted_column_names\n",
    "        #or returns neutral if the prediction was 0 in the binary classifier\n",
    "        else:\n",
    "            return ['neutral']\n",
    "\n",
    "  \n"
   ]
  },
  {
   "cell_type": "code",
   "execution_count": 22,
   "metadata": {},
   "outputs": [],
   "source": [
    "sequential_model = SequentialModel(binary_model, multilabel_model)"
   ]
  },
  {
   "cell_type": "code",
   "execution_count": 23,
   "metadata": {},
   "outputs": [],
   "source": [
    "comment1 = 'Today is a great day for a presentation'\n",
    "comment2 = 'Today super sucks and I hate it! You stupid idiot'"
   ]
  },
  {
   "cell_type": "code",
   "execution_count": 25,
   "metadata": {},
   "outputs": [
    {
     "data": {
      "text/plain": [
       "['toxic', 'obscene', 'insult']"
      ]
     },
     "execution_count": 25,
     "metadata": {},
     "output_type": "execute_result"
    }
   ],
   "source": [
    "sequential_model.predict(comment2)"
   ]
  },
  {
   "cell_type": "code",
   "execution_count": null,
   "metadata": {},
   "outputs": [],
   "source": [
    "comment"
   ]
  },
  {
   "cell_type": "markdown",
   "metadata": {},
   "source": [
    "Sources:\n",
    "\n",
    "https://www.andrewvillazon.com/custom-scikit-learn-transformers/\n",
    "\n",
    "https://www.youtube.com/watch?v=DctmeFx8s_k"
   ]
  },
  {
   "cell_type": "code",
   "execution_count": null,
   "metadata": {},
   "outputs": [],
   "source": []
  }
 ],
 "metadata": {
  "kernelspec": {
   "display_name": "Python 3",
   "language": "python",
   "name": "python3"
  },
  "language_info": {
   "codemirror_mode": {
    "name": "ipython",
    "version": 3
   },
   "file_extension": ".py",
   "mimetype": "text/x-python",
   "name": "python",
   "nbconvert_exporter": "python",
   "pygments_lexer": "ipython3",
   "version": "3.6.8"
  }
 },
 "nbformat": 4,
 "nbformat_minor": 2
}
